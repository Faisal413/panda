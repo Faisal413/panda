{
 "cells": [
  {
   "cell_type": "markdown",
   "metadata": {},
   "source": [
    "# Pandas: Tabular Data in Python"
   ]
  },
  {
   "cell_type": "markdown",
   "metadata": {},
   "source": [
    "## Objectives\n",
    "\n",
    "* Create `Series` and `DataFrame` objects from Python data types. \n",
    "* Create `DataFrame` objects from files.\n",
    "* Index and slice `pandas` objects.\n",
    "* Aggregate data in `DataFrame`s.\n",
    "* Join multiple `DataFrame` objects."
   ]
  },
  {
   "cell_type": "markdown",
   "metadata": {},
   "source": [
    "## What is Pandas?\n",
    "\n",
    "A Python library providing data structures and data analysis tools for tabular data of many types. Think of a `DataFrame` like a table in SQL. \n",
    "\n",
    "We will use this pretty much every day from here on out. So be sure to complete the assignment, and even do it again if you aren't feeling comfortable."
   ]
  },
  {
   "cell_type": "markdown",
   "metadata": {},
   "source": [
    "## Benefits\n",
    "\n",
    "  * Efficient storage and processing of data.\n",
    "  * Includes many built-in functions for data transformation, aggregations, and plotting.\n",
    "  * Great for exploratory work.\n",
    "\n",
    "## Not so greats\n",
    "\n",
    "  * Does not scale terribly well to VERY large datasets.\n",
    "\n",
    "## Documentation:\n",
    "\n",
    "The documentation for pandas is here:\n",
    "\n",
    "  * http://pandas.pydata.org/pandas-docs/stable/index.html\n",
    "  \n",
    "  \n",
    "But we suggest using this cheetsheet as you go:\n",
    "\n",
    "  * https://pandas.pydata.org/Pandas_Cheat_Sheet.pdf\n",
    "\n",
    "\n",
    "Particularly important reads (eventually) are:\n",
    "\n",
    "  * [Indexing and Selecting](https://pandas.pydata.org/pandas-docs/stable/indexing.html)\n",
    "  * [Advanced Indexing](http://pandas.pydata.org/pandas-docs/stable/advanced.html#advanced-mi-slicers)\n",
    "  * [Group-by](https://pandas.pydata.org/pandas-docs/stable/groupby.html)"
   ]
  },
  {
   "cell_type": "markdown",
   "metadata": {},
   "source": [
    "## Standard Imports"
   ]
  },
  {
   "cell_type": "code",
   "execution_count": 1,
   "metadata": {},
   "outputs": [],
   "source": [
    "%matplotlib inline\n",
    "\n",
    "import pandas as pd\n",
    "import numpy as np\n",
    "import matplotlib.pyplot as plt\n",
    "\n",
    "plt.style.use('ggplot')"
   ]
  },
  {
   "cell_type": "markdown",
   "metadata": {},
   "source": [
    "## Numpy: A Quick Primer"
   ]
  },
  {
   "cell_type": "markdown",
   "metadata": {},
   "source": [
    "`pandas` is built out of data types from `numpy` a lower level library.\n",
    "\n",
    "The basic object in `numpy` is an `array`."
   ]
  },
  {
   "cell_type": "code",
   "execution_count": 2,
   "metadata": {},
   "outputs": [
    {
     "data": {
      "text/plain": [
       "array([0, 1, 2, 3, 4, 5])"
      ]
     },
     "execution_count": 2,
     "metadata": {},
     "output_type": "execute_result"
    }
   ],
   "source": [
    "x = np.array([0, 1, 2, 3, 4, 5])\n",
    "x"
   ]
  },
  {
   "cell_type": "markdown",
   "metadata": {},
   "source": [
    "Arrays can be processed very efficiently."
   ]
  },
  {
   "cell_type": "code",
   "execution_count": 6,
   "metadata": {},
   "outputs": [
    {
     "data": {
      "text/plain": [
       "15"
      ]
     },
     "execution_count": 6,
     "metadata": {},
     "output_type": "execute_result"
    }
   ],
   "source": [
    "x.sum()  # <-- As efficient as possible way to sum these numbers in python."
   ]
  },
  {
   "cell_type": "markdown",
   "metadata": {},
   "source": [
    "Arrays can be multi-dimensional.  A **two-dimensional array** is called a **matrix**."
   ]
  },
  {
   "cell_type": "code",
   "execution_count": 3,
   "metadata": {},
   "outputs": [
    {
     "data": {
      "text/plain": [
       "array([[0, 1, 2],\n",
       "       [1, 2, 3],\n",
       "       [2, 3, 4],\n",
       "       [5, 6, 7]])"
      ]
     },
     "execution_count": 3,
     "metadata": {},
     "output_type": "execute_result"
    }
   ],
   "source": [
    "M = np.array([\n",
    "    [0, 1, 2],\n",
    "    [1, 2, 3],\n",
    "    [2, 3, 4],\n",
    "    [5, 6, 7]\n",
    "])\n",
    "\n",
    "M"
   ]
  },
  {
   "cell_type": "code",
   "execution_count": 4,
   "metadata": {},
   "outputs": [
    {
     "name": "stdout",
     "output_type": "stream",
     "text": [
      "(6,)\n",
      "(4, 3)\n"
     ]
    }
   ],
   "source": [
    "print(x.shape)\n",
    "print(M.shape)"
   ]
  },
  {
   "cell_type": "markdown",
   "metadata": {},
   "source": [
    "## Adding index and a label to an array"
   ]
  },
  {
   "cell_type": "markdown",
   "metadata": {},
   "source": [
    "The most basic datatype in pandas is the 'series'. It's like a vector array, but with dressing."
   ]
  },
  {
   "cell_type": "code",
   "execution_count": 5,
   "metadata": {},
   "outputs": [
    {
     "data": {
      "text/plain": [
       "0    34\n",
       "1    35\n",
       "2    36\n",
       "3    37\n",
       "4    38\n",
       "dtype: int32"
      ]
     },
     "execution_count": 5,
     "metadata": {},
     "output_type": "execute_result"
    }
   ],
   "source": [
    "heights = np.array([34, 35, 36, 37, 38])\n",
    "student_heights = pd.Series(heights)\n",
    "student_heights"
   ]
  },
  {
   "cell_type": "markdown",
   "metadata": {},
   "source": [
    "The numpy array is still in there. Easily accessible with '.values'."
   ]
  },
  {
   "cell_type": "code",
   "execution_count": 7,
   "metadata": {},
   "outputs": [
    {
     "data": {
      "text/plain": [
       "array([34, 35, 36, 37, 38])"
      ]
     },
     "execution_count": 7,
     "metadata": {},
     "output_type": "execute_result"
    }
   ],
   "source": [
    "student_heights.values"
   ]
  },
  {
   "cell_type": "markdown",
   "metadata": {},
   "source": [
    "The '0,1,2,3,4' part is called the index. If you don't set the index it's '0,1,2,3' by default.\n",
    "\n",
    "You can access it with '.index'"
   ]
  },
  {
   "cell_type": "code",
   "execution_count": 8,
   "metadata": {},
   "outputs": [
    {
     "data": {
      "text/plain": [
       "RangeIndex(start=0, stop=5, step=1)"
      ]
     },
     "execution_count": 8,
     "metadata": {},
     "output_type": "execute_result"
    }
   ],
   "source": [
    "student_heights.index"
   ]
  },
  {
   "cell_type": "markdown",
   "metadata": {},
   "source": [
    "Notice it stores the index as a [iterable](https://www.programiz.com/python-programming/iterator)."
   ]
  },
  {
   "cell_type": "code",
   "execution_count": 9,
   "metadata": {},
   "outputs": [
    {
     "data": {
      "text/plain": [
       "pandas.core.indexes.range.RangeIndex"
      ]
     },
     "execution_count": 9,
     "metadata": {},
     "output_type": "execute_result"
    }
   ],
   "source": [
    "type(student_heights.index)"
   ]
  },
  {
   "cell_type": "code",
   "execution_count": 10,
   "metadata": {},
   "outputs": [
    {
     "data": {
      "text/plain": [
       "[0, 1, 2, 3, 4]"
      ]
     },
     "execution_count": 10,
     "metadata": {},
     "output_type": "execute_result"
    }
   ],
   "source": [
    "list(student_heights.index)"
   ]
  },
  {
   "cell_type": "markdown",
   "metadata": {},
   "source": [
    "We could manually change it"
   ]
  },
  {
   "cell_type": "code",
   "execution_count": 13,
   "metadata": {},
   "outputs": [],
   "source": [
    "student_heights.index = [\"Tomas\", \"Angel\", \"Stacy\", \"Michaela\", \"Haden\"]"
   ]
  },
  {
   "cell_type": "code",
   "execution_count": 14,
   "metadata": {},
   "outputs": [
    {
     "data": {
      "text/plain": [
       "Tomas       34\n",
       "Angel       35\n",
       "Stacy       36\n",
       "Michaela    37\n",
       "Haden       38\n",
       "dtype: int32"
      ]
     },
     "execution_count": 14,
     "metadata": {},
     "output_type": "execute_result"
    }
   ],
   "source": [
    "student_heights"
   ]
  },
  {
   "cell_type": "markdown",
   "metadata": {},
   "source": [
    "#### So what?"
   ]
  },
  {
   "cell_type": "markdown",
   "metadata": {},
   "source": [
    "So, now we can use __words__ to access items in the series. Not unlike a dictionary."
   ]
  },
  {
   "cell_type": "code",
   "execution_count": 15,
   "metadata": {},
   "outputs": [
    {
     "data": {
      "text/plain": [
       "37"
      ]
     },
     "execution_count": 15,
     "metadata": {},
     "output_type": "execute_result"
    }
   ],
   "source": [
    "student_heights['Michaela']"
   ]
  },
  {
   "cell_type": "markdown",
   "metadata": {},
   "source": [
    "But unlike a dictionary, the series still has an order."
   ]
  },
  {
   "cell_type": "code",
   "execution_count": 16,
   "metadata": {},
   "outputs": [
    {
     "data": {
      "text/plain": [
       "36"
      ]
     },
     "execution_count": 16,
     "metadata": {},
     "output_type": "execute_result"
    }
   ],
   "source": [
    "student_heights[2]"
   ]
  },
  {
   "cell_type": "markdown",
   "metadata": {},
   "source": [
    "Also unlike a dictionary, we get the numpy methods for free. Plus a few more."
   ]
  },
  {
   "cell_type": "code",
   "execution_count": 17,
   "metadata": {},
   "outputs": [
    {
     "data": {
      "text/plain": [
       "36.0"
      ]
     },
     "execution_count": 17,
     "metadata": {},
     "output_type": "execute_result"
    }
   ],
   "source": [
    "student_heights.mean()"
   ]
  },
  {
   "cell_type": "markdown",
   "metadata": {},
   "source": [
    "You can see the function parameters by typing \n",
    "```python\n",
    "pd.Series()\n",
    "```\n",
    "putting your cursor in between those '()' and hitting 'shift+tab'.\n",
    "\n",
    "Try it!"
   ]
  },
  {
   "cell_type": "code",
   "execution_count": null,
   "metadata": {},
   "outputs": [],
   "source": [
    "#Type pd.Series() here:\n",
    "\n",
    "\n"
   ]
  },
  {
   "cell_type": "markdown",
   "metadata": {},
   "source": [
    "### Question:\n",
    "\n",
    "What are the parameters of pd.Series()?"
   ]
  },
  {
   "cell_type": "code",
   "execution_count": null,
   "metadata": {},
   "outputs": [],
   "source": [
    "# write here:\n",
    "\n"
   ]
  },
  {
   "cell_type": "markdown",
   "metadata": {},
   "source": [
    "<p>(Please type SOME actual answer before checking the solution. Even if you have NO IDEA. Just guess. It's good for you.)<p/>\n",
    "\n",
    "\n",
    "<details><summary>Solution\n",
    "</summary>\n",
    "\n",
    "```python\n",
    "> help(pd.Series)       (OR use the 'shift+tab' command)\n",
    "\n",
    "Series(data=None, index=None, dtype=None, name=None, copy=False, fastpath=False)\n",
    "```\n",
    "</details>"
   ]
  },
  {
   "cell_type": "markdown",
   "metadata": {},
   "source": [
    "### Question:\n",
    "\n",
    "> PLEASE, NEVER EVER EVER COPY-PASTE WHILE DOING THESE QUESTIONS. OR ITS WRITER WILL HAUNT YOU. (AKA you won't learn to code it from memory. And in three weeks you'll realize you don't know it. We've seen it time and time again. It's worth it.) Make a second window if you need to copy code verbatum. Please.\n",
    "\n",
    "> For variables you've defined or loaded use 'tab completion.' For example:\n",
    ">\n",
    ">\n",
    "> Below type 'bra' + tab and watch the remainder populate. It can be hard to remember but it REALLY HELPS.\n",
    "\n",
    "Make a series 'brag_vow' with index 'i am a numpy champ'. And values 'So Pandas here I come\".\n",
    "\n",
    "```python \n",
    "\n",
    "print(brag_vow)\n",
    "\n",
    "I            So\n",
    "am       Pandas\n",
    "a          here\n",
    "numpy         I\n",
    "champ      come\n",
    "dtype: object\n",
    "```"
   ]
  },
  {
   "cell_type": "code",
   "execution_count": null,
   "metadata": {},
   "outputs": [],
   "source": [
    "# write here:\n",
    "\n"
   ]
  },
  {
   "cell_type": "markdown",
   "metadata": {},
   "source": [
    "<p>(Please type SOME actual answer before checking the solution. Even if you have NO IDEA. Just guess. It's good for you.)<p/>\n",
    "\n",
    "\n",
    "<details><summary>Solution\n",
    "</summary>\n",
    "\n",
    "```python\n",
    "brag_vow = pd.Series(data=[\"So\", \"Pandas\", \"here\", \"I\", \"come\"], index=[\"I\", \"am\", \"a\", \"numpy\", \"champ\"])\n",
    "brag_vow\n",
    "```\n",
    "</details>"
   ]
  },
  {
   "cell_type": "markdown",
   "metadata": {},
   "source": [
    "### Question:\n",
    "\n",
    "return the last three elements of 'brag_vow'\n",
    "\n",
    "```python \n",
    "a          here\n",
    "numpy         I\n",
    "champ      come\n",
    "dtype: object\n",
    "```"
   ]
  },
  {
   "cell_type": "code",
   "execution_count": null,
   "metadata": {},
   "outputs": [],
   "source": [
    "# write here:\n",
    "\n"
   ]
  },
  {
   "cell_type": "markdown",
   "metadata": {},
   "source": [
    "<p>(Please type SOME actual answer before checking the solution. Even if you have NO IDEA. Just guess. It's good for you.)<p/>\n",
    "\n",
    "\n",
    "<details><summary>Solution\n",
    "</summary>\n",
    "\n",
    "```python\n",
    "brag_vow[2:]\n",
    "```\n",
    "</details>"
   ]
  },
  {
   "cell_type": "markdown",
   "metadata": {},
   "source": [
    "### Question:\n",
    "\n",
    "Please return the elements correlating only with index 'I a champ'. Do not use numerical index.\n",
    "\n",
    "```python \n",
    "I          So\n",
    "a        here\n",
    "champ    come\n",
    "dtype: object\n",
    "```"
   ]
  },
  {
   "cell_type": "code",
   "execution_count": null,
   "metadata": {},
   "outputs": [],
   "source": [
    "# write here:\n"
   ]
  },
  {
   "cell_type": "markdown",
   "metadata": {},
   "source": [
    "<details><summary>Solution\n",
    "</summary>\n",
    "\n",
    "```python\n",
    "brag_vow[['I', 'a', 'champ']]\n",
    "```\n",
    "</details>"
   ]
  },
  {
   "cell_type": "markdown",
   "metadata": {},
   "source": [
    "### Question:\n",
    "\n",
    "From student_heights, please return the students with even heights. Use boolean indexing.\n",
    "\n",
    "(if you don't know what 'boolean indexing' is, please refer to the numpy assignment. You'll need it.)\n",
    "\n",
    "```python \n",
    "Tomas    34\n",
    "Stacy    36\n",
    "Haden    38\n",
    "dtype: int64\n",
    "```"
   ]
  },
  {
   "cell_type": "code",
   "execution_count": null,
   "metadata": {},
   "outputs": [],
   "source": [
    "# write here:\n",
    "\n"
   ]
  },
  {
   "cell_type": "markdown",
   "metadata": {},
   "source": [
    "<details><summary>Solution\n",
    "</summary>\n",
    "\n",
    "```python\n",
    "student_heights[student_heights%2==0]\n",
    "```\n",
    "</details>"
   ]
  },
  {
   "cell_type": "markdown",
   "metadata": {},
   "source": [
    "### Question:\n",
    "\n",
    "Return the 'vow' from brag_vow.\n",
    "\n",
    "```python \n",
    "array(['So', 'Pandas', 'here', 'I', 'come'], dtype=object)\n",
    "```"
   ]
  },
  {
   "cell_type": "code",
   "execution_count": null,
   "metadata": {},
   "outputs": [],
   "source": [
    "# write here:\n",
    "\n"
   ]
  },
  {
   "cell_type": "markdown",
   "metadata": {},
   "source": [
    "<details><summary>Solution\n",
    "</summary>\n",
    "\n",
    "```python\n",
    "brag_vow.values\n",
    "```\n",
    "</details>"
   ]
  },
  {
   "cell_type": "markdown",
   "metadata": {},
   "source": [
    "### Question:\n",
    "\n",
    "Return the 'brag' from brag_vow.\n",
    "\n",
    "```python \n",
    "Index(['I', 'am', 'a', 'numpy', 'champ'], dtype='object')\n",
    "```"
   ]
  },
  {
   "cell_type": "code",
   "execution_count": null,
   "metadata": {},
   "outputs": [],
   "source": [
    "# write here:\n",
    "\n"
   ]
  },
  {
   "cell_type": "markdown",
   "metadata": {},
   "source": [
    "<details><summary>Solution\n",
    "</summary>\n",
    "\n",
    "```python\n",
    "brag_vow.index\n",
    "```\n",
    "</details>"
   ]
  },
  {
   "cell_type": "markdown",
   "metadata": {},
   "source": [
    "# Series names"
   ]
  },
  {
   "cell_type": "markdown",
   "metadata": {},
   "source": [
    "Series have something called 'names'"
   ]
  },
  {
   "cell_type": "code",
   "execution_count": 18,
   "metadata": {},
   "outputs": [],
   "source": [
    "student_grades = pd.Series([45,56,78,89,90], \n",
    "                           index=['Tomas', 'Angel', 'Stacy', 'Michaela', 'Haden'], \n",
    "                           name='grades')"
   ]
  },
  {
   "cell_type": "code",
   "execution_count": 19,
   "metadata": {},
   "outputs": [
    {
     "data": {
      "text/plain": [
       "Tomas       45\n",
       "Angel       56\n",
       "Stacy       78\n",
       "Michaela    89\n",
       "Haden       90\n",
       "Name: grades, dtype: int64"
      ]
     },
     "execution_count": 19,
     "metadata": {},
     "output_type": "execute_result"
    }
   ],
   "source": [
    "student_grades"
   ]
  },
  {
   "cell_type": "markdown",
   "metadata": {},
   "source": [
    "See the name there? Great."
   ]
  },
  {
   "cell_type": "markdown",
   "metadata": {},
   "source": [
    "That's all. We'll use it later."
   ]
  },
  {
   "cell_type": "markdown",
   "metadata": {},
   "source": [
    "### Creating DataFrames from Python Objects"
   ]
  },
  {
   "cell_type": "markdown",
   "metadata": {},
   "source": [
    "So we know how to use series. Awesome.\n",
    "\n",
    "But perhaps you noticed we have two series: student_heights and student_grades. Each has the same students in the index. Wouldn't it be cool if we could access all the student data at once?\n",
    "\n",
    "To do this, we use a dataframe."
   ]
  },
  {
   "cell_type": "code",
   "execution_count": 20,
   "metadata": {},
   "outputs": [
    {
     "data": {
      "text/html": [
       "<div>\n",
       "<style scoped>\n",
       "    .dataframe tbody tr th:only-of-type {\n",
       "        vertical-align: middle;\n",
       "    }\n",
       "\n",
       "    .dataframe tbody tr th {\n",
       "        vertical-align: top;\n",
       "    }\n",
       "\n",
       "    .dataframe thead th {\n",
       "        text-align: right;\n",
       "    }\n",
       "</style>\n",
       "<table border=\"1\" class=\"dataframe\">\n",
       "  <thead>\n",
       "    <tr style=\"text-align: right;\">\n",
       "      <th></th>\n",
       "      <th>grade</th>\n",
       "      <th>height</th>\n",
       "    </tr>\n",
       "  </thead>\n",
       "  <tbody>\n",
       "    <tr>\n",
       "      <th>Tomas</th>\n",
       "      <td>45</td>\n",
       "      <td>34</td>\n",
       "    </tr>\n",
       "    <tr>\n",
       "      <th>Angel</th>\n",
       "      <td>56</td>\n",
       "      <td>35</td>\n",
       "    </tr>\n",
       "    <tr>\n",
       "      <th>Stacy</th>\n",
       "      <td>78</td>\n",
       "      <td>36</td>\n",
       "    </tr>\n",
       "    <tr>\n",
       "      <th>Michaela</th>\n",
       "      <td>89</td>\n",
       "      <td>37</td>\n",
       "    </tr>\n",
       "    <tr>\n",
       "      <th>Haden</th>\n",
       "      <td>90</td>\n",
       "      <td>38</td>\n",
       "    </tr>\n",
       "  </tbody>\n",
       "</table>\n",
       "</div>"
      ],
      "text/plain": [
       "          grade  height\n",
       "Tomas        45      34\n",
       "Angel        56      35\n",
       "Stacy        78      36\n",
       "Michaela     89      37\n",
       "Haden        90      38"
      ]
     },
     "execution_count": 20,
     "metadata": {},
     "output_type": "execute_result"
    }
   ],
   "source": [
    "students = pd.DataFrame({'grade':student_grades, 'height':student_heights})\n",
    "students"
   ]
  },
  {
   "cell_type": "markdown",
   "metadata": {},
   "source": [
    "There are AT LEAST two ways to think of a dataframe.\n",
    "\n",
    "One is as a mulitple series with matching index. The other is as a numpy array with explicitly labeled columns and rows.\n",
    "\n",
    "The truth is, they're BOTH."
   ]
  },
  {
   "cell_type": "code",
   "execution_count": 21,
   "metadata": {},
   "outputs": [
    {
     "data": {
      "text/plain": [
       "array([[45, 34],\n",
       "       [56, 35],\n",
       "       [78, 36],\n",
       "       [89, 37],\n",
       "       [90, 38]], dtype=int64)"
      ]
     },
     "execution_count": 21,
     "metadata": {},
     "output_type": "execute_result"
    }
   ],
   "source": [
    "# numpy array:\n",
    "students.values"
   ]
  },
  {
   "cell_type": "code",
   "execution_count": 22,
   "metadata": {},
   "outputs": [
    {
     "data": {
      "text/plain": [
       "Tomas       45\n",
       "Angel       56\n",
       "Stacy       78\n",
       "Michaela    89\n",
       "Haden       90\n",
       "Name: grade, dtype: int64"
      ]
     },
     "execution_count": 22,
     "metadata": {},
     "output_type": "execute_result"
    }
   ],
   "source": [
    "# pandas series:\n",
    "students['grade']"
   ]
  },
  {
   "cell_type": "markdown",
   "metadata": {},
   "source": [
    "We could also create DataFrames from numpy arrays or list-of-lists with provided labels and indices. The `columns=` parameter specifies the names for the columns; the `index=` specifies the names for the rows."
   ]
  },
  {
   "cell_type": "code",
   "execution_count": 23,
   "metadata": {
    "scrolled": true
   },
   "outputs": [
    {
     "data": {
      "text/html": [
       "<div>\n",
       "<style scoped>\n",
       "    .dataframe tbody tr th:only-of-type {\n",
       "        vertical-align: middle;\n",
       "    }\n",
       "\n",
       "    .dataframe tbody tr th {\n",
       "        vertical-align: top;\n",
       "    }\n",
       "\n",
       "    .dataframe thead th {\n",
       "        text-align: right;\n",
       "    }\n",
       "</style>\n",
       "<table border=\"1\" class=\"dataframe\">\n",
       "  <thead>\n",
       "    <tr style=\"text-align: right;\">\n",
       "      <th></th>\n",
       "      <th>a</th>\n",
       "      <th>b</th>\n",
       "      <th>c</th>\n",
       "    </tr>\n",
       "  </thead>\n",
       "  <tbody>\n",
       "    <tr>\n",
       "      <th>foo</th>\n",
       "      <td>1</td>\n",
       "      <td>2</td>\n",
       "      <td>3</td>\n",
       "    </tr>\n",
       "    <tr>\n",
       "      <th>bar</th>\n",
       "      <td>4</td>\n",
       "      <td>5</td>\n",
       "      <td>6</td>\n",
       "    </tr>\n",
       "  </tbody>\n",
       "</table>\n",
       "</div>"
      ],
      "text/plain": [
       "     a  b  c\n",
       "foo  1  2  3\n",
       "bar  4  5  6"
      ]
     },
     "execution_count": 23,
     "metadata": {},
     "output_type": "execute_result"
    }
   ],
   "source": [
    "pd.DataFrame(\n",
    "    data = [[1, 2, 3], \n",
    "            [4, 5, 6]], \n",
    "    columns=['a', 'b', 'c'], \n",
    "    index=['foo', 'bar'])"
   ]
  },
  {
   "cell_type": "markdown",
   "metadata": {},
   "source": [
    "You might notice in pandas that, unlike python, there are MANY ways to do any one thing. This makes learning harder. But here we go anyways."
   ]
  },
  {
   "cell_type": "markdown",
   "metadata": {},
   "source": [
    "### Question:\n",
    "\n",
    "Make a dataframe 'classrooms' that contains this\n",
    "\n",
    "```python \n",
    "> print(classrooms)\n",
    "\n",
    "         chairs  projectors\n",
    "gym           0           1\n",
    "history       2           3\n",
    "math          4           5\n",
    "english       6           7\n",
    "```"
   ]
  },
  {
   "cell_type": "code",
   "execution_count": null,
   "metadata": {},
   "outputs": [],
   "source": [
    "# write here:\n",
    "\n"
   ]
  },
  {
   "cell_type": "markdown",
   "metadata": {},
   "source": [
    "<details><summary>Solution\n",
    "</summary>\n",
    "\n",
    "```python\n",
    "classrooms = pd.DataFrame(data=np.arange(8).reshape((4,2)),\n",
    "                          columns=['chairs', 'projectors'],\n",
    "                          index=['gym','history','math','english'])\n",
    "\n",
    "# or\n",
    "\n",
    "classrooms = pd.DataFrame(data=np.array([[0, 1],\n",
    "                                         [2, 3],\n",
    "                                         [4, 5],\n",
    "                                         [6, 7]]),\n",
    "                          columns=['chairs', 'projectors'],\n",
    "                          index=['gym','history','math','english'])\n",
    "```\n",
    "</details>"
   ]
  },
  {
   "cell_type": "markdown",
   "metadata": {},
   "source": [
    "### Question:\n",
    "\n",
    "Make a series 'chairs' like so. \n",
    "\n",
    "```python \n",
    "gym        0\n",
    "history    2\n",
    "math       4\n",
    "english    6\n",
    "Name: chairs, dtype: int64\n",
    "```"
   ]
  },
  {
   "cell_type": "code",
   "execution_count": null,
   "metadata": {},
   "outputs": [],
   "source": [
    "# write here:\n",
    "\n"
   ]
  },
  {
   "cell_type": "markdown",
   "metadata": {},
   "source": [
    "<details><summary>Solution\n",
    "</summary>\n",
    "\n",
    "```python\n",
    "chairs = pd.Series(data=range(0,8,2), index=['gym','history','math','english'], name='chairs')\n",
    "chairs\n",
    "```\n",
    "</details>"
   ]
  },
  {
   "cell_type": "markdown",
   "metadata": {},
   "source": [
    "### Question:\n",
    "\n",
    "Make a series 'projectors' like so. \n",
    "\n",
    "```python \n",
    "gym        1\n",
    "history    3\n",
    "math       5\n",
    "english    7\n",
    "Name: projectors, dtype: int64\n",
    "```"
   ]
  },
  {
   "cell_type": "code",
   "execution_count": null,
   "metadata": {},
   "outputs": [],
   "source": [
    "# write here:\n",
    "\n"
   ]
  },
  {
   "cell_type": "markdown",
   "metadata": {},
   "source": [
    "<details><summary>Solution\n",
    "</summary>\n",
    "\n",
    "```python\n",
    "projectors = pd.Series(data=range(1,8,2), index=['gym','history','math','english'], name='projectors')\n",
    "projectors\n",
    "```\n",
    "</details>"
   ]
  },
  {
   "cell_type": "markdown",
   "metadata": {},
   "source": [
    "### Question:\n",
    "\n",
    "Make the 'classrooms' dataframe again, but this time by using the 'chairs' and 'projectors' series.\n",
    "\n",
    "```python \n",
    "> print(classrooms)\n",
    "\n",
    "         chairs  projectors\n",
    "gym           0           1\n",
    "history       2           3\n",
    "math          4           5\n",
    "english       6           7\n",
    "```"
   ]
  },
  {
   "cell_type": "code",
   "execution_count": null,
   "metadata": {},
   "outputs": [],
   "source": [
    "# write here:\n",
    "\n"
   ]
  },
  {
   "cell_type": "markdown",
   "metadata": {},
   "source": [
    "<details><summary>Solution\n",
    "</summary>\n",
    "\n",
    "```python\n",
    "classrooms = pd.DataFrame(data={'chairs':chairs, 'projectors':projectors})\n",
    "classrooms\n",
    "```\n",
    "</details>"
   ]
  },
  {
   "cell_type": "markdown",
   "metadata": {},
   "source": [
    "### Question:\n",
    "\n",
    "Create a dataframe 'down_up' with two columns: `decreasing` and `increasing`, that have the numbers 1-10 in increasing and decreasing orders. The index can be anything.\n",
    "\n",
    "```python\n",
    "> print(down_up)\n",
    "\n",
    "   decreasing  increasing\n",
    "0          10           1\n",
    "1           9           2\n",
    "2           8           3\n",
    "3           7           4\n",
    "4           6           5\n",
    "5           5           6\n",
    "6           4           7\n",
    "7           3           8\n",
    "8           2           9\n",
    "9           1          10\n",
    "```"
   ]
  },
  {
   "cell_type": "code",
   "execution_count": null,
   "metadata": {},
   "outputs": [],
   "source": [
    "# write here:\n",
    "\n"
   ]
  },
  {
   "cell_type": "markdown",
   "metadata": {},
   "source": [
    "<details><summary>Solution\n",
    "</summary>\n",
    "\n",
    "```python\n",
    "down_up = pd.DataFrame(data={'decreasing': range(10,0,-1), 'increasing':range(1,11)})\n",
    "down_up\n",
    "```\n",
    "Those ranges are tricky aren't they?\n",
    "</details>"
   ]
  },
  {
   "cell_type": "markdown",
   "metadata": {},
   "source": [
    "You can also put a Series into a DataFrame as long as you have matching index."
   ]
  },
  {
   "cell_type": "markdown",
   "metadata": {},
   "source": [
    "## Modifying dataframes"
   ]
  },
  {
   "cell_type": "markdown",
   "metadata": {},
   "source": [
    "Dataframes are VERY much like numpy arrays with added columns and index.\n",
    "\n",
    "But unlike arrays (which have a fixed size), we CAN add columns to a dataframe!"
   ]
  },
  {
   "cell_type": "code",
   "execution_count": 24,
   "metadata": {
    "scrolled": true
   },
   "outputs": [
    {
     "data": {
      "text/html": [
       "<div>\n",
       "<style scoped>\n",
       "    .dataframe tbody tr th:only-of-type {\n",
       "        vertical-align: middle;\n",
       "    }\n",
       "\n",
       "    .dataframe tbody tr th {\n",
       "        vertical-align: top;\n",
       "    }\n",
       "\n",
       "    .dataframe thead th {\n",
       "        text-align: right;\n",
       "    }\n",
       "</style>\n",
       "<table border=\"1\" class=\"dataframe\">\n",
       "  <thead>\n",
       "    <tr style=\"text-align: right;\">\n",
       "      <th></th>\n",
       "      <th>grade</th>\n",
       "      <th>height</th>\n",
       "      <th>was_late</th>\n",
       "    </tr>\n",
       "  </thead>\n",
       "  <tbody>\n",
       "    <tr>\n",
       "      <th>Tomas</th>\n",
       "      <td>45</td>\n",
       "      <td>34</td>\n",
       "      <td>True</td>\n",
       "    </tr>\n",
       "    <tr>\n",
       "      <th>Angel</th>\n",
       "      <td>56</td>\n",
       "      <td>35</td>\n",
       "      <td>False</td>\n",
       "    </tr>\n",
       "    <tr>\n",
       "      <th>Stacy</th>\n",
       "      <td>78</td>\n",
       "      <td>36</td>\n",
       "      <td>True</td>\n",
       "    </tr>\n",
       "    <tr>\n",
       "      <th>Michaela</th>\n",
       "      <td>89</td>\n",
       "      <td>37</td>\n",
       "      <td>False</td>\n",
       "    </tr>\n",
       "    <tr>\n",
       "      <th>Haden</th>\n",
       "      <td>90</td>\n",
       "      <td>38</td>\n",
       "      <td>False</td>\n",
       "    </tr>\n",
       "  </tbody>\n",
       "</table>\n",
       "</div>"
      ],
      "text/plain": [
       "          grade  height  was_late\n",
       "Tomas        45      34      True\n",
       "Angel        56      35     False\n",
       "Stacy        78      36      True\n",
       "Michaela     89      37     False\n",
       "Haden        90      38     False"
      ]
     },
     "execution_count": 24,
     "metadata": {},
     "output_type": "execute_result"
    }
   ],
   "source": [
    "students['was_late'] = [True, False, True, False, False]\n",
    "students"
   ]
  },
  {
   "cell_type": "markdown",
   "metadata": {},
   "source": [
    "We can also do this by adding an array."
   ]
  },
  {
   "cell_type": "code",
   "execution_count": 25,
   "metadata": {},
   "outputs": [
    {
     "data": {
      "text/html": [
       "<div>\n",
       "<style scoped>\n",
       "    .dataframe tbody tr th:only-of-type {\n",
       "        vertical-align: middle;\n",
       "    }\n",
       "\n",
       "    .dataframe tbody tr th {\n",
       "        vertical-align: top;\n",
       "    }\n",
       "\n",
       "    .dataframe thead th {\n",
       "        text-align: right;\n",
       "    }\n",
       "</style>\n",
       "<table border=\"1\" class=\"dataframe\">\n",
       "  <thead>\n",
       "    <tr style=\"text-align: right;\">\n",
       "      <th></th>\n",
       "      <th>grade</th>\n",
       "      <th>height</th>\n",
       "      <th>was_late</th>\n",
       "    </tr>\n",
       "  </thead>\n",
       "  <tbody>\n",
       "    <tr>\n",
       "      <th>Tomas</th>\n",
       "      <td>45</td>\n",
       "      <td>34</td>\n",
       "      <td>True</td>\n",
       "    </tr>\n",
       "    <tr>\n",
       "      <th>Angel</th>\n",
       "      <td>56</td>\n",
       "      <td>35</td>\n",
       "      <td>False</td>\n",
       "    </tr>\n",
       "    <tr>\n",
       "      <th>Stacy</th>\n",
       "      <td>78</td>\n",
       "      <td>36</td>\n",
       "      <td>True</td>\n",
       "    </tr>\n",
       "    <tr>\n",
       "      <th>Michaela</th>\n",
       "      <td>89</td>\n",
       "      <td>37</td>\n",
       "      <td>False</td>\n",
       "    </tr>\n",
       "    <tr>\n",
       "      <th>Haden</th>\n",
       "      <td>90</td>\n",
       "      <td>38</td>\n",
       "      <td>False</td>\n",
       "    </tr>\n",
       "  </tbody>\n",
       "</table>\n",
       "</div>"
      ],
      "text/plain": [
       "          grade  height  was_late\n",
       "Tomas        45      34      True\n",
       "Angel        56      35     False\n",
       "Stacy        78      36      True\n",
       "Michaela     89      37     False\n",
       "Haden        90      38     False"
      ]
     },
     "execution_count": 25,
     "metadata": {},
     "output_type": "execute_result"
    }
   ],
   "source": [
    "students['was_late'] = np.array([True, False, True, False, False])\n",
    "students"
   ]
  },
  {
   "cell_type": "markdown",
   "metadata": {},
   "source": [
    "But the array must either have a shape of (n, ) or (1, n). Not (n, 1). Which kinda makes sense, because that's trying to fit row into a column."
   ]
  },
  {
   "cell_type": "code",
   "execution_count": 26,
   "metadata": {},
   "outputs": [
    {
     "data": {
      "text/html": [
       "<div>\n",
       "<style scoped>\n",
       "    .dataframe tbody tr th:only-of-type {\n",
       "        vertical-align: middle;\n",
       "    }\n",
       "\n",
       "    .dataframe tbody tr th {\n",
       "        vertical-align: top;\n",
       "    }\n",
       "\n",
       "    .dataframe thead th {\n",
       "        text-align: right;\n",
       "    }\n",
       "</style>\n",
       "<table border=\"1\" class=\"dataframe\">\n",
       "  <thead>\n",
       "    <tr style=\"text-align: right;\">\n",
       "      <th></th>\n",
       "      <th>grade</th>\n",
       "      <th>height</th>\n",
       "      <th>was_late</th>\n",
       "    </tr>\n",
       "  </thead>\n",
       "  <tbody>\n",
       "    <tr>\n",
       "      <th>Tomas</th>\n",
       "      <td>45</td>\n",
       "      <td>34</td>\n",
       "      <td>True</td>\n",
       "    </tr>\n",
       "    <tr>\n",
       "      <th>Angel</th>\n",
       "      <td>56</td>\n",
       "      <td>35</td>\n",
       "      <td>False</td>\n",
       "    </tr>\n",
       "    <tr>\n",
       "      <th>Stacy</th>\n",
       "      <td>78</td>\n",
       "      <td>36</td>\n",
       "      <td>True</td>\n",
       "    </tr>\n",
       "    <tr>\n",
       "      <th>Michaela</th>\n",
       "      <td>89</td>\n",
       "      <td>37</td>\n",
       "      <td>False</td>\n",
       "    </tr>\n",
       "    <tr>\n",
       "      <th>Haden</th>\n",
       "      <td>90</td>\n",
       "      <td>38</td>\n",
       "      <td>False</td>\n",
       "    </tr>\n",
       "  </tbody>\n",
       "</table>\n",
       "</div>"
      ],
      "text/plain": [
       "          grade  height  was_late\n",
       "Tomas        45      34      True\n",
       "Angel        56      35     False\n",
       "Stacy        78      36      True\n",
       "Michaela     89      37     False\n",
       "Haden        90      38     False"
      ]
     },
     "execution_count": 26,
     "metadata": {},
     "output_type": "execute_result"
    }
   ],
   "source": [
    "students['was_late'] = np.array([True, False, True, False, False]).reshape(-1,1)\n",
    "students"
   ]
  },
  {
   "cell_type": "markdown",
   "metadata": {},
   "source": [
    "```python\n",
    "# this would return an error:\n",
    "students['was_late'] = np.array([True, False, True, False, False]).reshape(1,-1)\n",
    "students\n",
    "```"
   ]
  },
  {
   "cell_type": "markdown",
   "metadata": {},
   "source": [
    "So let's get going."
   ]
  },
  {
   "cell_type": "markdown",
   "metadata": {},
   "source": [
    "### Question:\n",
    "\n",
    "Add a column 'top_crush' to 'students'. Which is the name that student has a crush on. (make it up!)\n",
    "\n",
    "```python\n",
    "> print(students)\n",
    "\n",
    "          grade  height  was_late     top_crush\n",
    "Tomas        45      34      True         Angel\n",
    "Angel        56      35     False         Haden\n",
    "Stacy        78      36      True      Michaela\n",
    "Michaela     89      37     False         Tomas\n",
    "Haden        90      38     False  Edgar A. Poe\n",
    "```"
   ]
  },
  {
   "cell_type": "code",
   "execution_count": null,
   "metadata": {},
   "outputs": [],
   "source": [
    "# write here:\n",
    "\n"
   ]
  },
  {
   "cell_type": "markdown",
   "metadata": {},
   "source": [
    "<details><summary>Solution\n",
    "</summary>\n",
    "\n",
    "```python\n",
    "students['top_crush'] = ['Angel', 'Haden', 'Michaela', 'Tomas', 'Edgar A. Poe']\n",
    "print(students)\n",
    "```\n",
    "\n",
    "Alas, love is cruel.\n",
    "</details>"
   ]
  },
  {
   "cell_type": "markdown",
   "metadata": {},
   "source": [
    "## Broadcasting"
   ]
  },
  {
   "cell_type": "markdown",
   "metadata": {},
   "source": [
    "Again, like a numpy array, we can also use broadcasting on a series. Like so."
   ]
  },
  {
   "cell_type": "code",
   "execution_count": 27,
   "metadata": {},
   "outputs": [
    {
     "data": {
      "text/plain": [
       "Tomas       False\n",
       "Angel       False\n",
       "Stacy        True\n",
       "Michaela     True\n",
       "Haden        True\n",
       "Name: grade, dtype: bool"
      ]
     },
     "execution_count": 27,
     "metadata": {},
     "output_type": "execute_result"
    }
   ],
   "source": [
    "students['grade']>75"
   ]
  },
  {
   "cell_type": "markdown",
   "metadata": {},
   "source": [
    "So to make a new column called 'above_75_percent' we would write"
   ]
  },
  {
   "cell_type": "code",
   "execution_count": 28,
   "metadata": {},
   "outputs": [
    {
     "data": {
      "text/html": [
       "<div>\n",
       "<style scoped>\n",
       "    .dataframe tbody tr th:only-of-type {\n",
       "        vertical-align: middle;\n",
       "    }\n",
       "\n",
       "    .dataframe tbody tr th {\n",
       "        vertical-align: top;\n",
       "    }\n",
       "\n",
       "    .dataframe thead th {\n",
       "        text-align: right;\n",
       "    }\n",
       "</style>\n",
       "<table border=\"1\" class=\"dataframe\">\n",
       "  <thead>\n",
       "    <tr style=\"text-align: right;\">\n",
       "      <th></th>\n",
       "      <th>grade</th>\n",
       "      <th>height</th>\n",
       "      <th>was_late</th>\n",
       "      <th>above_75_percent</th>\n",
       "    </tr>\n",
       "  </thead>\n",
       "  <tbody>\n",
       "    <tr>\n",
       "      <th>Tomas</th>\n",
       "      <td>45</td>\n",
       "      <td>34</td>\n",
       "      <td>True</td>\n",
       "      <td>False</td>\n",
       "    </tr>\n",
       "    <tr>\n",
       "      <th>Angel</th>\n",
       "      <td>56</td>\n",
       "      <td>35</td>\n",
       "      <td>False</td>\n",
       "      <td>False</td>\n",
       "    </tr>\n",
       "    <tr>\n",
       "      <th>Stacy</th>\n",
       "      <td>78</td>\n",
       "      <td>36</td>\n",
       "      <td>True</td>\n",
       "      <td>True</td>\n",
       "    </tr>\n",
       "    <tr>\n",
       "      <th>Michaela</th>\n",
       "      <td>89</td>\n",
       "      <td>37</td>\n",
       "      <td>False</td>\n",
       "      <td>True</td>\n",
       "    </tr>\n",
       "    <tr>\n",
       "      <th>Haden</th>\n",
       "      <td>90</td>\n",
       "      <td>38</td>\n",
       "      <td>False</td>\n",
       "      <td>True</td>\n",
       "    </tr>\n",
       "  </tbody>\n",
       "</table>\n",
       "</div>"
      ],
      "text/plain": [
       "          grade  height  was_late  above_75_percent\n",
       "Tomas        45      34      True             False\n",
       "Angel        56      35     False             False\n",
       "Stacy        78      36      True              True\n",
       "Michaela     89      37     False              True\n",
       "Haden        90      38     False              True"
      ]
     },
     "execution_count": 28,
     "metadata": {},
     "output_type": "execute_result"
    }
   ],
   "source": [
    "students['above_75_percent'] = students['grade']>75\n",
    "students"
   ]
  },
  {
   "cell_type": "markdown",
   "metadata": {},
   "source": [
    "This is powerful. You might not feel it yet. But it is."
   ]
  },
  {
   "cell_type": "markdown",
   "metadata": {},
   "source": [
    "### Question:\n",
    "\n",
    "Add a column 'taller_than_35' to students. This can be done using broadcasting on an existing series.\n",
    "\n",
    "```python\n",
    "> print(students[['grade', 'height', 'taller_than_35']])\n",
    "\n",
    "          grade  height  taller_than_35\n",
    "Tomas        45      34           False\n",
    "Angel        56      35           False\n",
    "Stacy        78      36            True\n",
    "Michaela     89      37            True\n",
    "Haden        90      38            True\n",
    "```"
   ]
  },
  {
   "cell_type": "code",
   "execution_count": null,
   "metadata": {},
   "outputs": [],
   "source": [
    "# write here:\n",
    "\n"
   ]
  },
  {
   "cell_type": "markdown",
   "metadata": {},
   "source": [
    "<details><summary>Solution\n",
    "</summary>\n",
    "\n",
    "```python\n",
    "students['taller_than_35'] = students['height']>35\n",
    "print(students[['grade', 'height', 'taller_than_35']])\n",
    "```\n",
    "</details>"
   ]
  },
  {
   "cell_type": "markdown",
   "metadata": {},
   "source": [
    "But buyer beware. The elements in the assignment above are matched **by index**, which is a common pattern in Pandas."
   ]
  },
  {
   "cell_type": "markdown",
   "metadata": {},
   "source": [
    "## Index tricks"
   ]
  },
  {
   "cell_type": "markdown",
   "metadata": {},
   "source": [
    "Let's take a deeper look at this."
   ]
  },
  {
   "cell_type": "code",
   "execution_count": 29,
   "metadata": {},
   "outputs": [],
   "source": [
    "df = pd.DataFrame(\n",
    "    [[1, 2, 3], [4, 5, 6]], \n",
    "    columns=['a', 'b', 'c'], \n",
    "    index=['foo', 'bar'])"
   ]
  },
  {
   "cell_type": "code",
   "execution_count": 30,
   "metadata": {},
   "outputs": [
    {
     "data": {
      "text/html": [
       "<div>\n",
       "<style scoped>\n",
       "    .dataframe tbody tr th:only-of-type {\n",
       "        vertical-align: middle;\n",
       "    }\n",
       "\n",
       "    .dataframe tbody tr th {\n",
       "        vertical-align: top;\n",
       "    }\n",
       "\n",
       "    .dataframe thead th {\n",
       "        text-align: right;\n",
       "    }\n",
       "</style>\n",
       "<table border=\"1\" class=\"dataframe\">\n",
       "  <thead>\n",
       "    <tr style=\"text-align: right;\">\n",
       "      <th></th>\n",
       "      <th>a</th>\n",
       "      <th>b</th>\n",
       "      <th>c</th>\n",
       "      <th>d</th>\n",
       "    </tr>\n",
       "  </thead>\n",
       "  <tbody>\n",
       "    <tr>\n",
       "      <th>foo</th>\n",
       "      <td>1</td>\n",
       "      <td>2</td>\n",
       "      <td>3</td>\n",
       "      <td>5</td>\n",
       "    </tr>\n",
       "    <tr>\n",
       "      <th>bar</th>\n",
       "      <td>4</td>\n",
       "      <td>5</td>\n",
       "      <td>6</td>\n",
       "      <td>4</td>\n",
       "    </tr>\n",
       "  </tbody>\n",
       "</table>\n",
       "</div>"
      ],
      "text/plain": [
       "     a  b  c  d\n",
       "foo  1  2  3  5\n",
       "bar  4  5  6  4"
      ]
     },
     "execution_count": 30,
     "metadata": {},
     "output_type": "execute_result"
    }
   ],
   "source": [
    "# INDEX IS BACKWARDS\n",
    "df['d'] = pd.Series([4, 5], index=['bar', 'foo'])\n",
    "df"
   ]
  },
  {
   "cell_type": "markdown",
   "metadata": {},
   "source": [
    "If no indices match, missing values are filled into the unmatched spaces."
   ]
  },
  {
   "cell_type": "code",
   "execution_count": 31,
   "metadata": {},
   "outputs": [
    {
     "data": {
      "text/html": [
       "<div>\n",
       "<style scoped>\n",
       "    .dataframe tbody tr th:only-of-type {\n",
       "        vertical-align: middle;\n",
       "    }\n",
       "\n",
       "    .dataframe tbody tr th {\n",
       "        vertical-align: top;\n",
       "    }\n",
       "\n",
       "    .dataframe thead th {\n",
       "        text-align: right;\n",
       "    }\n",
       "</style>\n",
       "<table border=\"1\" class=\"dataframe\">\n",
       "  <thead>\n",
       "    <tr style=\"text-align: right;\">\n",
       "      <th></th>\n",
       "      <th>a</th>\n",
       "      <th>b</th>\n",
       "      <th>c</th>\n",
       "      <th>d</th>\n",
       "    </tr>\n",
       "  </thead>\n",
       "  <tbody>\n",
       "    <tr>\n",
       "      <th>foo</th>\n",
       "      <td>1</td>\n",
       "      <td>2</td>\n",
       "      <td>3</td>\n",
       "      <td>NaN</td>\n",
       "    </tr>\n",
       "    <tr>\n",
       "      <th>bar</th>\n",
       "      <td>4</td>\n",
       "      <td>5</td>\n",
       "      <td>6</td>\n",
       "      <td>4.0</td>\n",
       "    </tr>\n",
       "  </tbody>\n",
       "</table>\n",
       "</div>"
      ],
      "text/plain": [
       "     a  b  c    d\n",
       "foo  1  2  3  NaN\n",
       "bar  4  5  6  4.0"
      ]
     },
     "execution_count": 31,
     "metadata": {},
     "output_type": "execute_result"
    }
   ],
   "source": [
    "df['d'] = pd.Series([4, 5], index=['bar', 'baz'])\n",
    "df"
   ]
  },
  {
   "cell_type": "markdown",
   "metadata": {},
   "source": [
    "We can also put a list/vector into a DataFrame, and here there is no index, so the column is inserted in order."
   ]
  },
  {
   "cell_type": "code",
   "execution_count": 32,
   "metadata": {},
   "outputs": [
    {
     "data": {
      "text/html": [
       "<div>\n",
       "<style scoped>\n",
       "    .dataframe tbody tr th:only-of-type {\n",
       "        vertical-align: middle;\n",
       "    }\n",
       "\n",
       "    .dataframe tbody tr th {\n",
       "        vertical-align: top;\n",
       "    }\n",
       "\n",
       "    .dataframe thead th {\n",
       "        text-align: right;\n",
       "    }\n",
       "</style>\n",
       "<table border=\"1\" class=\"dataframe\">\n",
       "  <thead>\n",
       "    <tr style=\"text-align: right;\">\n",
       "      <th></th>\n",
       "      <th>a</th>\n",
       "      <th>b</th>\n",
       "      <th>c</th>\n",
       "      <th>d</th>\n",
       "      <th>e</th>\n",
       "    </tr>\n",
       "  </thead>\n",
       "  <tbody>\n",
       "    <tr>\n",
       "      <th>foo</th>\n",
       "      <td>1</td>\n",
       "      <td>2</td>\n",
       "      <td>3</td>\n",
       "      <td>NaN</td>\n",
       "      <td>1</td>\n",
       "    </tr>\n",
       "    <tr>\n",
       "      <th>bar</th>\n",
       "      <td>4</td>\n",
       "      <td>5</td>\n",
       "      <td>6</td>\n",
       "      <td>4.0</td>\n",
       "      <td>2</td>\n",
       "    </tr>\n",
       "  </tbody>\n",
       "</table>\n",
       "</div>"
      ],
      "text/plain": [
       "     a  b  c    d  e\n",
       "foo  1  2  3  NaN  1\n",
       "bar  4  5  6  4.0  2"
      ]
     },
     "execution_count": 32,
     "metadata": {},
     "output_type": "execute_result"
    }
   ],
   "source": [
    "df['e'] = [1, 2]\n",
    "df"
   ]
  },
  {
   "cell_type": "markdown",
   "metadata": {},
   "source": [
    "So be careful if you're using a series:"
   ]
  },
  {
   "cell_type": "markdown",
   "metadata": {},
   "source": [
    "Because without the index, the dataframe just says 'there are no matching rows, silly!' and inserts all NaNs. ('Nan' stands for 'Not a Number')"
   ]
  },
  {
   "cell_type": "code",
   "execution_count": 33,
   "metadata": {
    "scrolled": true
   },
   "outputs": [
    {
     "data": {
      "text/html": [
       "<div>\n",
       "<style scoped>\n",
       "    .dataframe tbody tr th:only-of-type {\n",
       "        vertical-align: middle;\n",
       "    }\n",
       "\n",
       "    .dataframe tbody tr th {\n",
       "        vertical-align: top;\n",
       "    }\n",
       "\n",
       "    .dataframe thead th {\n",
       "        text-align: right;\n",
       "    }\n",
       "</style>\n",
       "<table border=\"1\" class=\"dataframe\">\n",
       "  <thead>\n",
       "    <tr style=\"text-align: right;\">\n",
       "      <th></th>\n",
       "      <th>grade</th>\n",
       "      <th>height</th>\n",
       "      <th>was_late</th>\n",
       "      <th>above_75_percent</th>\n",
       "    </tr>\n",
       "  </thead>\n",
       "  <tbody>\n",
       "    <tr>\n",
       "      <th>Tomas</th>\n",
       "      <td>45</td>\n",
       "      <td>34</td>\n",
       "      <td>NaN</td>\n",
       "      <td>False</td>\n",
       "    </tr>\n",
       "    <tr>\n",
       "      <th>Angel</th>\n",
       "      <td>56</td>\n",
       "      <td>35</td>\n",
       "      <td>NaN</td>\n",
       "      <td>False</td>\n",
       "    </tr>\n",
       "    <tr>\n",
       "      <th>Stacy</th>\n",
       "      <td>78</td>\n",
       "      <td>36</td>\n",
       "      <td>NaN</td>\n",
       "      <td>True</td>\n",
       "    </tr>\n",
       "    <tr>\n",
       "      <th>Michaela</th>\n",
       "      <td>89</td>\n",
       "      <td>37</td>\n",
       "      <td>NaN</td>\n",
       "      <td>True</td>\n",
       "    </tr>\n",
       "    <tr>\n",
       "      <th>Haden</th>\n",
       "      <td>90</td>\n",
       "      <td>38</td>\n",
       "      <td>NaN</td>\n",
       "      <td>True</td>\n",
       "    </tr>\n",
       "  </tbody>\n",
       "</table>\n",
       "</div>"
      ],
      "text/plain": [
       "          grade  height was_late  above_75_percent\n",
       "Tomas        45      34      NaN             False\n",
       "Angel        56      35      NaN             False\n",
       "Stacy        78      36      NaN              True\n",
       "Michaela     89      37      NaN              True\n",
       "Haden        90      38      NaN              True"
      ]
     },
     "execution_count": 33,
     "metadata": {},
     "output_type": "execute_result"
    }
   ],
   "source": [
    "students['was_late'] = pd.Series([True, False, True, False, False])\n",
    "students"
   ]
  },
  {
   "cell_type": "markdown",
   "metadata": {},
   "source": [
    "Adding the index:"
   ]
  },
  {
   "cell_type": "code",
   "execution_count": 34,
   "metadata": {},
   "outputs": [
    {
     "data": {
      "text/html": [
       "<div>\n",
       "<style scoped>\n",
       "    .dataframe tbody tr th:only-of-type {\n",
       "        vertical-align: middle;\n",
       "    }\n",
       "\n",
       "    .dataframe tbody tr th {\n",
       "        vertical-align: top;\n",
       "    }\n",
       "\n",
       "    .dataframe thead th {\n",
       "        text-align: right;\n",
       "    }\n",
       "</style>\n",
       "<table border=\"1\" class=\"dataframe\">\n",
       "  <thead>\n",
       "    <tr style=\"text-align: right;\">\n",
       "      <th></th>\n",
       "      <th>grade</th>\n",
       "      <th>height</th>\n",
       "      <th>was_late</th>\n",
       "      <th>above_75_percent</th>\n",
       "    </tr>\n",
       "  </thead>\n",
       "  <tbody>\n",
       "    <tr>\n",
       "      <th>Tomas</th>\n",
       "      <td>45</td>\n",
       "      <td>34</td>\n",
       "      <td>True</td>\n",
       "      <td>False</td>\n",
       "    </tr>\n",
       "    <tr>\n",
       "      <th>Angel</th>\n",
       "      <td>56</td>\n",
       "      <td>35</td>\n",
       "      <td>False</td>\n",
       "      <td>False</td>\n",
       "    </tr>\n",
       "    <tr>\n",
       "      <th>Stacy</th>\n",
       "      <td>78</td>\n",
       "      <td>36</td>\n",
       "      <td>True</td>\n",
       "      <td>True</td>\n",
       "    </tr>\n",
       "    <tr>\n",
       "      <th>Michaela</th>\n",
       "      <td>89</td>\n",
       "      <td>37</td>\n",
       "      <td>False</td>\n",
       "      <td>True</td>\n",
       "    </tr>\n",
       "    <tr>\n",
       "      <th>Haden</th>\n",
       "      <td>90</td>\n",
       "      <td>38</td>\n",
       "      <td>False</td>\n",
       "      <td>True</td>\n",
       "    </tr>\n",
       "  </tbody>\n",
       "</table>\n",
       "</div>"
      ],
      "text/plain": [
       "          grade  height  was_late  above_75_percent\n",
       "Tomas        45      34      True             False\n",
       "Angel        56      35     False             False\n",
       "Stacy        78      36      True              True\n",
       "Michaela     89      37     False              True\n",
       "Haden        90      38     False              True"
      ]
     },
     "execution_count": 34,
     "metadata": {},
     "output_type": "execute_result"
    }
   ],
   "source": [
    "students['was_late'] = pd.Series([True, False, True, False, False], index=students.index)\n",
    "students"
   ]
  },
  {
   "cell_type": "markdown",
   "metadata": {},
   "source": [
    "Column insertion, both with and without specifying the index, is super useful."
   ]
  },
  {
   "cell_type": "markdown",
   "metadata": {},
   "source": [
    "### Question:\n",
    "\n",
    "Create a dataframe 'numbers' that has one column `increasing`. The `increasing` column contains the numbers 1-50 in increasing order. Then insert a columns called `evens`, which has the even numbers in increasing order at the same locations as in `increasing`, but with missing values in the other locations.\n",
    "\n",
    "```python\n",
    "> print(numbers)\n",
    "\n",
    "    increasing  evens\n",
    "0            0    0.0\n",
    "1            1    NaN\n",
    "2            2    2.0\n",
    "3            3    NaN\n",
    "4            4    4.0\n",
    "5            5    NaN\n",
    "6            6    6.0\n",
    "7            7    NaN\n",
    "8            8    8.0\n",
    "9            9    NaN\n",
    "10          10   10.0\n",
    ".            .      .\n",
    ".            .      .\n",
    ".            .      .\n",
    "\n",
    "```"
   ]
  },
  {
   "cell_type": "code",
   "execution_count": null,
   "metadata": {},
   "outputs": [],
   "source": [
    "# write here:\n",
    "\n"
   ]
  },
  {
   "cell_type": "markdown",
   "metadata": {},
   "source": [
    "<details><summary>Solution\n",
    "</summary>\n",
    "\n",
    "```python\n",
    "numbers = pd.DataFrame([[n] for n in range(50)], columns=['increasing'])\n",
    "numbers['evens'] = pd.Series([n for n in range(50) if n%2==0], index=[n for n in range(50) if n%2==0])\n",
    "print(numbers)\n",
    "\n",
    "```\n",
    "\n",
    "</details>"
   ]
  },
  {
   "cell_type": "markdown",
   "metadata": {},
   "source": [
    "### Question:\n",
    "\n",
    "We only have information for some students. Please add the following information into a column named 'pickup_time'.  The rest can be NaNs.\n",
    "\n",
    "Haden = 4,\n",
    "Tomas = 5,\n",
    "Stacy = 3\n",
    "\n",
    "\n",
    "```python\n",
    "> print(students[['grade', 'height', 'pickup_time']])\n",
    "\n",
    "          grade  height  pickup_time\n",
    "Tomas        45      34          5.0\n",
    "Angel        56      35          NaN\n",
    "Stacy        78      36          3.0\n",
    "Michaela     89      37          NaN\n",
    "Haden        90      38          4.0\n",
    "\n",
    "```"
   ]
  },
  {
   "cell_type": "code",
   "execution_count": null,
   "metadata": {},
   "outputs": [],
   "source": [
    "# write here:\n",
    "\n"
   ]
  },
  {
   "cell_type": "markdown",
   "metadata": {},
   "source": [
    "<details><summary>Solution\n",
    "</summary>\n",
    "\n",
    "```python\n",
    "students['pickup_time'] = pd.Series([4,5,3], ['Haden', 'Tomas', 'Stacy'])\n",
    "print(students[['grade', 'height', 'pickup_time']])\n",
    "```\n",
    "\n",
    "</details>"
   ]
  },
  {
   "cell_type": "markdown",
   "metadata": {},
   "source": [
    "### Question:\n",
    "\n",
    "We only know about the first three students. Please add the following information into a column named 'pickup_time'.  The rest can be NaNs.\n",
    "\n",
    "4,5,3\n",
    "\n",
    "\n",
    "```python\n",
    "> print(students[['grade', 'height', 'pickup_time']])\n",
    "\n",
    "          grade  height  pickup_time\n",
    "Tomas        45      34          4.0\n",
    "Angel        56      35          5.0\n",
    "Stacy        78      36          2.0\n",
    "Michaela     89      37          NaN\n",
    "Haden        90      38          NaN\n",
    "\n",
    "```\n",
    "\n",
    "(NaN is input as np.NaN)"
   ]
  },
  {
   "cell_type": "code",
   "execution_count": null,
   "metadata": {},
   "outputs": [],
   "source": [
    "# write here:\n",
    "\n"
   ]
  },
  {
   "cell_type": "markdown",
   "metadata": {},
   "source": [
    "<details><summary>Solution\n",
    "</summary>\n",
    "\n",
    "```python\n",
    "students['pickup_time'] = [4, 5, 2, np.NaN, np.NaN]\n",
    "print(students[['grade', 'height', 'pickup_time']])\n",
    "```\n",
    "\n",
    "</details>"
   ]
  },
  {
   "cell_type": "markdown",
   "metadata": {},
   "source": [
    "## Loading Data"
   ]
  },
  {
   "cell_type": "markdown",
   "metadata": {},
   "source": [
    "To get external data into pandas, we first need to know where it is."
   ]
  },
  {
   "cell_type": "markdown",
   "metadata": {},
   "source": [
    "We can use 'ls' to do this"
   ]
  },
  {
   "cell_type": "code",
   "execution_count": null,
   "metadata": {},
   "outputs": [],
   "source": [
    "ls"
   ]
  },
  {
   "cell_type": "markdown",
   "metadata": {},
   "source": [
    "Ah, the data is probably kept in 'data/'"
   ]
  },
  {
   "cell_type": "code",
   "execution_count": null,
   "metadata": {},
   "outputs": [],
   "source": [
    "ls data"
   ]
  },
  {
   "cell_type": "markdown",
   "metadata": {},
   "source": [
    "Pandas can load a csv, but csvs often are separated by things that ARE NOT COMMAS. So let's look at the first line INSIDE playgolf.csv"
   ]
  },
  {
   "cell_type": "code",
   "execution_count": 36,
   "metadata": {},
   "outputs": [
    {
     "name": "stderr",
     "output_type": "stream",
     "text": [
      "'head' is not recognized as an internal or external command,\n",
      "operable program or batch file.\n"
     ]
    }
   ],
   "source": [
    "# '!' means we're running a bash command\n",
    "!head -1 data/playgolf.csv"
   ]
  },
  {
   "cell_type": "code",
   "execution_count": 37,
   "metadata": {},
   "outputs": [
    {
     "name": "stderr",
     "output_type": "stream",
     "text": [
      "'head' is not recognized as an internal or external command,\n",
      "operable program or batch file.\n"
     ]
    }
   ],
   "source": [
    "!head -1 data/playgolf.csv"
   ]
  },
  {
   "cell_type": "markdown",
   "metadata": {},
   "source": [
    "### Load data from csv\n",
    "\n",
    "A csv (comma separated values) is a file format used to store data separated by a **delimiter**.\n",
    "\n",
    "A delimiter is the **single character** that divides the data elements in a file.  A comma is a traditional choice of delimiter but a relatively poor one because they are often part of elements themselves.  Better choices are pipe (`|`) and tab (`\\t`)."
   ]
  },
  {
   "cell_type": "markdown",
   "metadata": {},
   "source": [
    "In a bizarre twist of history, comma separated files are often separated by different characters than commas.  There is no consistent convention of using a different file extension, but some people use `.psv` or `.tsv`.\n",
    "\n",
    "Pandas has a `read_csv` function that loads a delimited file into a `DataFrame`.  "
   ]
  },
  {
   "cell_type": "code",
   "execution_count": 38,
   "metadata": {},
   "outputs": [],
   "source": [
    "golf_df = pd.read_csv('data/playgolf.csv', delimiter=',')"
   ]
  },
  {
   "cell_type": "code",
   "execution_count": 39,
   "metadata": {},
   "outputs": [
    {
     "data": {
      "text/html": [
       "<div>\n",
       "<style scoped>\n",
       "    .dataframe tbody tr th:only-of-type {\n",
       "        vertical-align: middle;\n",
       "    }\n",
       "\n",
       "    .dataframe tbody tr th {\n",
       "        vertical-align: top;\n",
       "    }\n",
       "\n",
       "    .dataframe thead th {\n",
       "        text-align: right;\n",
       "    }\n",
       "</style>\n",
       "<table border=\"1\" class=\"dataframe\">\n",
       "  <thead>\n",
       "    <tr style=\"text-align: right;\">\n",
       "      <th></th>\n",
       "      <th>Date</th>\n",
       "      <th>Outlook</th>\n",
       "      <th>Temperature</th>\n",
       "      <th>Humidity</th>\n",
       "      <th>Windy</th>\n",
       "      <th>Result</th>\n",
       "    </tr>\n",
       "  </thead>\n",
       "  <tbody>\n",
       "    <tr>\n",
       "      <th>0</th>\n",
       "      <td>7/1/14</td>\n",
       "      <td>sunny</td>\n",
       "      <td>85</td>\n",
       "      <td>85</td>\n",
       "      <td>False</td>\n",
       "      <td>Don't Play</td>\n",
       "    </tr>\n",
       "    <tr>\n",
       "      <th>1</th>\n",
       "      <td>7/2/14</td>\n",
       "      <td>sunny</td>\n",
       "      <td>80</td>\n",
       "      <td>90</td>\n",
       "      <td>True</td>\n",
       "      <td>Don't Play</td>\n",
       "    </tr>\n",
       "    <tr>\n",
       "      <th>2</th>\n",
       "      <td>7/3/14</td>\n",
       "      <td>overcast</td>\n",
       "      <td>83</td>\n",
       "      <td>78</td>\n",
       "      <td>False</td>\n",
       "      <td>Play</td>\n",
       "    </tr>\n",
       "    <tr>\n",
       "      <th>3</th>\n",
       "      <td>7/4/14</td>\n",
       "      <td>rain</td>\n",
       "      <td>70</td>\n",
       "      <td>96</td>\n",
       "      <td>False</td>\n",
       "      <td>Play</td>\n",
       "    </tr>\n",
       "    <tr>\n",
       "      <th>4</th>\n",
       "      <td>7/5/14</td>\n",
       "      <td>rain</td>\n",
       "      <td>68</td>\n",
       "      <td>80</td>\n",
       "      <td>False</td>\n",
       "      <td>Play</td>\n",
       "    </tr>\n",
       "    <tr>\n",
       "      <th>5</th>\n",
       "      <td>7/6/14</td>\n",
       "      <td>rain</td>\n",
       "      <td>65</td>\n",
       "      <td>70</td>\n",
       "      <td>True</td>\n",
       "      <td>Don't Play</td>\n",
       "    </tr>\n",
       "    <tr>\n",
       "      <th>6</th>\n",
       "      <td>7/7/14</td>\n",
       "      <td>overcast</td>\n",
       "      <td>64</td>\n",
       "      <td>65</td>\n",
       "      <td>True</td>\n",
       "      <td>Play</td>\n",
       "    </tr>\n",
       "    <tr>\n",
       "      <th>7</th>\n",
       "      <td>7/8/14</td>\n",
       "      <td>sunny</td>\n",
       "      <td>72</td>\n",
       "      <td>95</td>\n",
       "      <td>False</td>\n",
       "      <td>Don't Play</td>\n",
       "    </tr>\n",
       "    <tr>\n",
       "      <th>8</th>\n",
       "      <td>7/9/14</td>\n",
       "      <td>sunny</td>\n",
       "      <td>69</td>\n",
       "      <td>70</td>\n",
       "      <td>False</td>\n",
       "      <td>Play</td>\n",
       "    </tr>\n",
       "    <tr>\n",
       "      <th>9</th>\n",
       "      <td>7/10/14</td>\n",
       "      <td>rain</td>\n",
       "      <td>75</td>\n",
       "      <td>80</td>\n",
       "      <td>False</td>\n",
       "      <td>Play</td>\n",
       "    </tr>\n",
       "    <tr>\n",
       "      <th>10</th>\n",
       "      <td>7/11/14</td>\n",
       "      <td>sunny</td>\n",
       "      <td>75</td>\n",
       "      <td>70</td>\n",
       "      <td>True</td>\n",
       "      <td>Play</td>\n",
       "    </tr>\n",
       "    <tr>\n",
       "      <th>11</th>\n",
       "      <td>7/12/14</td>\n",
       "      <td>overcast</td>\n",
       "      <td>72</td>\n",
       "      <td>90</td>\n",
       "      <td>True</td>\n",
       "      <td>Play</td>\n",
       "    </tr>\n",
       "    <tr>\n",
       "      <th>12</th>\n",
       "      <td>7/13/14</td>\n",
       "      <td>overcast</td>\n",
       "      <td>81</td>\n",
       "      <td>75</td>\n",
       "      <td>False</td>\n",
       "      <td>Play</td>\n",
       "    </tr>\n",
       "    <tr>\n",
       "      <th>13</th>\n",
       "      <td>7/14/14</td>\n",
       "      <td>rain</td>\n",
       "      <td>71</td>\n",
       "      <td>80</td>\n",
       "      <td>True</td>\n",
       "      <td>Don't Play</td>\n",
       "    </tr>\n",
       "  </tbody>\n",
       "</table>\n",
       "</div>"
      ],
      "text/plain": [
       "       Date   Outlook  Temperature  Humidity  Windy      Result\n",
       "0    7/1/14     sunny           85        85  False  Don't Play\n",
       "1    7/2/14     sunny           80        90   True  Don't Play\n",
       "2    7/3/14  overcast           83        78  False        Play\n",
       "3    7/4/14      rain           70        96  False        Play\n",
       "4    7/5/14      rain           68        80  False        Play\n",
       "5    7/6/14      rain           65        70   True  Don't Play\n",
       "6    7/7/14  overcast           64        65   True        Play\n",
       "7    7/8/14     sunny           72        95  False  Don't Play\n",
       "8    7/9/14     sunny           69        70  False        Play\n",
       "9   7/10/14      rain           75        80  False        Play\n",
       "10  7/11/14     sunny           75        70   True        Play\n",
       "11  7/12/14  overcast           72        90   True        Play\n",
       "12  7/13/14  overcast           81        75  False        Play\n",
       "13  7/14/14      rain           71        80   True  Don't Play"
      ]
     },
     "execution_count": 39,
     "metadata": {},
     "output_type": "execute_result"
    }
   ],
   "source": [
    "golf_df"
   ]
  },
  {
   "cell_type": "markdown",
   "metadata": {},
   "source": [
    "### Question:\n",
    "\n",
    "load in hospital-costs.csv as 'hospital_costs'.\n"
   ]
  },
  {
   "cell_type": "code",
   "execution_count": null,
   "metadata": {},
   "outputs": [],
   "source": [
    "# write here:\n",
    "\n"
   ]
  },
  {
   "cell_type": "markdown",
   "metadata": {},
   "source": [
    "<details><summary>Solution\n",
    "</summary>\n",
    "\n",
    "```python\n",
    "!head -1 data/hospital-costs.csv\n",
    "\n",
    "hospital_costs = pd.read_csv('data/hospital-costs.csv')\n",
    "hospital_costs\n",
    "```\n",
    "\n",
    "</details>"
   ]
  },
  {
   "cell_type": "markdown",
   "metadata": {},
   "source": [
    "### Question:\n",
    "\n",
    "Load in winequality-white.csv as 'wine_quality_white'."
   ]
  },
  {
   "cell_type": "code",
   "execution_count": 40,
   "metadata": {},
   "outputs": [
    {
     "name": "stdout",
     "output_type": "stream",
     "text": [
      " Volume in drive C is Windows\n",
      " Volume Serial Number is 3EEF-0084\n",
      "\n",
      " Directory of C:\\Users\\fslal\\Desktop\\13j\\pandas\\data\n",
      "\n",
      "13/07/2021  11:00    <DIR>          .\n",
      "13/07/2021  11:00    <DIR>          ..\n",
      "13/07/2021  11:00         7,672,655 chess_games.csv\n",
      "13/07/2021  11:00         3,704,887 exo_planet.csv\n",
      "13/07/2021  11:00        53,613,051 hospital-costs.csv\n",
      "13/07/2021  11:00               502 playgolf.csv\n",
      "13/07/2021  11:00            85,799 winequality-red.csv\n",
      "13/07/2021  11:00           269,325 winequality-white.csv\n",
      "               6 File(s)     65,346,219 bytes\n",
      "               2 Dir(s)  27,995,574,272 bytes free\n"
     ]
    }
   ],
   "source": [
    "ls data"
   ]
  },
  {
   "cell_type": "code",
   "execution_count": null,
   "metadata": {},
   "outputs": [],
   "source": [
    "# write here:\n",
    "\n"
   ]
  },
  {
   "cell_type": "markdown",
   "metadata": {},
   "source": [
    "<details><summary>Solution\n",
    "</summary>\n",
    "\n",
    "```python\n",
    "!head -5 data/winequality-white.csv # to see what delimiter\n",
    "\n",
    "wine_quality_white = pd.read_csv('data/winequality-white.csv', delimiter=';')\n",
    "wine_quality_white\n",
    "```\n",
    "\n",
    "</details>"
   ]
  },
  {
   "cell_type": "markdown",
   "metadata": {},
   "source": [
    "## Extracting information from DataFrames"
   ]
  },
  {
   "cell_type": "markdown",
   "metadata": {},
   "source": [
    "#### Basic Row and Column Indexing"
   ]
  },
  {
   "cell_type": "markdown",
   "metadata": {},
   "source": [
    "As we have seen, individual columns may be extracted from a `DataFrame` as a `Series` using the usual `__getitem__` style indexing using the name of the column.  \n",
    "\n",
    "This is similar to how we index a dictionary."
   ]
  },
  {
   "cell_type": "code",
   "execution_count": 41,
   "metadata": {},
   "outputs": [
    {
     "data": {
      "text/plain": [
       "0     85\n",
       "1     80\n",
       "2     83\n",
       "3     70\n",
       "4     68\n",
       "5     65\n",
       "6     64\n",
       "7     72\n",
       "8     69\n",
       "9     75\n",
       "10    75\n",
       "11    72\n",
       "12    81\n",
       "13    71\n",
       "Name: Temperature, dtype: int64"
      ]
     },
     "execution_count": 41,
     "metadata": {},
     "output_type": "execute_result"
    }
   ],
   "source": [
    "golf_df['Temperature']"
   ]
  },
  {
   "cell_type": "markdown",
   "metadata": {},
   "source": [
    "We can extract individual values by taking the series out of the matrix, then treating it like a list."
   ]
  },
  {
   "cell_type": "code",
   "execution_count": 42,
   "metadata": {},
   "outputs": [
    {
     "data": {
      "text/plain": [
       "85"
      ]
     },
     "execution_count": 42,
     "metadata": {},
     "output_type": "execute_result"
    }
   ],
   "source": [
    "golf_df['Temperature'][0]"
   ]
  },
  {
   "cell_type": "markdown",
   "metadata": {},
   "source": [
    "We can extract multiple rows at once."
   ]
  },
  {
   "cell_type": "code",
   "execution_count": 43,
   "metadata": {},
   "outputs": [
    {
     "data": {
      "text/html": [
       "<div>\n",
       "<style scoped>\n",
       "    .dataframe tbody tr th:only-of-type {\n",
       "        vertical-align: middle;\n",
       "    }\n",
       "\n",
       "    .dataframe tbody tr th {\n",
       "        vertical-align: top;\n",
       "    }\n",
       "\n",
       "    .dataframe thead th {\n",
       "        text-align: right;\n",
       "    }\n",
       "</style>\n",
       "<table border=\"1\" class=\"dataframe\">\n",
       "  <thead>\n",
       "    <tr style=\"text-align: right;\">\n",
       "      <th></th>\n",
       "      <th>Temperature</th>\n",
       "      <th>Humidity</th>\n",
       "    </tr>\n",
       "  </thead>\n",
       "  <tbody>\n",
       "    <tr>\n",
       "      <th>0</th>\n",
       "      <td>85</td>\n",
       "      <td>85</td>\n",
       "    </tr>\n",
       "    <tr>\n",
       "      <th>1</th>\n",
       "      <td>80</td>\n",
       "      <td>90</td>\n",
       "    </tr>\n",
       "    <tr>\n",
       "      <th>2</th>\n",
       "      <td>83</td>\n",
       "      <td>78</td>\n",
       "    </tr>\n",
       "    <tr>\n",
       "      <th>3</th>\n",
       "      <td>70</td>\n",
       "      <td>96</td>\n",
       "    </tr>\n",
       "    <tr>\n",
       "      <th>4</th>\n",
       "      <td>68</td>\n",
       "      <td>80</td>\n",
       "    </tr>\n",
       "    <tr>\n",
       "      <th>5</th>\n",
       "      <td>65</td>\n",
       "      <td>70</td>\n",
       "    </tr>\n",
       "    <tr>\n",
       "      <th>6</th>\n",
       "      <td>64</td>\n",
       "      <td>65</td>\n",
       "    </tr>\n",
       "    <tr>\n",
       "      <th>7</th>\n",
       "      <td>72</td>\n",
       "      <td>95</td>\n",
       "    </tr>\n",
       "    <tr>\n",
       "      <th>8</th>\n",
       "      <td>69</td>\n",
       "      <td>70</td>\n",
       "    </tr>\n",
       "    <tr>\n",
       "      <th>9</th>\n",
       "      <td>75</td>\n",
       "      <td>80</td>\n",
       "    </tr>\n",
       "    <tr>\n",
       "      <th>10</th>\n",
       "      <td>75</td>\n",
       "      <td>70</td>\n",
       "    </tr>\n",
       "    <tr>\n",
       "      <th>11</th>\n",
       "      <td>72</td>\n",
       "      <td>90</td>\n",
       "    </tr>\n",
       "    <tr>\n",
       "      <th>12</th>\n",
       "      <td>81</td>\n",
       "      <td>75</td>\n",
       "    </tr>\n",
       "    <tr>\n",
       "      <th>13</th>\n",
       "      <td>71</td>\n",
       "      <td>80</td>\n",
       "    </tr>\n",
       "  </tbody>\n",
       "</table>\n",
       "</div>"
      ],
      "text/plain": [
       "    Temperature  Humidity\n",
       "0            85        85\n",
       "1            80        90\n",
       "2            83        78\n",
       "3            70        96\n",
       "4            68        80\n",
       "5            65        70\n",
       "6            64        65\n",
       "7            72        95\n",
       "8            69        70\n",
       "9            75        80\n",
       "10           75        70\n",
       "11           72        90\n",
       "12           81        75\n",
       "13           71        80"
      ]
     },
     "execution_count": 43,
     "metadata": {},
     "output_type": "execute_result"
    }
   ],
   "source": [
    "golf_df[['Temperature', 'Humidity']]"
   ]
  },
  {
   "cell_type": "markdown",
   "metadata": {},
   "source": [
    "If you try to index with a slice, however, it will only operate on the rows."
   ]
  },
  {
   "cell_type": "code",
   "execution_count": 44,
   "metadata": {},
   "outputs": [
    {
     "data": {
      "text/html": [
       "<div>\n",
       "<style scoped>\n",
       "    .dataframe tbody tr th:only-of-type {\n",
       "        vertical-align: middle;\n",
       "    }\n",
       "\n",
       "    .dataframe tbody tr th {\n",
       "        vertical-align: top;\n",
       "    }\n",
       "\n",
       "    .dataframe thead th {\n",
       "        text-align: right;\n",
       "    }\n",
       "</style>\n",
       "<table border=\"1\" class=\"dataframe\">\n",
       "  <thead>\n",
       "    <tr style=\"text-align: right;\">\n",
       "      <th></th>\n",
       "      <th>Date</th>\n",
       "      <th>Outlook</th>\n",
       "      <th>Temperature</th>\n",
       "      <th>Humidity</th>\n",
       "      <th>Windy</th>\n",
       "      <th>Result</th>\n",
       "    </tr>\n",
       "  </thead>\n",
       "  <tbody>\n",
       "    <tr>\n",
       "      <th>0</th>\n",
       "      <td>7/1/14</td>\n",
       "      <td>sunny</td>\n",
       "      <td>85</td>\n",
       "      <td>85</td>\n",
       "      <td>False</td>\n",
       "      <td>Don't Play</td>\n",
       "    </tr>\n",
       "    <tr>\n",
       "      <th>1</th>\n",
       "      <td>7/2/14</td>\n",
       "      <td>sunny</td>\n",
       "      <td>80</td>\n",
       "      <td>90</td>\n",
       "      <td>True</td>\n",
       "      <td>Don't Play</td>\n",
       "    </tr>\n",
       "    <tr>\n",
       "      <th>2</th>\n",
       "      <td>7/3/14</td>\n",
       "      <td>overcast</td>\n",
       "      <td>83</td>\n",
       "      <td>78</td>\n",
       "      <td>False</td>\n",
       "      <td>Play</td>\n",
       "    </tr>\n",
       "    <tr>\n",
       "      <th>3</th>\n",
       "      <td>7/4/14</td>\n",
       "      <td>rain</td>\n",
       "      <td>70</td>\n",
       "      <td>96</td>\n",
       "      <td>False</td>\n",
       "      <td>Play</td>\n",
       "    </tr>\n",
       "    <tr>\n",
       "      <th>4</th>\n",
       "      <td>7/5/14</td>\n",
       "      <td>rain</td>\n",
       "      <td>68</td>\n",
       "      <td>80</td>\n",
       "      <td>False</td>\n",
       "      <td>Play</td>\n",
       "    </tr>\n",
       "  </tbody>\n",
       "</table>\n",
       "</div>"
      ],
      "text/plain": [
       "     Date   Outlook  Temperature  Humidity  Windy      Result\n",
       "0  7/1/14     sunny           85        85  False  Don't Play\n",
       "1  7/2/14     sunny           80        90   True  Don't Play\n",
       "2  7/3/14  overcast           83        78  False        Play\n",
       "3  7/4/14      rain           70        96  False        Play\n",
       "4  7/5/14      rain           68        80  False        Play"
      ]
     },
     "execution_count": 44,
     "metadata": {},
     "output_type": "execute_result"
    }
   ],
   "source": [
    "short_df = golf_df[0:5]\n",
    "short_df"
   ]
  },
  {
   "cell_type": "markdown",
   "metadata": {},
   "source": [
    "### Question:\n",
    "\n",
    "Look at hospital_costs Facility Id, Year, Discharges, and Mean Charge columns side by side in a dataframe.\n",
    "\n",
    "```python\n",
    "        Facility Id  Year  Discharges  Mean Charge\n",
    "0               324  2011           3     361289.0\n",
    "1               324  2011           1     102190.0\n",
    "2               324  2011           6      14172.0\n",
    "3               324  2011           1       8833.0\n",
    "4               324  2011           1       5264.0\n",
    "...             ...   ...         ...          ...\n",
    "383488         1153  2009           5      13572.0\n",
    "383489         1153  2009           4       8323.0\n",
    "383490         1153  2009           5       7746.0\n",
    "383491         1153  2009           1       7892.0\n",
    "383492         1153  2009           3       1069.0\n",
    "```"
   ]
  },
  {
   "cell_type": "code",
   "execution_count": null,
   "metadata": {},
   "outputs": [],
   "source": [
    "# write here:\n",
    "\n"
   ]
  },
  {
   "cell_type": "markdown",
   "metadata": {},
   "source": [
    "<details><summary>Solution\n",
    "</summary>\n",
    "\n",
    "```python\n",
    "print(hospital_costs[['Facility Id', 'Year', 'Discharges', 'Mean Charge']])\n",
    "```\n",
    "\n",
    "</details>"
   ]
  },
  {
   "cell_type": "markdown",
   "metadata": {},
   "source": [
    "## Boolean / Logical Indexing"
   ]
  },
  {
   "cell_type": "markdown",
   "metadata": {},
   "source": [
    "We can also index into a `DataFrame` using a list of **booleans** (i.e. `True` and `False` values). This will also operate on the rows."
   ]
  },
  {
   "cell_type": "code",
   "execution_count": 45,
   "metadata": {},
   "outputs": [
    {
     "data": {
      "text/html": [
       "<div>\n",
       "<style scoped>\n",
       "    .dataframe tbody tr th:only-of-type {\n",
       "        vertical-align: middle;\n",
       "    }\n",
       "\n",
       "    .dataframe tbody tr th {\n",
       "        vertical-align: top;\n",
       "    }\n",
       "\n",
       "    .dataframe thead th {\n",
       "        text-align: right;\n",
       "    }\n",
       "</style>\n",
       "<table border=\"1\" class=\"dataframe\">\n",
       "  <thead>\n",
       "    <tr style=\"text-align: right;\">\n",
       "      <th></th>\n",
       "      <th>Date</th>\n",
       "      <th>Outlook</th>\n",
       "      <th>Temperature</th>\n",
       "      <th>Humidity</th>\n",
       "      <th>Windy</th>\n",
       "      <th>Result</th>\n",
       "    </tr>\n",
       "  </thead>\n",
       "  <tbody>\n",
       "    <tr>\n",
       "      <th>0</th>\n",
       "      <td>7/1/14</td>\n",
       "      <td>sunny</td>\n",
       "      <td>85</td>\n",
       "      <td>85</td>\n",
       "      <td>False</td>\n",
       "      <td>Don't Play</td>\n",
       "    </tr>\n",
       "    <tr>\n",
       "      <th>2</th>\n",
       "      <td>7/3/14</td>\n",
       "      <td>overcast</td>\n",
       "      <td>83</td>\n",
       "      <td>78</td>\n",
       "      <td>False</td>\n",
       "      <td>Play</td>\n",
       "    </tr>\n",
       "    <tr>\n",
       "      <th>4</th>\n",
       "      <td>7/5/14</td>\n",
       "      <td>rain</td>\n",
       "      <td>68</td>\n",
       "      <td>80</td>\n",
       "      <td>False</td>\n",
       "      <td>Play</td>\n",
       "    </tr>\n",
       "  </tbody>\n",
       "</table>\n",
       "</div>"
      ],
      "text/plain": [
       "     Date   Outlook  Temperature  Humidity  Windy      Result\n",
       "0  7/1/14     sunny           85        85  False  Don't Play\n",
       "2  7/3/14  overcast           83        78  False        Play\n",
       "4  7/5/14      rain           68        80  False        Play"
      ]
     },
     "execution_count": 45,
     "metadata": {},
     "output_type": "execute_result"
    }
   ],
   "source": [
    "# Takes rows 0, 2, and 4.\n",
    "short_df[[True, False, True, False, True]]"
   ]
  },
  {
   "cell_type": "markdown",
   "metadata": {},
   "source": [
    "Which doesn't seem that useful...except we can create a boolean `Series` by using comparisons on a Series"
   ]
  },
  {
   "cell_type": "code",
   "execution_count": 46,
   "metadata": {},
   "outputs": [
    {
     "data": {
      "text/plain": [
       "0      True\n",
       "1      True\n",
       "2      True\n",
       "3     False\n",
       "4     False\n",
       "5     False\n",
       "6     False\n",
       "7      True\n",
       "8     False\n",
       "9      True\n",
       "10     True\n",
       "11     True\n",
       "12     True\n",
       "13     True\n",
       "Name: Temperature, dtype: bool"
      ]
     },
     "execution_count": 46,
     "metadata": {},
     "output_type": "execute_result"
    }
   ],
   "source": [
    "# A series of booleans.\n",
    "golf_df['Temperature'] > 70"
   ]
  },
  {
   "cell_type": "markdown",
   "metadata": {},
   "source": [
    "And them use the result to grab rows of the dataframe."
   ]
  },
  {
   "cell_type": "code",
   "execution_count": 47,
   "metadata": {},
   "outputs": [
    {
     "data": {
      "text/html": [
       "<div>\n",
       "<style scoped>\n",
       "    .dataframe tbody tr th:only-of-type {\n",
       "        vertical-align: middle;\n",
       "    }\n",
       "\n",
       "    .dataframe tbody tr th {\n",
       "        vertical-align: top;\n",
       "    }\n",
       "\n",
       "    .dataframe thead th {\n",
       "        text-align: right;\n",
       "    }\n",
       "</style>\n",
       "<table border=\"1\" class=\"dataframe\">\n",
       "  <thead>\n",
       "    <tr style=\"text-align: right;\">\n",
       "      <th></th>\n",
       "      <th>Date</th>\n",
       "      <th>Windy</th>\n",
       "    </tr>\n",
       "  </thead>\n",
       "  <tbody>\n",
       "    <tr>\n",
       "      <th>0</th>\n",
       "      <td>7/1/14</td>\n",
       "      <td>False</td>\n",
       "    </tr>\n",
       "    <tr>\n",
       "      <th>1</th>\n",
       "      <td>7/2/14</td>\n",
       "      <td>True</td>\n",
       "    </tr>\n",
       "    <tr>\n",
       "      <th>2</th>\n",
       "      <td>7/3/14</td>\n",
       "      <td>False</td>\n",
       "    </tr>\n",
       "    <tr>\n",
       "      <th>7</th>\n",
       "      <td>7/8/14</td>\n",
       "      <td>False</td>\n",
       "    </tr>\n",
       "    <tr>\n",
       "      <th>9</th>\n",
       "      <td>7/10/14</td>\n",
       "      <td>False</td>\n",
       "    </tr>\n",
       "    <tr>\n",
       "      <th>10</th>\n",
       "      <td>7/11/14</td>\n",
       "      <td>True</td>\n",
       "    </tr>\n",
       "    <tr>\n",
       "      <th>11</th>\n",
       "      <td>7/12/14</td>\n",
       "      <td>True</td>\n",
       "    </tr>\n",
       "    <tr>\n",
       "      <th>12</th>\n",
       "      <td>7/13/14</td>\n",
       "      <td>False</td>\n",
       "    </tr>\n",
       "    <tr>\n",
       "      <th>13</th>\n",
       "      <td>7/14/14</td>\n",
       "      <td>True</td>\n",
       "    </tr>\n",
       "  </tbody>\n",
       "</table>\n",
       "</div>"
      ],
      "text/plain": [
       "       Date  Windy\n",
       "0    7/1/14  False\n",
       "1    7/2/14   True\n",
       "2    7/3/14  False\n",
       "7    7/8/14  False\n",
       "9   7/10/14  False\n",
       "10  7/11/14   True\n",
       "11  7/12/14   True\n",
       "12  7/13/14  False\n",
       "13  7/14/14   True"
      ]
     },
     "execution_count": 47,
     "metadata": {},
     "output_type": "execute_result"
    }
   ],
   "source": [
    "golf_df[golf_df['Temperature'] > 70][[\"Date\", \"Windy\"]]"
   ]
  },
  {
   "cell_type": "markdown",
   "metadata": {},
   "source": [
    "This is essentially applying a logical condition to select rows from a `DataFrame`.  This is one of the most common patterns in Pandas."
   ]
  },
  {
   "cell_type": "markdown",
   "metadata": {},
   "source": [
    "To review: if you index a `DataFrame` with a **single value** or a **list of values**, it selects the **columns**.\n",
    "\n",
    "If you use a **slice** or **sequence of booleans**, it selects the **rows**. "
   ]
  },
  {
   "cell_type": "markdown",
   "metadata": {},
   "source": [
    "### Question:\n",
    "\n",
    "Select all of the days in which the humidity is larger than 90 from 'golf_df'.\n",
    "\n",
    "```python\n",
    "     Date Outlook  Temperature  Humidity  Windy      Result\n",
    "3  7/4/14    rain           70        96  False        Play\n",
    "7  7/8/14   sunny           72        95  False  Don't Play\n",
    "```"
   ]
  },
  {
   "cell_type": "code",
   "execution_count": null,
   "metadata": {},
   "outputs": [],
   "source": [
    "# write here:\n",
    "\n"
   ]
  },
  {
   "cell_type": "markdown",
   "metadata": {},
   "source": [
    "<details><summary>Solution\n",
    "</summary>\n",
    "\n",
    "```python\n",
    "golf_df[golf_df['Humidity']>90]\n",
    "```\n",
    "\n",
    "</details>"
   ]
  },
  {
   "cell_type": "markdown",
   "metadata": {},
   "source": [
    "## logical aside"
   ]
  },
  {
   "cell_type": "markdown",
   "metadata": {},
   "source": [
    "As a reminder, logical operators with arrays AND series look like"
   ]
  },
  {
   "cell_type": "code",
   "execution_count": 48,
   "metadata": {},
   "outputs": [
    {
     "data": {
      "text/plain": [
       "0     False\n",
       "1     False\n",
       "2     False\n",
       "3      True\n",
       "4     False\n",
       "5     False\n",
       "6     False\n",
       "7      True\n",
       "8     False\n",
       "9     False\n",
       "10    False\n",
       "11    False\n",
       "12    False\n",
       "13    False\n",
       "dtype: bool"
      ]
     },
     "execution_count": 48,
     "metadata": {},
     "output_type": "execute_result"
    }
   ],
   "source": [
    "(golf_df['Humidity']>90) | (golf_df['Outlook']==\"Sunny\") # '|' is 'OR'"
   ]
  },
  {
   "cell_type": "code",
   "execution_count": 49,
   "metadata": {},
   "outputs": [
    {
     "data": {
      "text/plain": [
       "0     False\n",
       "1      True\n",
       "2     False\n",
       "3     False\n",
       "4     False\n",
       "5      True\n",
       "6     False\n",
       "7     False\n",
       "8     False\n",
       "9     False\n",
       "10    False\n",
       "11    False\n",
       "12    False\n",
       "13     True\n",
       "dtype: bool"
      ]
     },
     "execution_count": 49,
     "metadata": {},
     "output_type": "execute_result"
    }
   ],
   "source": [
    "(golf_df['Result']==\"Don't Play\") & golf_df['Windy'] # '&' is 'AND'"
   ]
  },
  {
   "cell_type": "markdown",
   "metadata": {},
   "source": [
    "### Question:\n",
    "\n",
    "Select all of the rainy days in which the temperature is less than 70 degrees."
   ]
  },
  {
   "cell_type": "code",
   "execution_count": null,
   "metadata": {},
   "outputs": [],
   "source": [
    "# write here:\n",
    "\n"
   ]
  },
  {
   "cell_type": "markdown",
   "metadata": {},
   "source": [
    "<details><summary>Solution\n",
    "</summary>\n",
    "\n",
    "```python\n",
    "golf_df[(golf_df['Temperature'] <70) & (golf_df['Outlook'] == 'rain')]\n",
    "                                     \n",
    "```\n",
    "\n",
    "</details>"
   ]
  },
  {
   "cell_type": "markdown",
   "metadata": {},
   "source": [
    "### Question:\n",
    "\n",
    "Select the day and Result of the rainy days in which the humidity is larger than 90 from this data frame.\n",
    "\n",
    "```python\n",
    "     Date Result\n",
    "3  7/4/14   Play\n",
    "```"
   ]
  },
  {
   "cell_type": "code",
   "execution_count": null,
   "metadata": {},
   "outputs": [],
   "source": [
    "# write here:\n"
   ]
  },
  {
   "cell_type": "markdown",
   "metadata": {},
   "source": [
    "<details><summary>Solution\n",
    "</summary>\n",
    "\n",
    "```python\n",
    "golf_df[(golf_df['Outlook']==\"rain\") & (golf_df['Humidity']>90)][['Date','Result']]\n",
    "```\n",
    "\n",
    "</details>"
   ]
  },
  {
   "cell_type": "markdown",
   "metadata": {},
   "source": [
    "## Double Indexing"
   ]
  },
  {
   "cell_type": "markdown",
   "metadata": {},
   "source": [
    "Suppose we want to set the value of the `Windy` column where `Temperature > 70` to True (because, um, science)."
   ]
  },
  {
   "cell_type": "code",
   "execution_count": 50,
   "metadata": {},
   "outputs": [
    {
     "name": "stderr",
     "output_type": "stream",
     "text": [
      "<ipython-input-50-908bd5f3714c>:1: SettingWithCopyWarning: \n",
      "A value is trying to be set on a copy of a slice from a DataFrame.\n",
      "Try using .loc[row_indexer,col_indexer] = value instead\n",
      "\n",
      "See the caveats in the documentation: https://pandas.pydata.org/pandas-docs/stable/user_guide/indexing.html#returning-a-view-versus-a-copy\n",
      "  golf_df[golf_df['Temperature'] > 70][\"Windy\"] = True\n"
     ]
    }
   ],
   "source": [
    "golf_df[golf_df['Temperature'] > 70][\"Windy\"] = True"
   ]
  },
  {
   "cell_type": "markdown",
   "metadata": {},
   "source": [
    "What?"
   ]
  },
  {
   "cell_type": "code",
   "execution_count": 51,
   "metadata": {},
   "outputs": [
    {
     "data": {
      "text/plain": [
       "0     False\n",
       "1      True\n",
       "2     False\n",
       "7     False\n",
       "9     False\n",
       "10     True\n",
       "11     True\n",
       "12    False\n",
       "13     True\n",
       "Name: Windy, dtype: bool"
      ]
     },
     "execution_count": 51,
     "metadata": {},
     "output_type": "execute_result"
    }
   ],
   "source": [
    "golf_df[golf_df['Temperature'] > 70][\"Windy\"]"
   ]
  },
  {
   "cell_type": "markdown",
   "metadata": {},
   "source": [
    "Huh, they're still false. Apparently that error actually meant something."
   ]
  },
  {
   "cell_type": "markdown",
   "metadata": {},
   "source": [
    "This pattern is called double indexing, and it is an antipattern!  Pandas can not guarantee that assignments will hold when you index twice!\n",
    "\n",
    "To fix these issues, we need to study the other indexing options that Pandas provides."
   ]
  },
  {
   "cell_type": "markdown",
   "metadata": {},
   "source": [
    "#### Other Indexers: .loc and .iloc"
   ]
  },
  {
   "cell_type": "markdown",
   "metadata": {},
   "source": [
    "There are a few other indexing objects in pandas, both of which take a value to choose rows and a value to choose columns.\n",
    "\n",
    "  - `df.iloc` is **positionally based**.  This indexer accepts integers and integer slices, and essentially treats the data frame as if it were a simple matrix.\n",
    "  - `df.loc` is **label based**.  This indexer works with row and column indices / labels."
   ]
  },
  {
   "cell_type": "code",
   "execution_count": 52,
   "metadata": {},
   "outputs": [
    {
     "data": {
      "text/html": [
       "<div>\n",
       "<style scoped>\n",
       "    .dataframe tbody tr th:only-of-type {\n",
       "        vertical-align: middle;\n",
       "    }\n",
       "\n",
       "    .dataframe tbody tr th {\n",
       "        vertical-align: top;\n",
       "    }\n",
       "\n",
       "    .dataframe thead th {\n",
       "        text-align: right;\n",
       "    }\n",
       "</style>\n",
       "<table border=\"1\" class=\"dataframe\">\n",
       "  <thead>\n",
       "    <tr style=\"text-align: right;\">\n",
       "      <th></th>\n",
       "      <th>some_integers</th>\n",
       "      <th>some_strings</th>\n",
       "      <th>some_booleans</th>\n",
       "    </tr>\n",
       "  </thead>\n",
       "  <tbody>\n",
       "    <tr>\n",
       "      <th>a</th>\n",
       "      <td>0</td>\n",
       "      <td>x</td>\n",
       "      <td>0</td>\n",
       "    </tr>\n",
       "    <tr>\n",
       "      <th>b</th>\n",
       "      <td>0</td>\n",
       "      <td>y</td>\n",
       "      <td>0</td>\n",
       "    </tr>\n",
       "    <tr>\n",
       "      <th>c</th>\n",
       "      <td>1</td>\n",
       "      <td>z</td>\n",
       "      <td>1</td>\n",
       "    </tr>\n",
       "    <tr>\n",
       "      <th>d</th>\n",
       "      <td>1</td>\n",
       "      <td>x</td>\n",
       "      <td>0</td>\n",
       "    </tr>\n",
       "    <tr>\n",
       "      <th>e</th>\n",
       "      <td>2</td>\n",
       "      <td>y</td>\n",
       "      <td>1</td>\n",
       "    </tr>\n",
       "    <tr>\n",
       "      <th>f</th>\n",
       "      <td>2</td>\n",
       "      <td>z</td>\n",
       "      <td>1</td>\n",
       "    </tr>\n",
       "  </tbody>\n",
       "</table>\n",
       "</div>"
      ],
      "text/plain": [
       "   some_integers some_strings  some_booleans\n",
       "a              0            x              0\n",
       "b              0            y              0\n",
       "c              1            z              1\n",
       "d              1            x              0\n",
       "e              2            y              1\n",
       "f              2            z              1"
      ]
     },
     "execution_count": 52,
     "metadata": {},
     "output_type": "execute_result"
    }
   ],
   "source": [
    "df = pd.DataFrame({\n",
    "    'some_integers': [0, 0, 1, 1, 2, 2],\n",
    "    'some_strings': ['x', 'y', 'z', 'x', 'y', 'z'],\n",
    "    'some_booleans': [0, 0, 1, 0, 1, 1]},\n",
    "    index=['a', 'b', 'c', 'd', 'e', 'f']\n",
    ")\n",
    "df"
   ]
  },
  {
   "cell_type": "code",
   "execution_count": 53,
   "metadata": {},
   "outputs": [
    {
     "data": {
      "text/html": [
       "<div>\n",
       "<style scoped>\n",
       "    .dataframe tbody tr th:only-of-type {\n",
       "        vertical-align: middle;\n",
       "    }\n",
       "\n",
       "    .dataframe tbody tr th {\n",
       "        vertical-align: top;\n",
       "    }\n",
       "\n",
       "    .dataframe thead th {\n",
       "        text-align: right;\n",
       "    }\n",
       "</style>\n",
       "<table border=\"1\" class=\"dataframe\">\n",
       "  <thead>\n",
       "    <tr style=\"text-align: right;\">\n",
       "      <th></th>\n",
       "      <th>some_integers</th>\n",
       "      <th>some_strings</th>\n",
       "    </tr>\n",
       "  </thead>\n",
       "  <tbody>\n",
       "    <tr>\n",
       "      <th>c</th>\n",
       "      <td>1</td>\n",
       "      <td>z</td>\n",
       "    </tr>\n",
       "    <tr>\n",
       "      <th>d</th>\n",
       "      <td>1</td>\n",
       "      <td>x</td>\n",
       "    </tr>\n",
       "  </tbody>\n",
       "</table>\n",
       "</div>"
      ],
      "text/plain": [
       "   some_integers some_strings\n",
       "c              1            z\n",
       "d              1            x"
      ]
     },
     "execution_count": 53,
     "metadata": {},
     "output_type": "execute_result"
    }
   ],
   "source": [
    "df.iloc[2:4, 0:2]"
   ]
  },
  {
   "cell_type": "code",
   "execution_count": 54,
   "metadata": {},
   "outputs": [
    {
     "data": {
      "text/html": [
       "<div>\n",
       "<style scoped>\n",
       "    .dataframe tbody tr th:only-of-type {\n",
       "        vertical-align: middle;\n",
       "    }\n",
       "\n",
       "    .dataframe tbody tr th {\n",
       "        vertical-align: top;\n",
       "    }\n",
       "\n",
       "    .dataframe thead th {\n",
       "        text-align: right;\n",
       "    }\n",
       "</style>\n",
       "<table border=\"1\" class=\"dataframe\">\n",
       "  <thead>\n",
       "    <tr style=\"text-align: right;\">\n",
       "      <th></th>\n",
       "      <th>some_integers</th>\n",
       "      <th>some_booleans</th>\n",
       "    </tr>\n",
       "  </thead>\n",
       "  <tbody>\n",
       "    <tr>\n",
       "      <th>b</th>\n",
       "      <td>0</td>\n",
       "      <td>0</td>\n",
       "    </tr>\n",
       "    <tr>\n",
       "      <th>c</th>\n",
       "      <td>1</td>\n",
       "      <td>1</td>\n",
       "    </tr>\n",
       "    <tr>\n",
       "      <th>d</th>\n",
       "      <td>1</td>\n",
       "      <td>0</td>\n",
       "    </tr>\n",
       "    <tr>\n",
       "      <th>e</th>\n",
       "      <td>2</td>\n",
       "      <td>1</td>\n",
       "    </tr>\n",
       "  </tbody>\n",
       "</table>\n",
       "</div>"
      ],
      "text/plain": [
       "   some_integers  some_booleans\n",
       "b              0              0\n",
       "c              1              1\n",
       "d              1              0\n",
       "e              2              1"
      ]
     },
     "execution_count": 54,
     "metadata": {},
     "output_type": "execute_result"
    }
   ],
   "source": [
    "df.loc['b':'e', ['some_integers', 'some_booleans']]"
   ]
  },
  {
   "cell_type": "markdown",
   "metadata": {},
   "source": [
    "### Question:\n",
    "\n",
    "Select rows a,b,c,f of df.\n",
    "\n",
    "```python\n",
    "   some_integers some_strings  some_booleans\n",
    "a              0            x              0\n",
    "b              0            y              0\n",
    "c              1            z              1\n",
    "f              2            z              1\n",
    "```"
   ]
  },
  {
   "cell_type": "code",
   "execution_count": null,
   "metadata": {},
   "outputs": [],
   "source": [
    "# write here:\n",
    "\n"
   ]
  },
  {
   "cell_type": "markdown",
   "metadata": {},
   "source": [
    "<details><summary>Solution\n",
    "</summary>\n",
    "\n",
    "```python\n",
    "df.loc[['a', 'b', 'c', 'f']]\n",
    "```\n",
    "\n",
    "</details>"
   ]
  },
  {
   "cell_type": "markdown",
   "metadata": {},
   "source": [
    "### Question:\n",
    "\n",
    "Select the 0th, 1st, and 5th row of df.\n",
    "\n",
    "```python\n",
    "   some_integers some_strings  some_booleans\n",
    "a              0            x              0\n",
    "b              0            y              0\n",
    "f              2            z              1\n",
    "```"
   ]
  },
  {
   "cell_type": "code",
   "execution_count": null,
   "metadata": {},
   "outputs": [],
   "source": [
    "# write here:\n",
    "\n"
   ]
  },
  {
   "cell_type": "markdown",
   "metadata": {},
   "source": [
    "<details><summary>Solution\n",
    "</summary>\n",
    "\n",
    "```python\n",
    "df.iloc[[0, 1, 5]]\n",
    "```\n",
    "\n",
    "</details>"
   ]
  },
  {
   "cell_type": "markdown",
   "metadata": {},
   "source": [
    "### Question:\n",
    "\n",
    "Select the 0th and 4th students.\n",
    "\n",
    "```python\n",
    "       grade  height was_late     top_crush   ...\n",
    "Tomas     45      34      NaN         Angel\n",
    "Haden     90      38      NaN  Edgar A. Poe\n",
    "```"
   ]
  },
  {
   "cell_type": "code",
   "execution_count": null,
   "metadata": {},
   "outputs": [],
   "source": [
    "# write here:\n",
    "\n"
   ]
  },
  {
   "cell_type": "markdown",
   "metadata": {},
   "source": [
    "<details><summary>Solution\n",
    "</summary>\n",
    "\n",
    "```python\n",
    "students.iloc[[0,4]]\n",
    "```\n",
    "\n",
    "</details>"
   ]
  },
  {
   "cell_type": "markdown",
   "metadata": {},
   "source": [
    "### Question:\n",
    "\n",
    "Select Haden, Angel and Micaela, in that order.\n",
    "\n",
    "```python\n",
    "          grade  height was_late     top_crush\n",
    "Haden        90      38      NaN  Edgar A. Poe\n",
    "Angel        56      35      NaN         Haden\n",
    "Michaela     89      37      NaN         Tomas\n",
    "```"
   ]
  },
  {
   "cell_type": "code",
   "execution_count": null,
   "metadata": {},
   "outputs": [],
   "source": [
    "# write here:\n",
    "\n"
   ]
  },
  {
   "cell_type": "markdown",
   "metadata": {},
   "source": [
    "<details><summary>Solution\n",
    "</summary>\n",
    "\n",
    "```python\n",
    "students.loc[['Haden', 'Angel', 'Michaela']]\n",
    "```\n",
    "\n",
    "</details>"
   ]
  },
  {
   "cell_type": "markdown",
   "metadata": {},
   "source": [
    "## Mixed Indexing"
   ]
  },
  {
   "cell_type": "markdown",
   "metadata": {},
   "source": [
    "So what do we do if we want to get the rows by position, and get the columns by label?  I.e. if we have a use for **mixed indexing**."
   ]
  },
  {
   "cell_type": "markdown",
   "metadata": {},
   "source": [
    "```python\n",
    "# Mixed indexing with iloc: will not work.\n",
    ">>> df.iloc[2:4, ['some_integers', 'some_booleans']]\n",
    "\n",
    "---------------------------------------------------------------------------\n",
    "IndexError                                Traceback (most recent call last)\n",
    "<ipython-input-337-dcc694afee25> in <module>\n",
    "      1 # Mixed indexing with iloc: will not work.\n",
    "----> 2 df.iloc[2:4, ['some_integers', 'some_booleans']]\n",
    "```"
   ]
  },
  {
   "cell_type": "markdown",
   "metadata": {},
   "source": [
    "Doing mixed indexing in modern pandas is more explicit, less magic.  You need to use the `df.index` and `df.columns` attributes to explicitly turn positions into labels."
   ]
  },
  {
   "cell_type": "markdown",
   "metadata": {},
   "source": [
    "#### Rows by position, Columns by name"
   ]
  },
  {
   "cell_type": "code",
   "execution_count": 55,
   "metadata": {},
   "outputs": [
    {
     "data": {
      "text/plain": [
       "Index(['c', 'd'], dtype='object')"
      ]
     },
     "execution_count": 55,
     "metadata": {},
     "output_type": "execute_result"
    }
   ],
   "source": [
    "df.index[2:4]"
   ]
  },
  {
   "cell_type": "code",
   "execution_count": 56,
   "metadata": {},
   "outputs": [
    {
     "data": {
      "text/html": [
       "<div>\n",
       "<style scoped>\n",
       "    .dataframe tbody tr th:only-of-type {\n",
       "        vertical-align: middle;\n",
       "    }\n",
       "\n",
       "    .dataframe tbody tr th {\n",
       "        vertical-align: top;\n",
       "    }\n",
       "\n",
       "    .dataframe thead th {\n",
       "        text-align: right;\n",
       "    }\n",
       "</style>\n",
       "<table border=\"1\" class=\"dataframe\">\n",
       "  <thead>\n",
       "    <tr style=\"text-align: right;\">\n",
       "      <th></th>\n",
       "      <th>some_integers</th>\n",
       "      <th>some_booleans</th>\n",
       "    </tr>\n",
       "  </thead>\n",
       "  <tbody>\n",
       "    <tr>\n",
       "      <th>c</th>\n",
       "      <td>1</td>\n",
       "      <td>1</td>\n",
       "    </tr>\n",
       "    <tr>\n",
       "      <th>d</th>\n",
       "      <td>1</td>\n",
       "      <td>0</td>\n",
       "    </tr>\n",
       "  </tbody>\n",
       "</table>\n",
       "</div>"
      ],
      "text/plain": [
       "   some_integers  some_booleans\n",
       "c              1              1\n",
       "d              1              0"
      ]
     },
     "execution_count": 56,
     "metadata": {},
     "output_type": "execute_result"
    }
   ],
   "source": [
    "df.loc[df.index[2:4], ['some_integers', 'some_booleans']]"
   ]
  },
  {
   "cell_type": "markdown",
   "metadata": {},
   "source": [
    "#### Rows by name, Columns by position"
   ]
  },
  {
   "cell_type": "code",
   "execution_count": 57,
   "metadata": {},
   "outputs": [
    {
     "data": {
      "text/plain": [
       "Index(['some_integers', 'some_booleans'], dtype='object')"
      ]
     },
     "execution_count": 57,
     "metadata": {},
     "output_type": "execute_result"
    }
   ],
   "source": [
    "df.columns[[0, 2]]"
   ]
  },
  {
   "cell_type": "code",
   "execution_count": 58,
   "metadata": {
    "scrolled": true
   },
   "outputs": [
    {
     "data": {
      "text/html": [
       "<div>\n",
       "<style scoped>\n",
       "    .dataframe tbody tr th:only-of-type {\n",
       "        vertical-align: middle;\n",
       "    }\n",
       "\n",
       "    .dataframe tbody tr th {\n",
       "        vertical-align: top;\n",
       "    }\n",
       "\n",
       "    .dataframe thead th {\n",
       "        text-align: right;\n",
       "    }\n",
       "</style>\n",
       "<table border=\"1\" class=\"dataframe\">\n",
       "  <thead>\n",
       "    <tr style=\"text-align: right;\">\n",
       "      <th></th>\n",
       "      <th>some_integers</th>\n",
       "      <th>some_booleans</th>\n",
       "    </tr>\n",
       "  </thead>\n",
       "  <tbody>\n",
       "    <tr>\n",
       "      <th>c</th>\n",
       "      <td>1</td>\n",
       "      <td>1</td>\n",
       "    </tr>\n",
       "    <tr>\n",
       "      <th>d</th>\n",
       "      <td>1</td>\n",
       "      <td>0</td>\n",
       "    </tr>\n",
       "  </tbody>\n",
       "</table>\n",
       "</div>"
      ],
      "text/plain": [
       "   some_integers  some_booleans\n",
       "c              1              1\n",
       "d              1              0"
      ]
     },
     "execution_count": 58,
     "metadata": {},
     "output_type": "execute_result"
    }
   ],
   "source": [
    "df.loc[['c', 'd'], df.columns[[0, 2]]]"
   ]
  },
  {
   "cell_type": "markdown",
   "metadata": {},
   "source": [
    "### Question:\n",
    "\n",
    "Use mixed indexing to get the 0th, 2nd and 4th row of student's top_crush and pickup_time. (don't use the names explicitly)\n",
    "\n",
    "```python\n",
    "          top_crush  pickup_time\n",
    "Tomas         Angel          4.0\n",
    "Stacy      Michaela          2.0\n",
    "Haden  Edgar A. Poe          NaN\n",
    "```"
   ]
  },
  {
   "cell_type": "code",
   "execution_count": null,
   "metadata": {},
   "outputs": [],
   "source": [
    "# write here:\n",
    "\n"
   ]
  },
  {
   "cell_type": "markdown",
   "metadata": {},
   "source": [
    "<details><summary>Solution\n",
    "</summary>\n",
    "\n",
    "```python\n",
    "students.loc[students.index[[0,2,4]], ['top_crush', 'pickup_time']]\n",
    "```\n",
    "\n",
    "</details>"
   ]
  },
  {
   "cell_type": "markdown",
   "metadata": {},
   "source": [
    "### Question:\n",
    "\n",
    "Use mixed indexing to get the 0th, 2nd, 3th, and 0th column of Stacy and Haden. (don't use the column names explicitly)\n",
    "\n",
    "```python\n",
    "       grade  was_late  above_75_percent  grade\n",
    "Stacy     78      True              True     78\n",
    "Haden     90     False              True     90\n",
    "```"
   ]
  },
  {
   "cell_type": "code",
   "execution_count": null,
   "metadata": {},
   "outputs": [],
   "source": [
    "# write here:\n",
    "\n"
   ]
  },
  {
   "cell_type": "markdown",
   "metadata": {},
   "source": [
    "<details><summary>Solution\n",
    "</summary>\n",
    "\n",
    "```python\n",
    "students.loc[['Stacy', 'Haden'], students.columns[[0, 2, 3, 0]]]\n",
    "```\n",
    "\n",
    "</details>"
   ]
  },
  {
   "cell_type": "markdown",
   "metadata": {},
   "source": [
    "## Transforming data"
   ]
  },
  {
   "cell_type": "markdown",
   "metadata": {},
   "source": [
    "Arithmetic operations apply to `Series` element by element. (like arrays)"
   ]
  },
  {
   "cell_type": "code",
   "execution_count": 59,
   "metadata": {},
   "outputs": [],
   "source": [
    "# Yes, this makes no sense.\n",
    "golf_df[\"TempHumid\"] = golf_df['Temperature'] + golf_df['Humidity']"
   ]
  },
  {
   "cell_type": "code",
   "execution_count": 60,
   "metadata": {},
   "outputs": [
    {
     "data": {
      "text/html": [
       "<div>\n",
       "<style scoped>\n",
       "    .dataframe tbody tr th:only-of-type {\n",
       "        vertical-align: middle;\n",
       "    }\n",
       "\n",
       "    .dataframe tbody tr th {\n",
       "        vertical-align: top;\n",
       "    }\n",
       "\n",
       "    .dataframe thead th {\n",
       "        text-align: right;\n",
       "    }\n",
       "</style>\n",
       "<table border=\"1\" class=\"dataframe\">\n",
       "  <thead>\n",
       "    <tr style=\"text-align: right;\">\n",
       "      <th></th>\n",
       "      <th>Date</th>\n",
       "      <th>Outlook</th>\n",
       "      <th>Temperature</th>\n",
       "      <th>Humidity</th>\n",
       "      <th>Windy</th>\n",
       "      <th>Result</th>\n",
       "      <th>TempHumid</th>\n",
       "    </tr>\n",
       "  </thead>\n",
       "  <tbody>\n",
       "    <tr>\n",
       "      <th>0</th>\n",
       "      <td>7/1/14</td>\n",
       "      <td>sunny</td>\n",
       "      <td>85</td>\n",
       "      <td>85</td>\n",
       "      <td>False</td>\n",
       "      <td>Don't Play</td>\n",
       "      <td>170</td>\n",
       "    </tr>\n",
       "    <tr>\n",
       "      <th>1</th>\n",
       "      <td>7/2/14</td>\n",
       "      <td>sunny</td>\n",
       "      <td>80</td>\n",
       "      <td>90</td>\n",
       "      <td>True</td>\n",
       "      <td>Don't Play</td>\n",
       "      <td>170</td>\n",
       "    </tr>\n",
       "    <tr>\n",
       "      <th>2</th>\n",
       "      <td>7/3/14</td>\n",
       "      <td>overcast</td>\n",
       "      <td>83</td>\n",
       "      <td>78</td>\n",
       "      <td>False</td>\n",
       "      <td>Play</td>\n",
       "      <td>161</td>\n",
       "    </tr>\n",
       "    <tr>\n",
       "      <th>3</th>\n",
       "      <td>7/4/14</td>\n",
       "      <td>rain</td>\n",
       "      <td>70</td>\n",
       "      <td>96</td>\n",
       "      <td>False</td>\n",
       "      <td>Play</td>\n",
       "      <td>166</td>\n",
       "    </tr>\n",
       "    <tr>\n",
       "      <th>4</th>\n",
       "      <td>7/5/14</td>\n",
       "      <td>rain</td>\n",
       "      <td>68</td>\n",
       "      <td>80</td>\n",
       "      <td>False</td>\n",
       "      <td>Play</td>\n",
       "      <td>148</td>\n",
       "    </tr>\n",
       "  </tbody>\n",
       "</table>\n",
       "</div>"
      ],
      "text/plain": [
       "     Date   Outlook  Temperature  Humidity  Windy      Result  TempHumid\n",
       "0  7/1/14     sunny           85        85  False  Don't Play        170\n",
       "1  7/2/14     sunny           80        90   True  Don't Play        170\n",
       "2  7/3/14  overcast           83        78  False        Play        161\n",
       "3  7/4/14      rain           70        96  False        Play        166\n",
       "4  7/5/14      rain           68        80  False        Play        148"
      ]
     },
     "execution_count": 60,
     "metadata": {},
     "output_type": "execute_result"
    }
   ],
   "source": [
    "golf_df.head()"
   ]
  },
  {
   "cell_type": "code",
   "execution_count": 61,
   "metadata": {},
   "outputs": [
    {
     "data": {
      "text/html": [
       "<div>\n",
       "<style scoped>\n",
       "    .dataframe tbody tr th:only-of-type {\n",
       "        vertical-align: middle;\n",
       "    }\n",
       "\n",
       "    .dataframe tbody tr th {\n",
       "        vertical-align: top;\n",
       "    }\n",
       "\n",
       "    .dataframe thead th {\n",
       "        text-align: right;\n",
       "    }\n",
       "</style>\n",
       "<table border=\"1\" class=\"dataframe\">\n",
       "  <thead>\n",
       "    <tr style=\"text-align: right;\">\n",
       "      <th></th>\n",
       "      <th>Temperature</th>\n",
       "      <th>Humidity</th>\n",
       "      <th>HeatIndex</th>\n",
       "    </tr>\n",
       "  </thead>\n",
       "  <tbody>\n",
       "    <tr>\n",
       "      <th>0</th>\n",
       "      <td>85</td>\n",
       "      <td>85</td>\n",
       "      <td>98.004631</td>\n",
       "    </tr>\n",
       "    <tr>\n",
       "      <th>1</th>\n",
       "      <td>80</td>\n",
       "      <td>90</td>\n",
       "      <td>84.474400</td>\n",
       "    </tr>\n",
       "    <tr>\n",
       "      <th>2</th>\n",
       "      <td>83</td>\n",
       "      <td>78</td>\n",
       "      <td>89.669911</td>\n",
       "    </tr>\n",
       "    <tr>\n",
       "      <th>3</th>\n",
       "      <td>70</td>\n",
       "      <td>96</td>\n",
       "      <td>62.847024</td>\n",
       "    </tr>\n",
       "    <tr>\n",
       "      <th>4</th>\n",
       "      <td>68</td>\n",
       "      <td>80</td>\n",
       "      <td>69.089776</td>\n",
       "    </tr>\n",
       "  </tbody>\n",
       "</table>\n",
       "</div>"
      ],
      "text/plain": [
       "   Temperature  Humidity  HeatIndex\n",
       "0           85        85  98.004631\n",
       "1           80        90  84.474400\n",
       "2           83        78  89.669911\n",
       "3           70        96  62.847024\n",
       "4           68        80  69.089776"
      ]
     },
     "execution_count": 61,
     "metadata": {},
     "output_type": "execute_result"
    }
   ],
   "source": [
    "# More Usefully\n",
    "\n",
    "# Heat index formula taken from wikipedia: \n",
    "#    https://en.wikipedia.org/wiki/Heat_index\n",
    "temp = golf_df['Temperature']\n",
    "humid = golf_df['Humidity']\n",
    "golf_df['HeatIndex'] = (-42.37 + 2.05*temp + 10.14*humid\n",
    "                        - 0.225*temp*humid\n",
    "                        - 6.84e-3*temp**2 \n",
    "                        - 5.482e-2*humid**2\n",
    "                        + 1.23e-3*temp**2*humid\n",
    "                        + 8.53e-4*temp*humid**2\n",
    "                        - 1.99e-6*temp**2*humid**2\n",
    ")\n",
    "golf_df[['Temperature', 'Humidity', 'HeatIndex']].head()"
   ]
  },
  {
   "cell_type": "markdown",
   "metadata": {},
   "source": [
    "### Question:\n",
    "\n",
    "Make a new column 'smarty_pants' that returns true if a student's grade is greater than 2.2 times their height. (tough school)\n",
    "\n",
    "```python\n",
    ">>> print(students[['grade','height', 'smarty_pants']])\n",
    "          grade  height  smarty_pants\n",
    "Tomas        45      34         False\n",
    "Angel        56      35         False\n",
    "Stacy        78      36         False\n",
    "Michaela     89      37          True\n",
    "Haden        90      38          True\n",
    "```"
   ]
  },
  {
   "cell_type": "code",
   "execution_count": null,
   "metadata": {},
   "outputs": [],
   "source": [
    "# write here:\n",
    "\n"
   ]
  },
  {
   "cell_type": "markdown",
   "metadata": {},
   "source": [
    "<details><summary>Solution\n",
    "</summary>\n",
    "\n",
    "```python\n",
    "students['smarty_pants'] = students['grade']>students['height']*2.2\n",
    "print(students[['grade','height', 'smarty_pants']])\n",
    "```\n",
    "\n",
    "</details>"
   ]
  },
  {
   "cell_type": "markdown",
   "metadata": {},
   "source": [
    "### Question:\n",
    "\n",
    "Make a new column 'percent fixed acidity' that finds how much of the total acidity is fixed in wine_quality_white.\n",
    "\n",
    "```python\n",
    ">>> print(wine_quality_white[['fixed acidity', 'volatile acidity', 'citric acid', 'percent fixed acidity']])\n",
    "      fixed acidity  volatile acidity  citric acid  percent fixed acidity\n",
    "0               7.0              0.27         0.36               0.917431\n",
    "1               6.3              0.30         0.34               0.907781\n",
    "2               8.1              0.28         0.40               0.922551\n",
    "3               7.2              0.23         0.32               0.929032\n",
    "4               7.2              0.23         0.32               0.929032\n",
    "...             ...               ...          ...                    ...\n",
    "4893            6.2              0.21         0.29               0.925373\n",
    "4894            6.6              0.32         0.36               0.906593\n",
    "4895            6.5              0.24         0.19               0.937951\n",
    "4896            5.5              0.29         0.30               0.903120\n",
    "4897            6.0              0.21         0.38               0.910470\n",
    "```"
   ]
  },
  {
   "cell_type": "code",
   "execution_count": null,
   "metadata": {},
   "outputs": [],
   "source": [
    "# write here:\n",
    "\n"
   ]
  },
  {
   "cell_type": "markdown",
   "metadata": {},
   "source": [
    "<details><summary>Solution\n",
    "</summary>\n",
    "\n",
    "```python\n",
    "wine_quality_white['percent fixed acidity'] = wine_quality_white['fixed acidity'] / \n",
    "                                                 (wine_quality_white['fixed acidity'] + \n",
    "                                                  wine_quality_white['volatile acidity'] + \n",
    "                                                  wine_quality_white['citric acid'])\n",
    "print(wine_quality_white[['fixed acidity', 'volatile acidity', 'citric acid', 'percent fixed acidity']])\n",
    "```\n",
    "(you still got it right if you didn't include citric acid)\n",
    "</details>"
   ]
  },
  {
   "cell_type": "markdown",
   "metadata": {},
   "source": [
    "## Apply"
   ]
  },
  {
   "cell_type": "markdown",
   "metadata": {},
   "source": [
    "We can create a new Series by applying functions to an existing Series.\n",
    "\n",
    "Lets say we wanted to get the day of the month out of the 'date' column."
   ]
  },
  {
   "cell_type": "code",
   "execution_count": 62,
   "metadata": {},
   "outputs": [
    {
     "data": {
      "text/html": [
       "<div>\n",
       "<style scoped>\n",
       "    .dataframe tbody tr th:only-of-type {\n",
       "        vertical-align: middle;\n",
       "    }\n",
       "\n",
       "    .dataframe tbody tr th {\n",
       "        vertical-align: top;\n",
       "    }\n",
       "\n",
       "    .dataframe thead th {\n",
       "        text-align: right;\n",
       "    }\n",
       "</style>\n",
       "<table border=\"1\" class=\"dataframe\">\n",
       "  <thead>\n",
       "    <tr style=\"text-align: right;\">\n",
       "      <th></th>\n",
       "      <th>Date</th>\n",
       "      <th>Outlook</th>\n",
       "      <th>Temperature</th>\n",
       "      <th>Humidity</th>\n",
       "      <th>Windy</th>\n",
       "      <th>Result</th>\n",
       "      <th>TempHumid</th>\n",
       "      <th>HeatIndex</th>\n",
       "    </tr>\n",
       "  </thead>\n",
       "  <tbody>\n",
       "    <tr>\n",
       "      <th>0</th>\n",
       "      <td>7/1/14</td>\n",
       "      <td>sunny</td>\n",
       "      <td>85</td>\n",
       "      <td>85</td>\n",
       "      <td>False</td>\n",
       "      <td>Don't Play</td>\n",
       "      <td>170</td>\n",
       "      <td>98.004631</td>\n",
       "    </tr>\n",
       "    <tr>\n",
       "      <th>1</th>\n",
       "      <td>7/2/14</td>\n",
       "      <td>sunny</td>\n",
       "      <td>80</td>\n",
       "      <td>90</td>\n",
       "      <td>True</td>\n",
       "      <td>Don't Play</td>\n",
       "      <td>170</td>\n",
       "      <td>84.474400</td>\n",
       "    </tr>\n",
       "    <tr>\n",
       "      <th>2</th>\n",
       "      <td>7/3/14</td>\n",
       "      <td>overcast</td>\n",
       "      <td>83</td>\n",
       "      <td>78</td>\n",
       "      <td>False</td>\n",
       "      <td>Play</td>\n",
       "      <td>161</td>\n",
       "      <td>89.669911</td>\n",
       "    </tr>\n",
       "    <tr>\n",
       "      <th>3</th>\n",
       "      <td>7/4/14</td>\n",
       "      <td>rain</td>\n",
       "      <td>70</td>\n",
       "      <td>96</td>\n",
       "      <td>False</td>\n",
       "      <td>Play</td>\n",
       "      <td>166</td>\n",
       "      <td>62.847024</td>\n",
       "    </tr>\n",
       "    <tr>\n",
       "      <th>4</th>\n",
       "      <td>7/5/14</td>\n",
       "      <td>rain</td>\n",
       "      <td>68</td>\n",
       "      <td>80</td>\n",
       "      <td>False</td>\n",
       "      <td>Play</td>\n",
       "      <td>148</td>\n",
       "      <td>69.089776</td>\n",
       "    </tr>\n",
       "    <tr>\n",
       "      <th>5</th>\n",
       "      <td>7/6/14</td>\n",
       "      <td>rain</td>\n",
       "      <td>65</td>\n",
       "      <td>70</td>\n",
       "      <td>True</td>\n",
       "      <td>Don't Play</td>\n",
       "      <td>135</td>\n",
       "      <td>73.668025</td>\n",
       "    </tr>\n",
       "    <tr>\n",
       "      <th>6</th>\n",
       "      <td>7/7/14</td>\n",
       "      <td>overcast</td>\n",
       "      <td>64</td>\n",
       "      <td>65</td>\n",
       "      <td>True</td>\n",
       "      <td>Play</td>\n",
       "      <td>129</td>\n",
       "      <td>75.987116</td>\n",
       "    </tr>\n",
       "    <tr>\n",
       "      <th>7</th>\n",
       "      <td>7/8/14</td>\n",
       "      <td>sunny</td>\n",
       "      <td>72</td>\n",
       "      <td>95</td>\n",
       "      <td>False</td>\n",
       "      <td>Don't Play</td>\n",
       "      <td>167</td>\n",
       "      <td>66.247396</td>\n",
       "    </tr>\n",
       "    <tr>\n",
       "      <th>8</th>\n",
       "      <td>7/9/14</td>\n",
       "      <td>sunny</td>\n",
       "      <td>69</td>\n",
       "      <td>70</td>\n",
       "      <td>False</td>\n",
       "      <td>Play</td>\n",
       "      <td>139</td>\n",
       "      <td>72.843649</td>\n",
       "    </tr>\n",
       "    <tr>\n",
       "      <th>9</th>\n",
       "      <td>7/10/14</td>\n",
       "      <td>rain</td>\n",
       "      <td>75</td>\n",
       "      <td>80</td>\n",
       "      <td>False</td>\n",
       "      <td>Play</td>\n",
       "      <td>155</td>\n",
       "      <td>74.557000</td>\n",
       "    </tr>\n",
       "    <tr>\n",
       "      <th>10</th>\n",
       "      <td>7/11/14</td>\n",
       "      <td>sunny</td>\n",
       "      <td>75</td>\n",
       "      <td>70</td>\n",
       "      <td>True</td>\n",
       "      <td>Play</td>\n",
       "      <td>145</td>\n",
       "      <td>75.777625</td>\n",
       "    </tr>\n",
       "    <tr>\n",
       "      <th>11</th>\n",
       "      <td>7/12/14</td>\n",
       "      <td>overcast</td>\n",
       "      <td>72</td>\n",
       "      <td>90</td>\n",
       "      <td>True</td>\n",
       "      <td>Play</td>\n",
       "      <td>162</td>\n",
       "      <td>68.106944</td>\n",
       "    </tr>\n",
       "    <tr>\n",
       "      <th>12</th>\n",
       "      <td>7/13/14</td>\n",
       "      <td>overcast</td>\n",
       "      <td>81</td>\n",
       "      <td>75</td>\n",
       "      <td>False</td>\n",
       "      <td>Play</td>\n",
       "      <td>156</td>\n",
       "      <td>84.523441</td>\n",
       "    </tr>\n",
       "    <tr>\n",
       "      <th>13</th>\n",
       "      <td>7/14/14</td>\n",
       "      <td>rain</td>\n",
       "      <td>71</td>\n",
       "      <td>80</td>\n",
       "      <td>True</td>\n",
       "      <td>Don't Play</td>\n",
       "      <td>151</td>\n",
       "      <td>70.486984</td>\n",
       "    </tr>\n",
       "  </tbody>\n",
       "</table>\n",
       "</div>"
      ],
      "text/plain": [
       "       Date   Outlook  Temperature  Humidity  Windy      Result  TempHumid  \\\n",
       "0    7/1/14     sunny           85        85  False  Don't Play        170   \n",
       "1    7/2/14     sunny           80        90   True  Don't Play        170   \n",
       "2    7/3/14  overcast           83        78  False        Play        161   \n",
       "3    7/4/14      rain           70        96  False        Play        166   \n",
       "4    7/5/14      rain           68        80  False        Play        148   \n",
       "5    7/6/14      rain           65        70   True  Don't Play        135   \n",
       "6    7/7/14  overcast           64        65   True        Play        129   \n",
       "7    7/8/14     sunny           72        95  False  Don't Play        167   \n",
       "8    7/9/14     sunny           69        70  False        Play        139   \n",
       "9   7/10/14      rain           75        80  False        Play        155   \n",
       "10  7/11/14     sunny           75        70   True        Play        145   \n",
       "11  7/12/14  overcast           72        90   True        Play        162   \n",
       "12  7/13/14  overcast           81        75  False        Play        156   \n",
       "13  7/14/14      rain           71        80   True  Don't Play        151   \n",
       "\n",
       "    HeatIndex  \n",
       "0   98.004631  \n",
       "1   84.474400  \n",
       "2   89.669911  \n",
       "3   62.847024  \n",
       "4   69.089776  \n",
       "5   73.668025  \n",
       "6   75.987116  \n",
       "7   66.247396  \n",
       "8   72.843649  \n",
       "9   74.557000  \n",
       "10  75.777625  \n",
       "11  68.106944  \n",
       "12  84.523441  \n",
       "13  70.486984  "
      ]
     },
     "execution_count": 62,
     "metadata": {},
     "output_type": "execute_result"
    }
   ],
   "source": [
    "golf_df"
   ]
  },
  {
   "cell_type": "code",
   "execution_count": 63,
   "metadata": {},
   "outputs": [
    {
     "data": {
      "text/plain": [
       "0      1\n",
       "1      2\n",
       "2      3\n",
       "3      4\n",
       "4      5\n",
       "5      6\n",
       "6      7\n",
       "7      8\n",
       "8      9\n",
       "9     10\n",
       "10    11\n",
       "11    12\n",
       "12    13\n",
       "13    14\n",
       "Name: Date, dtype: object"
      ]
     },
     "execution_count": 63,
     "metadata": {},
     "output_type": "execute_result"
    }
   ],
   "source": [
    "golf_df['Date'].apply(lambda x: x.split('/')[1])"
   ]
  },
  {
   "cell_type": "markdown",
   "metadata": {},
   "source": [
    "Apply takes each item from the 'date' series and *applies* the function to it. The outputs are arranged in a array of the same shape and index.\n",
    "\n",
    "So we can save it like so"
   ]
  },
  {
   "cell_type": "code",
   "execution_count": 64,
   "metadata": {},
   "outputs": [
    {
     "data": {
      "text/html": [
       "<div>\n",
       "<style scoped>\n",
       "    .dataframe tbody tr th:only-of-type {\n",
       "        vertical-align: middle;\n",
       "    }\n",
       "\n",
       "    .dataframe tbody tr th {\n",
       "        vertical-align: top;\n",
       "    }\n",
       "\n",
       "    .dataframe thead th {\n",
       "        text-align: right;\n",
       "    }\n",
       "</style>\n",
       "<table border=\"1\" class=\"dataframe\">\n",
       "  <thead>\n",
       "    <tr style=\"text-align: right;\">\n",
       "      <th></th>\n",
       "      <th>Date</th>\n",
       "      <th>Outlook</th>\n",
       "      <th>Temperature</th>\n",
       "      <th>Humidity</th>\n",
       "      <th>Windy</th>\n",
       "      <th>Result</th>\n",
       "      <th>TempHumid</th>\n",
       "      <th>HeatIndex</th>\n",
       "      <th>day</th>\n",
       "    </tr>\n",
       "  </thead>\n",
       "  <tbody>\n",
       "    <tr>\n",
       "      <th>0</th>\n",
       "      <td>7/1/14</td>\n",
       "      <td>sunny</td>\n",
       "      <td>85</td>\n",
       "      <td>85</td>\n",
       "      <td>False</td>\n",
       "      <td>Don't Play</td>\n",
       "      <td>170</td>\n",
       "      <td>98.004631</td>\n",
       "      <td>1</td>\n",
       "    </tr>\n",
       "    <tr>\n",
       "      <th>1</th>\n",
       "      <td>7/2/14</td>\n",
       "      <td>sunny</td>\n",
       "      <td>80</td>\n",
       "      <td>90</td>\n",
       "      <td>True</td>\n",
       "      <td>Don't Play</td>\n",
       "      <td>170</td>\n",
       "      <td>84.474400</td>\n",
       "      <td>2</td>\n",
       "    </tr>\n",
       "    <tr>\n",
       "      <th>2</th>\n",
       "      <td>7/3/14</td>\n",
       "      <td>overcast</td>\n",
       "      <td>83</td>\n",
       "      <td>78</td>\n",
       "      <td>False</td>\n",
       "      <td>Play</td>\n",
       "      <td>161</td>\n",
       "      <td>89.669911</td>\n",
       "      <td>3</td>\n",
       "    </tr>\n",
       "    <tr>\n",
       "      <th>3</th>\n",
       "      <td>7/4/14</td>\n",
       "      <td>rain</td>\n",
       "      <td>70</td>\n",
       "      <td>96</td>\n",
       "      <td>False</td>\n",
       "      <td>Play</td>\n",
       "      <td>166</td>\n",
       "      <td>62.847024</td>\n",
       "      <td>4</td>\n",
       "    </tr>\n",
       "    <tr>\n",
       "      <th>4</th>\n",
       "      <td>7/5/14</td>\n",
       "      <td>rain</td>\n",
       "      <td>68</td>\n",
       "      <td>80</td>\n",
       "      <td>False</td>\n",
       "      <td>Play</td>\n",
       "      <td>148</td>\n",
       "      <td>69.089776</td>\n",
       "      <td>5</td>\n",
       "    </tr>\n",
       "    <tr>\n",
       "      <th>5</th>\n",
       "      <td>7/6/14</td>\n",
       "      <td>rain</td>\n",
       "      <td>65</td>\n",
       "      <td>70</td>\n",
       "      <td>True</td>\n",
       "      <td>Don't Play</td>\n",
       "      <td>135</td>\n",
       "      <td>73.668025</td>\n",
       "      <td>6</td>\n",
       "    </tr>\n",
       "    <tr>\n",
       "      <th>6</th>\n",
       "      <td>7/7/14</td>\n",
       "      <td>overcast</td>\n",
       "      <td>64</td>\n",
       "      <td>65</td>\n",
       "      <td>True</td>\n",
       "      <td>Play</td>\n",
       "      <td>129</td>\n",
       "      <td>75.987116</td>\n",
       "      <td>7</td>\n",
       "    </tr>\n",
       "    <tr>\n",
       "      <th>7</th>\n",
       "      <td>7/8/14</td>\n",
       "      <td>sunny</td>\n",
       "      <td>72</td>\n",
       "      <td>95</td>\n",
       "      <td>False</td>\n",
       "      <td>Don't Play</td>\n",
       "      <td>167</td>\n",
       "      <td>66.247396</td>\n",
       "      <td>8</td>\n",
       "    </tr>\n",
       "    <tr>\n",
       "      <th>8</th>\n",
       "      <td>7/9/14</td>\n",
       "      <td>sunny</td>\n",
       "      <td>69</td>\n",
       "      <td>70</td>\n",
       "      <td>False</td>\n",
       "      <td>Play</td>\n",
       "      <td>139</td>\n",
       "      <td>72.843649</td>\n",
       "      <td>9</td>\n",
       "    </tr>\n",
       "    <tr>\n",
       "      <th>9</th>\n",
       "      <td>7/10/14</td>\n",
       "      <td>rain</td>\n",
       "      <td>75</td>\n",
       "      <td>80</td>\n",
       "      <td>False</td>\n",
       "      <td>Play</td>\n",
       "      <td>155</td>\n",
       "      <td>74.557000</td>\n",
       "      <td>10</td>\n",
       "    </tr>\n",
       "    <tr>\n",
       "      <th>10</th>\n",
       "      <td>7/11/14</td>\n",
       "      <td>sunny</td>\n",
       "      <td>75</td>\n",
       "      <td>70</td>\n",
       "      <td>True</td>\n",
       "      <td>Play</td>\n",
       "      <td>145</td>\n",
       "      <td>75.777625</td>\n",
       "      <td>11</td>\n",
       "    </tr>\n",
       "    <tr>\n",
       "      <th>11</th>\n",
       "      <td>7/12/14</td>\n",
       "      <td>overcast</td>\n",
       "      <td>72</td>\n",
       "      <td>90</td>\n",
       "      <td>True</td>\n",
       "      <td>Play</td>\n",
       "      <td>162</td>\n",
       "      <td>68.106944</td>\n",
       "      <td>12</td>\n",
       "    </tr>\n",
       "    <tr>\n",
       "      <th>12</th>\n",
       "      <td>7/13/14</td>\n",
       "      <td>overcast</td>\n",
       "      <td>81</td>\n",
       "      <td>75</td>\n",
       "      <td>False</td>\n",
       "      <td>Play</td>\n",
       "      <td>156</td>\n",
       "      <td>84.523441</td>\n",
       "      <td>13</td>\n",
       "    </tr>\n",
       "    <tr>\n",
       "      <th>13</th>\n",
       "      <td>7/14/14</td>\n",
       "      <td>rain</td>\n",
       "      <td>71</td>\n",
       "      <td>80</td>\n",
       "      <td>True</td>\n",
       "      <td>Don't Play</td>\n",
       "      <td>151</td>\n",
       "      <td>70.486984</td>\n",
       "      <td>14</td>\n",
       "    </tr>\n",
       "  </tbody>\n",
       "</table>\n",
       "</div>"
      ],
      "text/plain": [
       "       Date   Outlook  Temperature  Humidity  Windy      Result  TempHumid  \\\n",
       "0    7/1/14     sunny           85        85  False  Don't Play        170   \n",
       "1    7/2/14     sunny           80        90   True  Don't Play        170   \n",
       "2    7/3/14  overcast           83        78  False        Play        161   \n",
       "3    7/4/14      rain           70        96  False        Play        166   \n",
       "4    7/5/14      rain           68        80  False        Play        148   \n",
       "5    7/6/14      rain           65        70   True  Don't Play        135   \n",
       "6    7/7/14  overcast           64        65   True        Play        129   \n",
       "7    7/8/14     sunny           72        95  False  Don't Play        167   \n",
       "8    7/9/14     sunny           69        70  False        Play        139   \n",
       "9   7/10/14      rain           75        80  False        Play        155   \n",
       "10  7/11/14     sunny           75        70   True        Play        145   \n",
       "11  7/12/14  overcast           72        90   True        Play        162   \n",
       "12  7/13/14  overcast           81        75  False        Play        156   \n",
       "13  7/14/14      rain           71        80   True  Don't Play        151   \n",
       "\n",
       "    HeatIndex day  \n",
       "0   98.004631   1  \n",
       "1   84.474400   2  \n",
       "2   89.669911   3  \n",
       "3   62.847024   4  \n",
       "4   69.089776   5  \n",
       "5   73.668025   6  \n",
       "6   75.987116   7  \n",
       "7   66.247396   8  \n",
       "8   72.843649   9  \n",
       "9   74.557000  10  \n",
       "10  75.777625  11  \n",
       "11  68.106944  12  \n",
       "12  84.523441  13  \n",
       "13  70.486984  14  "
      ]
     },
     "execution_count": 64,
     "metadata": {},
     "output_type": "execute_result"
    }
   ],
   "source": [
    "golf_df['day'] = golf_df['Date'].apply(lambda x: x.split('/')[1])\n",
    "golf_df"
   ]
  },
  {
   "cell_type": "markdown",
   "metadata": {},
   "source": [
    "lambda is just a way of making a function. We can also apply a function we've already made."
   ]
  },
  {
   "cell_type": "code",
   "execution_count": 65,
   "metadata": {},
   "outputs": [
    {
     "data": {
      "text/plain": [
       "0      1\n",
       "1      2\n",
       "2      3\n",
       "3      4\n",
       "4      5\n",
       "5      6\n",
       "6      7\n",
       "7      8\n",
       "8      9\n",
       "9     10\n",
       "10    11\n",
       "11    12\n",
       "12    13\n",
       "13    14\n",
       "Name: Date, dtype: object"
      ]
     },
     "execution_count": 65,
     "metadata": {},
     "output_type": "execute_result"
    }
   ],
   "source": [
    "def get_day(x):\n",
    "    return x.split('/')[1]\n",
    "\n",
    "golf_df['Date'].apply(get_day)"
   ]
  },
  {
   "cell_type": "markdown",
   "metadata": {},
   "source": [
    "We can also apply a function to each row of the DataFrame by specifying the column and axis equals 1. "
   ]
  },
  {
   "cell_type": "code",
   "execution_count": 66,
   "metadata": {},
   "outputs": [
    {
     "data": {
      "text/plain": [
       "0     170\n",
       "1     170\n",
       "2     161\n",
       "3     166\n",
       "4     148\n",
       "5     135\n",
       "6     129\n",
       "7     167\n",
       "8     139\n",
       "9     155\n",
       "10    145\n",
       "11    162\n",
       "12    156\n",
       "13    151\n",
       "dtype: int64"
      ]
     },
     "execution_count": 66,
     "metadata": {},
     "output_type": "execute_result"
    }
   ],
   "source": [
    "golf_df.apply(lambda x: x['Temperature'] + x['Humidity'], axis=1)"
   ]
  },
  {
   "cell_type": "markdown",
   "metadata": {},
   "source": [
    "(This method is slower than using plain ol' arithmetics though)"
   ]
  },
  {
   "cell_type": "markdown",
   "metadata": {},
   "source": [
    "In general, `.apply` is useful for mapping complex functions across your data."
   ]
  },
  {
   "cell_type": "markdown",
   "metadata": {},
   "source": [
    "### Question:\n",
    "\n",
    "Make a new column 'report_card' that returns 'FAILURE' if a student's grade is below 60%, and the student's grade if the grade is not below 60%. (tough school)\n",
    "\n",
    "```python\n",
    ">>> print(students[['grade','height', 'report_card']])\n",
    "          grade  height report_card\n",
    "Tomas        45      34     FAILURE\n",
    "Angel        56      35     FAILURE\n",
    "Stacy        78      36          78\n",
    "Michaela     89      37          89\n",
    "Haden        90      38          90\n",
    "```"
   ]
  },
  {
   "cell_type": "code",
   "execution_count": null,
   "metadata": {},
   "outputs": [],
   "source": [
    "# write here:\n",
    "\n"
   ]
  },
  {
   "cell_type": "markdown",
   "metadata": {},
   "source": [
    "<details><summary>Solution\n",
    "</summary>\n",
    "\n",
    "```python\n",
    "students['report_card'] = students['grade'].apply(lambda x: x if x>=60 else 'FAILURE')\n",
    "print(students[['grade','height', 'report_card']])\n",
    "```\n",
    "\n",
    "</details>"
   ]
  },
  {
   "cell_type": "markdown",
   "metadata": {},
   "source": [
    "### Question:\n",
    "\n",
    "Make a new column 'even_height' that returns 'Even' if their height is even, and 'odd' if it isn't.\n",
    "\n",
    "```python\n",
    ">>> print(students[['grade','height', 'even_height']])\n",
    "          grade  height even_height\n",
    "Tomas        45      34        Even\n",
    "Angel        56      35         Odd\n",
    "Stacy        78      36        Even\n",
    "Michaela     89      37         Odd\n",
    "Haden        90      38        Even\n",
    "```"
   ]
  },
  {
   "cell_type": "code",
   "execution_count": null,
   "metadata": {},
   "outputs": [],
   "source": [
    "# write here:\n",
    "\n"
   ]
  },
  {
   "cell_type": "markdown",
   "metadata": {},
   "source": [
    "<details><summary>Solution\n",
    "</summary>\n",
    "\n",
    "```python\n",
    "students['report_card'] = students['grade'].apply(lambda x: x if x>=60 else 'FAILURE')\n",
    "print(students[['grade','height', 'even_height']])\n",
    "\n",
    "#OR\n",
    "\n",
    "students['report_card'] = np.array([\"Even\", \"Odd\"])[students['height']%2]\n",
    "print(students[['grade','height', 'even_height']])\n",
    "# but that doesn't use apply, but is a faster method to consider for later (using our NUMPY skills!)\n",
    "```\n",
    "\n",
    "</details>"
   ]
  },
  {
   "cell_type": "markdown",
   "metadata": {},
   "source": [
    "## Aggregating data"
   ]
  },
  {
   "cell_type": "markdown",
   "metadata": {},
   "source": [
    "There exists MANY methods availible to us within each dataframe. Some of them are aggregators, just like in numpy."
   ]
  },
  {
   "cell_type": "code",
   "execution_count": 67,
   "metadata": {},
   "outputs": [
    {
     "data": {
      "text/plain": [
       "Date           14\n",
       "Outlook        14\n",
       "Temperature    14\n",
       "Humidity       14\n",
       "Windy          14\n",
       "Result         14\n",
       "TempHumid      14\n",
       "HeatIndex      14\n",
       "day            14\n",
       "dtype: int64"
      ]
     },
     "execution_count": 67,
     "metadata": {},
     "output_type": "execute_result"
    }
   ],
   "source": [
    "golf_df.count() # this counts the items in the row that are not None"
   ]
  },
  {
   "cell_type": "code",
   "execution_count": 68,
   "metadata": {},
   "outputs": [
    {
     "data": {
      "text/plain": [
       "0     9\n",
       "1     9\n",
       "2     9\n",
       "3     9\n",
       "4     9\n",
       "5     9\n",
       "6     9\n",
       "7     9\n",
       "8     9\n",
       "9     9\n",
       "10    9\n",
       "11    9\n",
       "12    9\n",
       "13    9\n",
       "dtype: int64"
      ]
     },
     "execution_count": 68,
     "metadata": {},
     "output_type": "execute_result"
    }
   ],
   "source": [
    "golf_df.count(axis=1)"
   ]
  },
  {
   "cell_type": "code",
   "execution_count": 69,
   "metadata": {},
   "outputs": [
    {
     "data": {
      "text/plain": [
       "Temperature    7.357143e+01\n",
       "Humidity       8.028571e+01\n",
       "Windy          4.285714e-01\n",
       "TempHumid      1.538571e+02\n",
       "HeatIndex      7.616314e+01\n",
       "day            8.818342e+16\n",
       "dtype: float64"
      ]
     },
     "execution_count": 69,
     "metadata": {},
     "output_type": "execute_result"
    }
   ],
   "source": [
    "golf_df.mean()"
   ]
  },
  {
   "cell_type": "code",
   "execution_count": 70,
   "metadata": {},
   "outputs": [
    {
     "data": {
      "text/plain": [
       "Date           7/1/147/2/147/3/147/4/147/5/147/6/147/7/147/8/...\n",
       "Outlook        sunnysunnyovercastrainrainrainovercastsunnysun...\n",
       "Temperature                                                 1030\n",
       "Humidity                                                    1124\n",
       "Windy                                                          6\n",
       "Result         Don't PlayDon't PlayPlayPlayPlayDon't PlayPlay...\n",
       "TempHumid                                                   2154\n",
       "HeatIndex                                            1066.283922\n",
       "day                                          1234567891011121314\n",
       "dtype: object"
      ]
     },
     "execution_count": 70,
     "metadata": {},
     "output_type": "execute_result"
    }
   ],
   "source": [
    "golf_df.sum()"
   ]
  },
  {
   "cell_type": "code",
   "execution_count": 71,
   "metadata": {},
   "outputs": [
    {
     "data": {
      "text/plain": [
       "Date               7/1/14\n",
       "Outlook          overcast\n",
       "Temperature            64\n",
       "Humidity               65\n",
       "Windy               False\n",
       "Result         Don't Play\n",
       "TempHumid             129\n",
       "HeatIndex       62.847024\n",
       "day                     1\n",
       "dtype: object"
      ]
     },
     "execution_count": 71,
     "metadata": {},
     "output_type": "execute_result"
    }
   ],
   "source": [
    "golf_df.aggregate(min)"
   ]
  },
  {
   "cell_type": "markdown",
   "metadata": {},
   "source": [
    "But what if we want to figure ot the minimum temperature on overcast vs rainy vs sunny days? \n",
    "\n",
    "We use a groupby statement! Like from sql!"
   ]
  },
  {
   "cell_type": "code",
   "execution_count": 72,
   "metadata": {},
   "outputs": [
    {
     "data": {
      "text/html": [
       "<div>\n",
       "<style scoped>\n",
       "    .dataframe tbody tr th:only-of-type {\n",
       "        vertical-align: middle;\n",
       "    }\n",
       "\n",
       "    .dataframe tbody tr th {\n",
       "        vertical-align: top;\n",
       "    }\n",
       "\n",
       "    .dataframe thead th {\n",
       "        text-align: right;\n",
       "    }\n",
       "</style>\n",
       "<table border=\"1\" class=\"dataframe\">\n",
       "  <thead>\n",
       "    <tr style=\"text-align: right;\">\n",
       "      <th></th>\n",
       "      <th>Date</th>\n",
       "      <th>Temperature</th>\n",
       "      <th>Humidity</th>\n",
       "      <th>Windy</th>\n",
       "      <th>Result</th>\n",
       "      <th>TempHumid</th>\n",
       "      <th>HeatIndex</th>\n",
       "      <th>day</th>\n",
       "    </tr>\n",
       "    <tr>\n",
       "      <th>Outlook</th>\n",
       "      <th></th>\n",
       "      <th></th>\n",
       "      <th></th>\n",
       "      <th></th>\n",
       "      <th></th>\n",
       "      <th></th>\n",
       "      <th></th>\n",
       "      <th></th>\n",
       "    </tr>\n",
       "  </thead>\n",
       "  <tbody>\n",
       "    <tr>\n",
       "      <th>overcast</th>\n",
       "      <td>7/12/14</td>\n",
       "      <td>64</td>\n",
       "      <td>65</td>\n",
       "      <td>False</td>\n",
       "      <td>Play</td>\n",
       "      <td>129</td>\n",
       "      <td>68.106944</td>\n",
       "      <td>12</td>\n",
       "    </tr>\n",
       "    <tr>\n",
       "      <th>rain</th>\n",
       "      <td>7/10/14</td>\n",
       "      <td>65</td>\n",
       "      <td>70</td>\n",
       "      <td>False</td>\n",
       "      <td>Don't Play</td>\n",
       "      <td>135</td>\n",
       "      <td>62.847024</td>\n",
       "      <td>10</td>\n",
       "    </tr>\n",
       "    <tr>\n",
       "      <th>sunny</th>\n",
       "      <td>7/1/14</td>\n",
       "      <td>69</td>\n",
       "      <td>70</td>\n",
       "      <td>False</td>\n",
       "      <td>Don't Play</td>\n",
       "      <td>139</td>\n",
       "      <td>66.247396</td>\n",
       "      <td>1</td>\n",
       "    </tr>\n",
       "  </tbody>\n",
       "</table>\n",
       "</div>"
      ],
      "text/plain": [
       "             Date  Temperature  Humidity  Windy      Result  TempHumid  \\\n",
       "Outlook                                                                  \n",
       "overcast  7/12/14           64        65  False        Play        129   \n",
       "rain      7/10/14           65        70  False  Don't Play        135   \n",
       "sunny      7/1/14           69        70  False  Don't Play        139   \n",
       "\n",
       "          HeatIndex day  \n",
       "Outlook                  \n",
       "overcast  68.106944  12  \n",
       "rain      62.847024  10  \n",
       "sunny     66.247396   1  "
      ]
     },
     "execution_count": 72,
     "metadata": {},
     "output_type": "execute_result"
    }
   ],
   "source": [
    "golf_df.groupby('Outlook').aggregate(min)"
   ]
  },
  {
   "cell_type": "markdown",
   "metadata": {},
   "source": [
    "This took the minimum of each __Outlook__ of *every* other column. And notice that __Outlook__ is now the index! \n",
    "\n",
    "Lets just look at what we care about, the temperature."
   ]
  },
  {
   "cell_type": "code",
   "execution_count": 73,
   "metadata": {},
   "outputs": [
    {
     "data": {
      "text/html": [
       "<div>\n",
       "<style scoped>\n",
       "    .dataframe tbody tr th:only-of-type {\n",
       "        vertical-align: middle;\n",
       "    }\n",
       "\n",
       "    .dataframe tbody tr th {\n",
       "        vertical-align: top;\n",
       "    }\n",
       "\n",
       "    .dataframe thead th {\n",
       "        text-align: right;\n",
       "    }\n",
       "</style>\n",
       "<table border=\"1\" class=\"dataframe\">\n",
       "  <thead>\n",
       "    <tr style=\"text-align: right;\">\n",
       "      <th></th>\n",
       "      <th>Temperature</th>\n",
       "    </tr>\n",
       "    <tr>\n",
       "      <th>Outlook</th>\n",
       "      <th></th>\n",
       "    </tr>\n",
       "  </thead>\n",
       "  <tbody>\n",
       "    <tr>\n",
       "      <th>overcast</th>\n",
       "      <td>64</td>\n",
       "    </tr>\n",
       "    <tr>\n",
       "      <th>rain</th>\n",
       "      <td>65</td>\n",
       "    </tr>\n",
       "    <tr>\n",
       "      <th>sunny</th>\n",
       "      <td>69</td>\n",
       "    </tr>\n",
       "  </tbody>\n",
       "</table>\n",
       "</div>"
      ],
      "text/plain": [
       "          Temperature\n",
       "Outlook              \n",
       "overcast           64\n",
       "rain               65\n",
       "sunny              69"
      ]
     },
     "execution_count": 73,
     "metadata": {},
     "output_type": "execute_result"
    }
   ],
   "source": [
    "golf_df.groupby('Outlook').aggregate(min)[['Temperature']]"
   ]
  },
  {
   "cell_type": "markdown",
   "metadata": {},
   "source": [
    "### Question:\n",
    "\n",
    "Return the average weather data for each Outlook.\n",
    "\n",
    "```python\n",
    "          Temperature  Humidity  Windy  TempHumid  HeatIndex\n",
    "Outlook                                                     \n",
    "overcast         75.0      77.0    0.5      152.0  79.571853\n",
    "rain             69.8      81.2    0.4      151.0  70.129762\n",
    "sunny            76.2      82.0    0.4      158.2  79.469540\n",
    "```"
   ]
  },
  {
   "cell_type": "code",
   "execution_count": null,
   "metadata": {},
   "outputs": [],
   "source": [
    "# write here:\n",
    "\n"
   ]
  },
  {
   "cell_type": "markdown",
   "metadata": {},
   "source": [
    "<details><summary>Solution\n",
    "</summary>\n",
    "\n",
    "```python\n",
    "print(golf_df.groupby('Outlook').mean())\n",
    "```\n",
    "\n",
    "</details>"
   ]
  },
  {
   "cell_type": "markdown",
   "metadata": {},
   "source": [
    "### Question:\n",
    "\n",
    "Return the max temperature on windy and non-windy days.\n",
    "\n",
    "```python\n",
    "Windy\n",
    "False    85\n",
    "True     80\n",
    "```"
   ]
  },
  {
   "cell_type": "code",
   "execution_count": null,
   "metadata": {},
   "outputs": [],
   "source": [
    "# write here:\n",
    "\n"
   ]
  },
  {
   "cell_type": "markdown",
   "metadata": {},
   "source": [
    "<details><summary>Solution\n",
    "</summary>\n",
    "\n",
    "```python\n",
    "print(golf_df.groupby('Windy').max()['Temperature'])\n",
    "```\n",
    "\n",
    "</details>"
   ]
  },
  {
   "cell_type": "markdown",
   "metadata": {},
   "source": [
    "Note that groupby is a big topic; more documentation is at http://pandas.pydata.org/pandas-docs/stable/groupby.html\n",
    "\n"
   ]
  },
  {
   "cell_type": "markdown",
   "metadata": {},
   "source": [
    "# Some Extra, Useful Stuff"
   ]
  },
  {
   "cell_type": "markdown",
   "metadata": {},
   "source": [
    "## Various Summaries"
   ]
  },
  {
   "cell_type": "markdown",
   "metadata": {},
   "source": [
    "The `info` method is useful for checking column types and quickly seeing if you have NaN in the data."
   ]
  },
  {
   "cell_type": "code",
   "execution_count": 74,
   "metadata": {},
   "outputs": [
    {
     "name": "stdout",
     "output_type": "stream",
     "text": [
      "<class 'pandas.core.frame.DataFrame'>\n",
      "RangeIndex: 14 entries, 0 to 13\n",
      "Data columns (total 9 columns):\n",
      " #   Column       Non-Null Count  Dtype  \n",
      "---  ------       --------------  -----  \n",
      " 0   Date         14 non-null     object \n",
      " 1   Outlook      14 non-null     object \n",
      " 2   Temperature  14 non-null     int64  \n",
      " 3   Humidity     14 non-null     int64  \n",
      " 4   Windy        14 non-null     bool   \n",
      " 5   Result       14 non-null     object \n",
      " 6   TempHumid    14 non-null     int64  \n",
      " 7   HeatIndex    14 non-null     float64\n",
      " 8   day          14 non-null     object \n",
      "dtypes: bool(1), float64(1), int64(3), object(4)\n",
      "memory usage: 1.0+ KB\n"
     ]
    }
   ],
   "source": [
    "golf_df.info()"
   ]
  },
  {
   "cell_type": "markdown",
   "metadata": {},
   "source": [
    "The `describe` method will give you a quick sense of the quartiles and distribution."
   ]
  },
  {
   "cell_type": "code",
   "execution_count": 75,
   "metadata": {},
   "outputs": [
    {
     "data": {
      "text/html": [
       "<div>\n",
       "<style scoped>\n",
       "    .dataframe tbody tr th:only-of-type {\n",
       "        vertical-align: middle;\n",
       "    }\n",
       "\n",
       "    .dataframe tbody tr th {\n",
       "        vertical-align: top;\n",
       "    }\n",
       "\n",
       "    .dataframe thead th {\n",
       "        text-align: right;\n",
       "    }\n",
       "</style>\n",
       "<table border=\"1\" class=\"dataframe\">\n",
       "  <thead>\n",
       "    <tr style=\"text-align: right;\">\n",
       "      <th></th>\n",
       "      <th>Temperature</th>\n",
       "      <th>Humidity</th>\n",
       "      <th>TempHumid</th>\n",
       "      <th>HeatIndex</th>\n",
       "    </tr>\n",
       "  </thead>\n",
       "  <tbody>\n",
       "    <tr>\n",
       "      <th>count</th>\n",
       "      <td>14.000000</td>\n",
       "      <td>14.000000</td>\n",
       "      <td>14.000000</td>\n",
       "      <td>14.000000</td>\n",
       "    </tr>\n",
       "    <tr>\n",
       "      <th>mean</th>\n",
       "      <td>73.571429</td>\n",
       "      <td>80.285714</td>\n",
       "      <td>153.857143</td>\n",
       "      <td>76.163137</td>\n",
       "    </tr>\n",
       "    <tr>\n",
       "      <th>std</th>\n",
       "      <td>6.571667</td>\n",
       "      <td>9.840486</td>\n",
       "      <td>13.242456</td>\n",
       "      <td>9.771440</td>\n",
       "    </tr>\n",
       "    <tr>\n",
       "      <th>min</th>\n",
       "      <td>64.000000</td>\n",
       "      <td>65.000000</td>\n",
       "      <td>129.000000</td>\n",
       "      <td>62.847024</td>\n",
       "    </tr>\n",
       "    <tr>\n",
       "      <th>25%</th>\n",
       "      <td>69.250000</td>\n",
       "      <td>71.250000</td>\n",
       "      <td>145.750000</td>\n",
       "      <td>69.439078</td>\n",
       "    </tr>\n",
       "    <tr>\n",
       "      <th>50%</th>\n",
       "      <td>72.000000</td>\n",
       "      <td>80.000000</td>\n",
       "      <td>155.500000</td>\n",
       "      <td>74.112513</td>\n",
       "    </tr>\n",
       "    <tr>\n",
       "      <th>75%</th>\n",
       "      <td>78.750000</td>\n",
       "      <td>88.750000</td>\n",
       "      <td>165.000000</td>\n",
       "      <td>82.352579</td>\n",
       "    </tr>\n",
       "    <tr>\n",
       "      <th>max</th>\n",
       "      <td>85.000000</td>\n",
       "      <td>96.000000</td>\n",
       "      <td>170.000000</td>\n",
       "      <td>98.004631</td>\n",
       "    </tr>\n",
       "  </tbody>\n",
       "</table>\n",
       "</div>"
      ],
      "text/plain": [
       "       Temperature   Humidity   TempHumid  HeatIndex\n",
       "count    14.000000  14.000000   14.000000  14.000000\n",
       "mean     73.571429  80.285714  153.857143  76.163137\n",
       "std       6.571667   9.840486   13.242456   9.771440\n",
       "min      64.000000  65.000000  129.000000  62.847024\n",
       "25%      69.250000  71.250000  145.750000  69.439078\n",
       "50%      72.000000  80.000000  155.500000  74.112513\n",
       "75%      78.750000  88.750000  165.000000  82.352579\n",
       "max      85.000000  96.000000  170.000000  98.004631"
      ]
     },
     "execution_count": 75,
     "metadata": {},
     "output_type": "execute_result"
    }
   ],
   "source": [
    "golf_df.describe()"
   ]
  },
  {
   "cell_type": "markdown",
   "metadata": {},
   "source": [
    "### Question:\n",
    "\n",
    "Which column in wine_quality_white has the biggest standard deviation? "
   ]
  },
  {
   "cell_type": "code",
   "execution_count": null,
   "metadata": {},
   "outputs": [],
   "source": [
    "# write here:\n",
    "\n"
   ]
  },
  {
   "cell_type": "markdown",
   "metadata": {},
   "source": [
    "<details><summary>Solution\n",
    "</summary>\n",
    "\n",
    "```python\n",
    "wine_quality_white.describe()\n",
    "\n",
    "# then look visually to see it's 'total sulfure dioxide'\n",
    "```\n",
    "\n",
    "</details>"
   ]
  },
  {
   "cell_type": "markdown",
   "metadata": {},
   "source": [
    "### Question:\n",
    "\n",
    "How much memory does wine_quality_white take in pandas?\n"
   ]
  },
  {
   "cell_type": "code",
   "execution_count": null,
   "metadata": {},
   "outputs": [],
   "source": [
    "# write here:\n",
    "\n"
   ]
  },
  {
   "cell_type": "markdown",
   "metadata": {},
   "source": [
    "<details><summary>Solution\n",
    "</summary>\n",
    "\n",
    "```python\n",
    "wine_quality_white.info()\n",
    "\n",
    "# then look at the verrrry bottom. Answers may very. Mine says 459.3 KB.\n",
    "```\n",
    "\n",
    "</details>"
   ]
  },
  {
   "cell_type": "markdown",
   "metadata": {},
   "source": [
    "### Question:\n",
    "\n",
    "Which columns are integers in wine_quality_white?"
   ]
  },
  {
   "cell_type": "code",
   "execution_count": null,
   "metadata": {},
   "outputs": [],
   "source": [
    "# write here:\n",
    "\n"
   ]
  },
  {
   "cell_type": "markdown",
   "metadata": {},
   "source": [
    "<details><summary>Solution\n",
    "</summary>\n",
    "\n",
    "```python\n",
    "wine_quality_white.info()\n",
    "\n",
    "# then look at the last column and you'll see quality is the last one\n",
    "```\n",
    "\n",
    "</details>"
   ]
  },
  {
   "cell_type": "markdown",
   "metadata": {},
   "source": [
    "### Question:\n",
    "\n",
    "Which column has the lowest 75th percentile? \n",
    "\n",
    "(The 75th percentile is the datapoint that is higher than 75% of the data in that group)"
   ]
  },
  {
   "cell_type": "code",
   "execution_count": null,
   "metadata": {},
   "outputs": [],
   "source": [
    "# write here:\n",
    "\n"
   ]
  },
  {
   "cell_type": "markdown",
   "metadata": {},
   "source": [
    "<details><summary>Solution\n",
    "</summary>\n",
    "\n",
    "```python\n",
    "wine_quality_white.describe()\n",
    "\n",
    "# then look at the 75% row. Clorides have the lowest value.\n",
    "```\n",
    "\n",
    "</details>"
   ]
  },
  {
   "cell_type": "markdown",
   "metadata": {},
   "source": [
    "## Frequency Tables"
   ]
  },
  {
   "cell_type": "markdown",
   "metadata": {},
   "source": [
    "The `crosstab` function will allow us to quickly take a look at the frequency count between two columns."
   ]
  },
  {
   "cell_type": "code",
   "execution_count": 76,
   "metadata": {},
   "outputs": [
    {
     "data": {
      "text/html": [
       "<div>\n",
       "<style scoped>\n",
       "    .dataframe tbody tr th:only-of-type {\n",
       "        vertical-align: middle;\n",
       "    }\n",
       "\n",
       "    .dataframe tbody tr th {\n",
       "        vertical-align: top;\n",
       "    }\n",
       "\n",
       "    .dataframe thead th {\n",
       "        text-align: right;\n",
       "    }\n",
       "</style>\n",
       "<table border=\"1\" class=\"dataframe\">\n",
       "  <thead>\n",
       "    <tr style=\"text-align: right;\">\n",
       "      <th>Result</th>\n",
       "      <th>Don't Play</th>\n",
       "      <th>Play</th>\n",
       "    </tr>\n",
       "    <tr>\n",
       "      <th>Outlook</th>\n",
       "      <th></th>\n",
       "      <th></th>\n",
       "    </tr>\n",
       "  </thead>\n",
       "  <tbody>\n",
       "    <tr>\n",
       "      <th>overcast</th>\n",
       "      <td>0</td>\n",
       "      <td>4</td>\n",
       "    </tr>\n",
       "    <tr>\n",
       "      <th>rain</th>\n",
       "      <td>2</td>\n",
       "      <td>3</td>\n",
       "    </tr>\n",
       "    <tr>\n",
       "      <th>sunny</th>\n",
       "      <td>3</td>\n",
       "      <td>2</td>\n",
       "    </tr>\n",
       "  </tbody>\n",
       "</table>\n",
       "</div>"
      ],
      "text/plain": [
       "Result    Don't Play  Play\n",
       "Outlook                   \n",
       "overcast           0     4\n",
       "rain               2     3\n",
       "sunny              3     2"
      ]
     },
     "execution_count": 76,
     "metadata": {},
     "output_type": "execute_result"
    }
   ],
   "source": [
    "pd.crosstab(golf_df['Outlook'], golf_df['Result'])"
   ]
  },
  {
   "cell_type": "markdown",
   "metadata": {},
   "source": [
    "## DateTimes"
   ]
  },
  {
   "cell_type": "markdown",
   "metadata": {},
   "source": [
    "We can turn strings of dates into datetime types by using Pandas' `to_datetime` function."
   ]
  },
  {
   "cell_type": "code",
   "execution_count": 77,
   "metadata": {},
   "outputs": [
    {
     "data": {
      "text/plain": [
       "0    2014-07-01\n",
       "1    2014-07-02\n",
       "2    2014-07-03\n",
       "3    2014-07-04\n",
       "4    2014-07-05\n",
       "5    2014-07-06\n",
       "6    2014-07-07\n",
       "7    2014-07-08\n",
       "8    2014-07-09\n",
       "9    2014-07-10\n",
       "10   2014-07-11\n",
       "11   2014-07-12\n",
       "12   2014-07-13\n",
       "13   2014-07-14\n",
       "Name: DateTime, dtype: datetime64[ns]"
      ]
     },
     "execution_count": 77,
     "metadata": {},
     "output_type": "execute_result"
    }
   ],
   "source": [
    "golf_df['DateTime'] = pd.to_datetime(golf_df['Date'])\n",
    "golf_df['DateTime']"
   ]
  },
  {
   "cell_type": "markdown",
   "metadata": {},
   "source": [
    "Though `day` and `dayofweek` look the same, they are NOT. Look closely to see the difference."
   ]
  },
  {
   "cell_type": "code",
   "execution_count": 78,
   "metadata": {},
   "outputs": [
    {
     "data": {
      "text/plain": [
       "0      1\n",
       "1      2\n",
       "2      3\n",
       "3      4\n",
       "4      5\n",
       "5      6\n",
       "6      7\n",
       "7      8\n",
       "8      9\n",
       "9     10\n",
       "10    11\n",
       "11    12\n",
       "12    13\n",
       "13    14\n",
       "Name: DateTime, dtype: int64"
      ]
     },
     "execution_count": 78,
     "metadata": {},
     "output_type": "execute_result"
    }
   ],
   "source": [
    "golf_df['DateTime'].dt.day"
   ]
  },
  {
   "cell_type": "code",
   "execution_count": 79,
   "metadata": {},
   "outputs": [
    {
     "data": {
      "text/plain": [
       "0     1\n",
       "1     2\n",
       "2     3\n",
       "3     4\n",
       "4     5\n",
       "5     6\n",
       "6     0\n",
       "7     1\n",
       "8     2\n",
       "9     3\n",
       "10    4\n",
       "11    5\n",
       "12    6\n",
       "13    0\n",
       "Name: DateTime, dtype: int64"
      ]
     },
     "execution_count": 79,
     "metadata": {},
     "output_type": "execute_result"
    }
   ],
   "source": [
    "golf_df['DateTime'].dt.dayofweek"
   ]
  },
  {
   "cell_type": "code",
   "execution_count": 81,
   "metadata": {},
   "outputs": [
    {
     "data": {
      "text/plain": [
       "0     7\n",
       "1     7\n",
       "2     7\n",
       "3     7\n",
       "4     7\n",
       "5     7\n",
       "6     7\n",
       "7     7\n",
       "8     7\n",
       "9     7\n",
       "10    7\n",
       "11    7\n",
       "12    7\n",
       "13    7\n",
       "Name: DateTime, dtype: int64"
      ]
     },
     "execution_count": 81,
     "metadata": {},
     "output_type": "execute_result"
    }
   ],
   "source": [
    "golf_df['DateTime'].dt.month"
   ]
  },
  {
   "cell_type": "code",
   "execution_count": 80,
   "metadata": {},
   "outputs": [
    {
     "data": {
      "text/plain": [
       "Timedelta('-5 days +00:00:00')"
      ]
     },
     "execution_count": 80,
     "metadata": {},
     "output_type": "execute_result"
    }
   ],
   "source": [
    "golf_df['DateTime'][0] - golf_df['DateTime'][5]"
   ]
  },
  {
   "cell_type": "code",
   "execution_count": 82,
   "metadata": {},
   "outputs": [
    {
     "data": {
      "text/plain": [
       "0    0 days\n",
       "1    0 days\n",
       "2    0 days\n",
       "3    0 days\n",
       "4    0 days\n",
       "5    0 days\n",
       "6    0 days\n",
       "7    0 days\n",
       "8    0 days\n",
       "9    0 days\n",
       "10   0 days\n",
       "11   0 days\n",
       "12   0 days\n",
       "13   0 days\n",
       "Name: DateTime, dtype: timedelta64[ns]"
      ]
     },
     "execution_count": 82,
     "metadata": {},
     "output_type": "execute_result"
    }
   ],
   "source": [
    "golf_df['DateTime'] - golf_df['DateTime']"
   ]
  },
  {
   "cell_type": "markdown",
   "metadata": {},
   "source": [
    "There is a HOST of stuff you can do with datetimes. "
   ]
  },
  {
   "cell_type": "markdown",
   "metadata": {},
   "source": [
    "### Question:\n",
    "\n",
    "Return the latest day of the week that we played AND didn't play in. \n",
    "(6 means end of week)\n",
    "\n",
    "```python\n",
    "Result\n",
    "Don't Play    6\n",
    "Play          6\n",
    "Name: dayofweek, dtype: int64\n",
    "```"
   ]
  },
  {
   "cell_type": "code",
   "execution_count": null,
   "metadata": {},
   "outputs": [],
   "source": [
    "# write here:\n",
    "\n"
   ]
  },
  {
   "cell_type": "markdown",
   "metadata": {},
   "source": [
    "<details><summary>Solution\n",
    "</summary>\n",
    "\n",
    "```python\n",
    "golf_df['Datetime'] = pd.to_datetime(golf_df['Date'])\n",
    "golf_df[\"dayofweek\"] = golf_df['Datetime'].dt.dayofweek\n",
    "print(golf_df.groupby('Result').max()[\"dayofweek\"])\n",
    "```\n",
    "\n",
    "</details>"
   ]
  },
  {
   "cell_type": "markdown",
   "metadata": {},
   "source": [
    "## Creating a New Row Index"
   ]
  },
  {
   "cell_type": "markdown",
   "metadata": {},
   "source": [
    "We can also set the index to be an existing column(s)."
   ]
  },
  {
   "cell_type": "code",
   "execution_count": 83,
   "metadata": {},
   "outputs": [
    {
     "data": {
      "text/html": [
       "<div>\n",
       "<style scoped>\n",
       "    .dataframe tbody tr th:only-of-type {\n",
       "        vertical-align: middle;\n",
       "    }\n",
       "\n",
       "    .dataframe tbody tr th {\n",
       "        vertical-align: top;\n",
       "    }\n",
       "\n",
       "    .dataframe thead th {\n",
       "        text-align: right;\n",
       "    }\n",
       "</style>\n",
       "<table border=\"1\" class=\"dataframe\">\n",
       "  <thead>\n",
       "    <tr style=\"text-align: right;\">\n",
       "      <th></th>\n",
       "      <th>Date</th>\n",
       "      <th>Outlook</th>\n",
       "      <th>Temperature</th>\n",
       "      <th>Humidity</th>\n",
       "      <th>Windy</th>\n",
       "      <th>Result</th>\n",
       "      <th>TempHumid</th>\n",
       "      <th>HeatIndex</th>\n",
       "      <th>day</th>\n",
       "    </tr>\n",
       "    <tr>\n",
       "      <th>DateTime</th>\n",
       "      <th></th>\n",
       "      <th></th>\n",
       "      <th></th>\n",
       "      <th></th>\n",
       "      <th></th>\n",
       "      <th></th>\n",
       "      <th></th>\n",
       "      <th></th>\n",
       "      <th></th>\n",
       "    </tr>\n",
       "  </thead>\n",
       "  <tbody>\n",
       "    <tr>\n",
       "      <th>2014-07-01</th>\n",
       "      <td>7/1/14</td>\n",
       "      <td>sunny</td>\n",
       "      <td>85</td>\n",
       "      <td>85</td>\n",
       "      <td>False</td>\n",
       "      <td>Don't Play</td>\n",
       "      <td>170</td>\n",
       "      <td>98.004631</td>\n",
       "      <td>1</td>\n",
       "    </tr>\n",
       "    <tr>\n",
       "      <th>2014-07-02</th>\n",
       "      <td>7/2/14</td>\n",
       "      <td>sunny</td>\n",
       "      <td>80</td>\n",
       "      <td>90</td>\n",
       "      <td>True</td>\n",
       "      <td>Don't Play</td>\n",
       "      <td>170</td>\n",
       "      <td>84.474400</td>\n",
       "      <td>2</td>\n",
       "    </tr>\n",
       "    <tr>\n",
       "      <th>2014-07-03</th>\n",
       "      <td>7/3/14</td>\n",
       "      <td>overcast</td>\n",
       "      <td>83</td>\n",
       "      <td>78</td>\n",
       "      <td>False</td>\n",
       "      <td>Play</td>\n",
       "      <td>161</td>\n",
       "      <td>89.669911</td>\n",
       "      <td>3</td>\n",
       "    </tr>\n",
       "    <tr>\n",
       "      <th>2014-07-04</th>\n",
       "      <td>7/4/14</td>\n",
       "      <td>rain</td>\n",
       "      <td>70</td>\n",
       "      <td>96</td>\n",
       "      <td>False</td>\n",
       "      <td>Play</td>\n",
       "      <td>166</td>\n",
       "      <td>62.847024</td>\n",
       "      <td>4</td>\n",
       "    </tr>\n",
       "    <tr>\n",
       "      <th>2014-07-05</th>\n",
       "      <td>7/5/14</td>\n",
       "      <td>rain</td>\n",
       "      <td>68</td>\n",
       "      <td>80</td>\n",
       "      <td>False</td>\n",
       "      <td>Play</td>\n",
       "      <td>148</td>\n",
       "      <td>69.089776</td>\n",
       "      <td>5</td>\n",
       "    </tr>\n",
       "    <tr>\n",
       "      <th>2014-07-06</th>\n",
       "      <td>7/6/14</td>\n",
       "      <td>rain</td>\n",
       "      <td>65</td>\n",
       "      <td>70</td>\n",
       "      <td>True</td>\n",
       "      <td>Don't Play</td>\n",
       "      <td>135</td>\n",
       "      <td>73.668025</td>\n",
       "      <td>6</td>\n",
       "    </tr>\n",
       "    <tr>\n",
       "      <th>2014-07-07</th>\n",
       "      <td>7/7/14</td>\n",
       "      <td>overcast</td>\n",
       "      <td>64</td>\n",
       "      <td>65</td>\n",
       "      <td>True</td>\n",
       "      <td>Play</td>\n",
       "      <td>129</td>\n",
       "      <td>75.987116</td>\n",
       "      <td>7</td>\n",
       "    </tr>\n",
       "    <tr>\n",
       "      <th>2014-07-08</th>\n",
       "      <td>7/8/14</td>\n",
       "      <td>sunny</td>\n",
       "      <td>72</td>\n",
       "      <td>95</td>\n",
       "      <td>False</td>\n",
       "      <td>Don't Play</td>\n",
       "      <td>167</td>\n",
       "      <td>66.247396</td>\n",
       "      <td>8</td>\n",
       "    </tr>\n",
       "    <tr>\n",
       "      <th>2014-07-09</th>\n",
       "      <td>7/9/14</td>\n",
       "      <td>sunny</td>\n",
       "      <td>69</td>\n",
       "      <td>70</td>\n",
       "      <td>False</td>\n",
       "      <td>Play</td>\n",
       "      <td>139</td>\n",
       "      <td>72.843649</td>\n",
       "      <td>9</td>\n",
       "    </tr>\n",
       "    <tr>\n",
       "      <th>2014-07-10</th>\n",
       "      <td>7/10/14</td>\n",
       "      <td>rain</td>\n",
       "      <td>75</td>\n",
       "      <td>80</td>\n",
       "      <td>False</td>\n",
       "      <td>Play</td>\n",
       "      <td>155</td>\n",
       "      <td>74.557000</td>\n",
       "      <td>10</td>\n",
       "    </tr>\n",
       "    <tr>\n",
       "      <th>2014-07-11</th>\n",
       "      <td>7/11/14</td>\n",
       "      <td>sunny</td>\n",
       "      <td>75</td>\n",
       "      <td>70</td>\n",
       "      <td>True</td>\n",
       "      <td>Play</td>\n",
       "      <td>145</td>\n",
       "      <td>75.777625</td>\n",
       "      <td>11</td>\n",
       "    </tr>\n",
       "    <tr>\n",
       "      <th>2014-07-12</th>\n",
       "      <td>7/12/14</td>\n",
       "      <td>overcast</td>\n",
       "      <td>72</td>\n",
       "      <td>90</td>\n",
       "      <td>True</td>\n",
       "      <td>Play</td>\n",
       "      <td>162</td>\n",
       "      <td>68.106944</td>\n",
       "      <td>12</td>\n",
       "    </tr>\n",
       "    <tr>\n",
       "      <th>2014-07-13</th>\n",
       "      <td>7/13/14</td>\n",
       "      <td>overcast</td>\n",
       "      <td>81</td>\n",
       "      <td>75</td>\n",
       "      <td>False</td>\n",
       "      <td>Play</td>\n",
       "      <td>156</td>\n",
       "      <td>84.523441</td>\n",
       "      <td>13</td>\n",
       "    </tr>\n",
       "    <tr>\n",
       "      <th>2014-07-14</th>\n",
       "      <td>7/14/14</td>\n",
       "      <td>rain</td>\n",
       "      <td>71</td>\n",
       "      <td>80</td>\n",
       "      <td>True</td>\n",
       "      <td>Don't Play</td>\n",
       "      <td>151</td>\n",
       "      <td>70.486984</td>\n",
       "      <td>14</td>\n",
       "    </tr>\n",
       "  </tbody>\n",
       "</table>\n",
       "</div>"
      ],
      "text/plain": [
       "               Date   Outlook  Temperature  Humidity  Windy      Result  \\\n",
       "DateTime                                                                  \n",
       "2014-07-01   7/1/14     sunny           85        85  False  Don't Play   \n",
       "2014-07-02   7/2/14     sunny           80        90   True  Don't Play   \n",
       "2014-07-03   7/3/14  overcast           83        78  False        Play   \n",
       "2014-07-04   7/4/14      rain           70        96  False        Play   \n",
       "2014-07-05   7/5/14      rain           68        80  False        Play   \n",
       "2014-07-06   7/6/14      rain           65        70   True  Don't Play   \n",
       "2014-07-07   7/7/14  overcast           64        65   True        Play   \n",
       "2014-07-08   7/8/14     sunny           72        95  False  Don't Play   \n",
       "2014-07-09   7/9/14     sunny           69        70  False        Play   \n",
       "2014-07-10  7/10/14      rain           75        80  False        Play   \n",
       "2014-07-11  7/11/14     sunny           75        70   True        Play   \n",
       "2014-07-12  7/12/14  overcast           72        90   True        Play   \n",
       "2014-07-13  7/13/14  overcast           81        75  False        Play   \n",
       "2014-07-14  7/14/14      rain           71        80   True  Don't Play   \n",
       "\n",
       "            TempHumid  HeatIndex day  \n",
       "DateTime                              \n",
       "2014-07-01        170  98.004631   1  \n",
       "2014-07-02        170  84.474400   2  \n",
       "2014-07-03        161  89.669911   3  \n",
       "2014-07-04        166  62.847024   4  \n",
       "2014-07-05        148  69.089776   5  \n",
       "2014-07-06        135  73.668025   6  \n",
       "2014-07-07        129  75.987116   7  \n",
       "2014-07-08        167  66.247396   8  \n",
       "2014-07-09        139  72.843649   9  \n",
       "2014-07-10        155  74.557000  10  \n",
       "2014-07-11        145  75.777625  11  \n",
       "2014-07-12        162  68.106944  12  \n",
       "2014-07-13        156  84.523441  13  \n",
       "2014-07-14        151  70.486984  14  "
      ]
     },
     "execution_count": 83,
     "metadata": {},
     "output_type": "execute_result"
    }
   ],
   "source": [
    "date_df = golf_df.set_index('DateTime')\n",
    "date_df"
   ]
  },
  {
   "cell_type": "code",
   "execution_count": 84,
   "metadata": {},
   "outputs": [
    {
     "data": {
      "text/plain": [
       "DatetimeIndex(['2014-07-01', '2014-07-02', '2014-07-03', '2014-07-04',\n",
       "               '2014-07-05', '2014-07-06', '2014-07-07', '2014-07-08',\n",
       "               '2014-07-09', '2014-07-10', '2014-07-11', '2014-07-12',\n",
       "               '2014-07-13', '2014-07-14'],\n",
       "              dtype='datetime64[ns]', name='DateTime', freq=None)"
      ]
     },
     "execution_count": 84,
     "metadata": {},
     "output_type": "execute_result"
    }
   ],
   "source": [
    "date_df.index"
   ]
  },
  {
   "cell_type": "markdown",
   "metadata": {},
   "source": [
    "If we have an index of datetime types, we can use the `resample` method to quickly look at time based aggregations."
   ]
  },
  {
   "cell_type": "code",
   "execution_count": 85,
   "metadata": {},
   "outputs": [
    {
     "data": {
      "text/html": [
       "<div>\n",
       "<style scoped>\n",
       "    .dataframe tbody tr th:only-of-type {\n",
       "        vertical-align: middle;\n",
       "    }\n",
       "\n",
       "    .dataframe tbody tr th {\n",
       "        vertical-align: top;\n",
       "    }\n",
       "\n",
       "    .dataframe thead th {\n",
       "        text-align: right;\n",
       "    }\n",
       "</style>\n",
       "<table border=\"1\" class=\"dataframe\">\n",
       "  <thead>\n",
       "    <tr style=\"text-align: right;\">\n",
       "      <th></th>\n",
       "      <th>Temperature</th>\n",
       "      <th>Humidity</th>\n",
       "      <th>Windy</th>\n",
       "      <th>TempHumid</th>\n",
       "      <th>HeatIndex</th>\n",
       "    </tr>\n",
       "    <tr>\n",
       "      <th>DateTime</th>\n",
       "      <th></th>\n",
       "      <th></th>\n",
       "      <th></th>\n",
       "      <th></th>\n",
       "      <th></th>\n",
       "    </tr>\n",
       "  </thead>\n",
       "  <tbody>\n",
       "    <tr>\n",
       "      <th>2014-07-06</th>\n",
       "      <td>75.166667</td>\n",
       "      <td>83.166667</td>\n",
       "      <td>0.333333</td>\n",
       "      <td>158.333333</td>\n",
       "      <td>79.625628</td>\n",
       "    </tr>\n",
       "    <tr>\n",
       "      <th>2014-07-13</th>\n",
       "      <td>72.571429</td>\n",
       "      <td>77.857143</td>\n",
       "      <td>0.428571</td>\n",
       "      <td>150.428571</td>\n",
       "      <td>74.006167</td>\n",
       "    </tr>\n",
       "    <tr>\n",
       "      <th>2014-07-20</th>\n",
       "      <td>71.000000</td>\n",
       "      <td>80.000000</td>\n",
       "      <td>1.000000</td>\n",
       "      <td>151.000000</td>\n",
       "      <td>70.486984</td>\n",
       "    </tr>\n",
       "  </tbody>\n",
       "</table>\n",
       "</div>"
      ],
      "text/plain": [
       "            Temperature   Humidity     Windy   TempHumid  HeatIndex\n",
       "DateTime                                                           \n",
       "2014-07-06    75.166667  83.166667  0.333333  158.333333  79.625628\n",
       "2014-07-13    72.571429  77.857143  0.428571  150.428571  74.006167\n",
       "2014-07-20    71.000000  80.000000  1.000000  151.000000  70.486984"
      ]
     },
     "execution_count": 85,
     "metadata": {},
     "output_type": "execute_result"
    }
   ],
   "source": [
    "# Weekly means.\n",
    "date_df.resample('W').mean()"
   ]
  },
  {
   "cell_type": "markdown",
   "metadata": {},
   "source": [
    "This will be especially useful when we work with time series."
   ]
  },
  {
   "cell_type": "markdown",
   "metadata": {},
   "source": [
    "## Writing Data"
   ]
  },
  {
   "cell_type": "markdown",
   "metadata": {},
   "source": [
    "We can write data into a csv file.\n",
    "\n",
    "```python \n",
    ">>> golf_df.to_csv('new_playgolf.csv', index=False)\n",
    "\n",
    ">>> !cat new_playgolf.csv \n",
    "\n",
    "Date,Outlook,Temperature,Humidity,Windy,Result,TempHumid,HeatIndex,day,DateTime\n",
    "7/1/14,sunny,85,85,False,Don't Play,170,98.0046312500001,1,2014-07-01\n",
    "7/2/14,sunny,80,90,True,Don't Play,170,84.47439999999996,2,2014-07-02\n",
    "7/3/14,overcast,83,78,False,Play,161,89.66991075999985,3,2014-07-03\n",
    "7/4/14,rain,70,96,False,Play,166,62.84702400000019,4,2014-07-04\n",
    "7/5/14,rain,68,80,False,Play,148,69.08977600000006,5,2014-07-05\n",
    "7/6/14,rain,65,70,True,Don't Play,135,73.66802499999999,6,2014-07-06\n",
    "7/7/14,overcast,64,65,True,Play,129,75.9871160000001,7,2014-07-07\n",
    "7/8/14,sunny,72,95,False,Don't Play,167,66.2473960000001,8,2014-07-08\n",
    "7/9/14,sunny,69,70,False,Play,139,72.84364900000003,9,2014-07-09\n",
    "7/10/14,rain,75,80,False,Play,155,74.55700000000012,10,2014-07-10\n",
    "7/11/14,sunny,75,70,True,Play,145,75.777625,11,2014-07-11\n",
    "7/12/14,overcast,72,90,True,Play,162,68.10694399999996,12,2014-07-12\n",
    "7/13/14,overcast,81,75,False,Play,156,84.52344124999973,13,2014-07-13\n",
    "7/14/14,rain,71,80,True,Don't Play,151,70.48698400000002,14,2014-07-14\n",
    "```"
   ]
  },
  {
   "cell_type": "markdown",
   "metadata": {},
   "source": [
    "## Exploratory Data Analysis"
   ]
  },
  {
   "cell_type": "markdown",
   "metadata": {},
   "source": [
    "### Question:\n",
    "\n",
    "Now lets put these skills together in the way we would typically explore data. This is called EDA. Exploratory Data Analysis.\n",
    "\n",
    "Open chess_games.csv and answer these questions (use markdown headers to denote which question you are answering) \n",
    "\n",
    "1. how many rows of data do you have?\n",
    "1. What does each row represent?\n",
    "1. Who won more, white or black?\n",
    "1. How many moves per game on average?\n",
    "1. What was the most likely 'first move'?\n",
    "1. How many games end in checkmate? (the alternative is to surrender or timeout)\n",
    "1. What percent of games is that?\n",
    "1. How long was the average game?\n",
    "1. How long was the average game that white won? How long was the average game that was a draw?\n",
    "1. What is an increment code?\n",
    "1. Ask three of your own questions *in writing*. Then answer them. (we write our questions because if you come back later you'll forget what question you were answering)\n"
   ]
  },
  {
   "cell_type": "markdown",
   "metadata": {},
   "source": [
    "write your question after the '####':\n",
    "\n",
    "#### 1: [YOUR QUESTION TITLE HERE]"
   ]
  },
  {
   "cell_type": "code",
   "execution_count": null,
   "metadata": {},
   "outputs": [],
   "source": [
    "#  how many rows of data do you have?\n",
    "# write code here:\n",
    "\n"
   ]
  },
  {
   "cell_type": "code",
   "execution_count": null,
   "metadata": {},
   "outputs": [],
   "source": []
  },
  {
   "cell_type": "markdown",
   "metadata": {},
   "source": [
    "<details><summary>Solution 1\n",
    "</summary>\n",
    "\n",
    "```python\n",
    "chess = pd.read_csv('data/chess_games.csv')\n",
    "chess.count()\n",
    "```\n",
    "\n",
    "</details>"
   ]
  },
  {
   "cell_type": "markdown",
   "metadata": {},
   "source": [
    "write your question after the '####':\n",
    "\n",
    "#### "
   ]
  },
  {
   "cell_type": "code",
   "execution_count": null,
   "metadata": {},
   "outputs": [],
   "source": [
    "# What does each row represent?\n",
    "# write code here:\n",
    "\n"
   ]
  },
  {
   "cell_type": "code",
   "execution_count": null,
   "metadata": {},
   "outputs": [],
   "source": []
  },
  {
   "cell_type": "markdown",
   "metadata": {},
   "source": [
    "<details><summary>Solution 2\n",
    "</summary>\n",
    "\n",
    "```chess['moves']``` shows that we have multiple moves per row. So probably games? Ah, and theres a winner in ```chess['winner']```. Games.\n",
    "    \n",
    "HINT: ```chess.T``` switches rows and columns. (it stands for transpose). Using it allows us to see more of the columns in one look.\n",
    "   \n",
    "```python\n",
    "\n",
    "```\n",
    "\n",
    "</details>"
   ]
  },
  {
   "cell_type": "markdown",
   "metadata": {},
   "source": [
    "write your question after the '####':\n",
    "\n",
    "#### "
   ]
  },
  {
   "cell_type": "code",
   "execution_count": null,
   "metadata": {},
   "outputs": [],
   "source": [
    "# Who won more, white or black?\n",
    "# write code here:\n",
    "\n"
   ]
  },
  {
   "cell_type": "code",
   "execution_count": null,
   "metadata": {},
   "outputs": [],
   "source": []
  },
  {
   "cell_type": "code",
   "execution_count": null,
   "metadata": {},
   "outputs": [],
   "source": []
  },
  {
   "cell_type": "markdown",
   "metadata": {},
   "source": [
    "<details><summary>Solution 3\n",
    "</summary>\n",
    "\n",
    "   \n",
    "```python\n",
    "chess['winner'].value_counts()\n",
    "\n",
    "```\n",
    "\n",
    "</details>"
   ]
  },
  {
   "cell_type": "markdown",
   "metadata": {},
   "source": [
    "write your question after the '####':\n",
    "\n",
    "####"
   ]
  },
  {
   "cell_type": "code",
   "execution_count": null,
   "metadata": {},
   "outputs": [],
   "source": [
    "# How many moves per game on average?\n",
    "# write code here:\n",
    "\n"
   ]
  },
  {
   "cell_type": "code",
   "execution_count": null,
   "metadata": {},
   "outputs": [],
   "source": []
  },
  {
   "cell_type": "markdown",
   "metadata": {},
   "source": [
    "<details><summary>Solution 4\n",
    "</summary>\n",
    "\n",
    "```chess.T``` allows us to see more of the rows.\n",
    "\n",
    "```chess['moves']``` shows that we have multiple moves per row. So probably games? Ah, and theres a winner in ```chess['winner']```. Games.\n",
    "    \n",
    "```python\n",
    "\n",
    ">>> chess.moves.apply(lambda x: x.split(' ')) # shows the items per row in a list\n",
    "\n",
    "0        [d4, d5, c4, c6, cxd5, e6, dxe6, fxe6, Nf3, Bb...\n",
    "1        [d4, Nc6, e4, e5, f4, f6, dxe5, fxe5, fxe5, Nx...\n",
    "2        [e4, e5, d3, d6, Be3, c6, Be2, b5, Nd2, a5, a4...\n",
    "3        [d4, d5, Nf3, Bf5, Nc3, Nf6, Bf4, Ng4, e3, Nc6...\n",
    "4        [e4, e5, Nf3, d6, d4, Nc6, d5, Nb4, a3, Na6, N...\n",
    "                               ...                        \n",
    "\n",
    ">>> chess.moves.apply(lambda x: len(x.split(' '))) # shows the length per list\n",
    "\n",
    "0         13\n",
    "1         16\n",
    "2         61\n",
    "3         61\n",
    "4         95\n",
    "\n",
    ">>> chess.moves.apply(lambda x: len(x.split(' '))).mean() # take the mean\n",
    "60.46599860404826\n",
    "```\n",
    "\n",
    "</details>"
   ]
  },
  {
   "cell_type": "markdown",
   "metadata": {},
   "source": [
    "write your question after the '####':\n",
    "\n",
    "#### "
   ]
  },
  {
   "cell_type": "code",
   "execution_count": null,
   "metadata": {},
   "outputs": [],
   "source": [
    "# What is the most common opening move?\n",
    "# write code here:\n",
    "\n"
   ]
  },
  {
   "cell_type": "code",
   "execution_count": null,
   "metadata": {},
   "outputs": [],
   "source": []
  },
  {
   "cell_type": "code",
   "execution_count": null,
   "metadata": {},
   "outputs": [],
   "source": []
  },
  {
   "cell_type": "markdown",
   "metadata": {},
   "source": [
    "<details><summary>Solution 5\n",
    "</summary>\n",
    "\n",
    "```python\n",
    "chess.moves.apply(lambda x: x.split(' ')[0]).value_counts()\n",
    "```\n",
    "\n",
    "</details>"
   ]
  },
  {
   "cell_type": "markdown",
   "metadata": {},
   "source": [
    "write your question after the '####':\n",
    "\n",
    "#### "
   ]
  },
  {
   "cell_type": "code",
   "execution_count": null,
   "metadata": {},
   "outputs": [],
   "source": [
    "# How many games end in checkmate?\n",
    "# write code here:\n",
    "\n"
   ]
  },
  {
   "cell_type": "code",
   "execution_count": null,
   "metadata": {},
   "outputs": [],
   "source": []
  },
  {
   "cell_type": "code",
   "execution_count": null,
   "metadata": {},
   "outputs": [],
   "source": []
  },
  {
   "cell_type": "markdown",
   "metadata": {},
   "source": [
    "<details><summary>Solution 6\n",
    "</summary>\n",
    "\n",
    "\n",
    "```python\n",
    ">>> chess.moves.apply(lambda x: x.split(' ')[-1]).value_counts()\n",
    "\n",
    "Qxf7#    176\n",
    "Qg7#     170\n",
    "Qg2#     157\n",
    "Qxg2#    141\n",
    "Qxg7#    137\n",
    "        ... \n",
    "Qhh4#      1\n",
    "Bxg6#      1\n",
    "Rxa2+      1\n",
    "Qac8#      1\n",
    "Ngxe3      1\n",
    "\n",
    "# hmm. Now I had to go look up what '#' means. Ok it means Checkmate. So now I grab the end of each string.\n",
    "\n",
    ">>> chess.moves.apply(lambda x: x.split(' ')[-1][-1]).value_counts()\n",
    "\n",
    "#    6325\n",
    "+    2764\n",
    "5    1890\n",
    "4    1806\n",
    "6    1599\n",
    "3    1466\n",
    "7    1185\n",
    "2    1101\n",
    "1     879\n",
    "8     844\n",
    "Q     130\n",
    "O      62\n",
    "R       4\n",
    "N       2\n",
    "B       1\n",
    "\n",
    "```\n",
    "\n",
    "</details>"
   ]
  },
  {
   "cell_type": "code",
   "execution_count": null,
   "metadata": {},
   "outputs": [],
   "source": [
    "# What percent of games end in checkmate?\n",
    "# write code here:\n",
    "\n"
   ]
  },
  {
   "cell_type": "code",
   "execution_count": null,
   "metadata": {},
   "outputs": [],
   "source": []
  },
  {
   "cell_type": "code",
   "execution_count": null,
   "metadata": {},
   "outputs": [],
   "source": []
  },
  {
   "cell_type": "markdown",
   "metadata": {},
   "source": [
    "<details><summary>Solution 7\n",
    "</summary>\n",
    "\n",
    "\n",
    "```python\n",
    ">>> chess.moves.apply(lambda x: x.split(' ')[-1][-1]).value_counts()/len(chess)\n",
    "\n",
    "#    0.315336\n",
    "+    0.137800\n",
    "5    0.094227\n",
    "4    0.090039\n",
    "6    0.079719\n",
    "3    0.073088\n",
    "7    0.059079\n",
    "2    0.054891\n",
    "1    0.043823\n",
    "8    0.042078\n",
    "Q    0.006481\n",
    "O    0.003091\n",
    "R    0.000199\n",
    "N    0.000100\n",
    "B    0.000050\n",
    "Name: moves, dtype: float64\n",
    "```\n",
    "> 31% of games ended with checkmate, and 13% of games ended with a normal 'check'\n",
    "</details>"
   ]
  },
  {
   "cell_type": "code",
   "execution_count": null,
   "metadata": {},
   "outputs": [],
   "source": [
    "# How long was the average game?\n",
    "# write code here:\n",
    "\n"
   ]
  },
  {
   "cell_type": "code",
   "execution_count": null,
   "metadata": {},
   "outputs": [],
   "source": []
  },
  {
   "cell_type": "code",
   "execution_count": null,
   "metadata": {},
   "outputs": [],
   "source": []
  },
  {
   "cell_type": "markdown",
   "metadata": {},
   "source": [
    "<details><summary>Solution 8\n",
    "</summary>\n",
    "\n",
    "```python\n",
    ">>> chess['last_move_at'] - chess['created_at']\n",
    "\n",
    "0             0.0\n",
    "1             0.0\n",
    "2             0.0\n",
    "3             0.0\n",
    "4             0.0\n",
    "           ...   \n",
    "20053    321734.0\n",
    "20054    744219.0\n",
    "20055    172834.0\n",
    "20056    946699.0\n",
    "20057    736699.0\n",
    "Length: 20058, dtype: float64\n",
    "\n",
    "# hmmm. This gives a bunch of... nanoseconds? miliseconds?\"\n",
    "\n",
    "# I netter google 'how to go from milliseconds to pandas datetime.'\n",
    "# I click stack overflow, The first suggestion (and always a good bet).\n",
    "# First answer says pd.to_datetime(df['UNIXTIME'], unit='ms')\n",
    "# Lets try that.\n",
    "\n",
    "\n",
    ">>> pd.to_datetime(chess['datetime_created_at'], unit='ms')\n",
    "\n",
    "0       2017-08-31 20:06:40.000000000\n",
    "1       2017-08-30 21:53:20.000000000\n",
    "2       2017-08-30 21:53:20.000000000\n",
    "3       2017-08-30 16:20:00.000000000\n",
    "4       2017-08-29 18:06:40.000000000\n",
    "                     ...             \n",
    "20053   2017-07-11 16:35:14.342000128\n",
    "20054   2017-07-10 14:48:09.760000000\n",
    "20055   2017-07-10 14:44:37.492999936\n",
    "20056   2017-07-10 14:15:27.019000064\n",
    "20057   2017-07-09 23:32:32.648999936\n",
    "Name: datetime_created_at, Length: 20058, dtype: datetime64[ns]\n",
    "\n",
    "That looks reasonable\n",
    "\n",
    ">>> chess['datetime_last_move'] = pd.to_datetime(chess['last_move_at'], unit='ms')\n",
    ">>> chess['datetime_created_at'] = pd.to_datetime(chess['created_at'], unit='ms')\n",
    ">>> chess['datetime_last_move'] - chess['datetime_created_at']\n",
    "\n",
    "0              00:00:00\n",
    "1              00:00:00\n",
    "2              00:00:00\n",
    "3              00:00:00\n",
    "4              00:00:00\n",
    "              ...      \n",
    "20053   00:05:21.734000\n",
    "20054   00:12:24.219000\n",
    "20055   00:02:52.834000\n",
    "20056   00:15:46.699000\n",
    "20057   00:12:16.699000\n",
    "Length: 20058, dtype: timedelta64[ns]\n",
    "\n",
    "\n",
    ">>> (chess['datetime_last_move'] - chess['datetime_created_at']).mean()\n",
    "\n",
    "Timedelta('0 days 00:14:29.707049')\n",
    "\n",
    "# looks like the average game is '14 minutes, 30 seconds'\n",
    "\n",
    "```\n",
    "\n",
    "</details>"
   ]
  },
  {
   "cell_type": "code",
   "execution_count": null,
   "metadata": {},
   "outputs": [],
   "source": [
    "# How long was the average game that white won? How long was the average game that was a draw?\n",
    "# write code here:\n",
    "\n"
   ]
  },
  {
   "cell_type": "code",
   "execution_count": null,
   "metadata": {},
   "outputs": [],
   "source": []
  },
  {
   "cell_type": "code",
   "execution_count": null,
   "metadata": {},
   "outputs": [],
   "source": []
  },
  {
   "cell_type": "markdown",
   "metadata": {},
   "source": [
    "<details><summary>Solution 9\n",
    "</summary>\n",
    "\n",
    "\n",
    "```python\n",
    "# this one was hard for me because\n",
    "chess.groupby('winner').mean()\n",
    "# Doesn't return our column! Bleh!\n",
    "\n",
    "# but this works\n",
    "chess[chess['winner']=='white'].mean()\n",
    "\n",
    "# and so does this\n",
    "chess['game_ms'] = chess['last_move_at'] - chess['created_at']\n",
    "pd.to_datetime(chess.groupby('winner').mean()['game_ms'], unit='ms')\n",
    "```\n",
    "    \n",
    "</details>"
   ]
  },
  {
   "cell_type": "code",
   "execution_count": null,
   "metadata": {},
   "outputs": [],
   "source": [
    "# write code here:\n",
    "\n"
   ]
  },
  {
   "cell_type": "code",
   "execution_count": null,
   "metadata": {},
   "outputs": [],
   "source": []
  },
  {
   "cell_type": "code",
   "execution_count": null,
   "metadata": {},
   "outputs": [],
   "source": [
    "# What is the increment code?"
   ]
  },
  {
   "cell_type": "markdown",
   "metadata": {},
   "source": [
    "<details><summary> Solution 10\n",
    "</summary>\n",
    "\n",
    "google 'increment code chess':\n",
    "\n",
    "\"increment (in seconds) is the amount added after each move.\"\n",
    "\n",
    "</details>"
   ]
  },
  {
   "cell_type": "markdown",
   "metadata": {},
   "source": [
    "Now do your own! Make them headers, in markdown, in writing!"
   ]
  },
  {
   "cell_type": "code",
   "execution_count": null,
   "metadata": {},
   "outputs": [],
   "source": []
  },
  {
   "cell_type": "code",
   "execution_count": null,
   "metadata": {},
   "outputs": [],
   "source": []
  },
  {
   "cell_type": "code",
   "execution_count": null,
   "metadata": {},
   "outputs": [],
   "source": []
  },
  {
   "cell_type": "code",
   "execution_count": null,
   "metadata": {},
   "outputs": [],
   "source": []
  },
  {
   "cell_type": "markdown",
   "metadata": {},
   "source": [
    "### Question:\n",
    "\n",
    "Now let's put these skills together AGAIN in the way we would typically explore data. This is called EDA. Exploratory Data Analysis.\n",
    "\n",
    "Open exo.csv, skim https://exoplanetarchive.ipac.caltech.edu/docs/API_kepcandidate_columns.html and answer these questions.\n",
    "\n",
    "\n",
    "This time write your own markdown headers before you answer each question!\n",
    "\n",
    "1. how many rows of data do you have?\n",
    "1. What does each row represent?\n",
    "1. How many planets are confirmed?\n",
    "1. What is the maximum temperature of the planets?\n",
    "1. What is the maximum temperature of the stars?\n",
    "1. What is the distance between the planet and the star?\n",
    "1. How many planets are in each system?\n",
    "1. How much does the planet temperatures vary?\n",
    "1. How much does the star temperatures vary?\n",
    "1. How many NaNs are in each category?\n",
    "1. Ask three of your own questions *in writing*. Then answer them. (we write our questions because if you come back later you'll foget what question you were answering)\n"
   ]
  },
  {
   "cell_type": "markdown",
   "metadata": {},
   "source": [
    "No solutions provided. You got this."
   ]
  },
  {
   "cell_type": "code",
   "execution_count": null,
   "metadata": {},
   "outputs": [],
   "source": []
  },
  {
   "cell_type": "code",
   "execution_count": null,
   "metadata": {},
   "outputs": [],
   "source": []
  },
  {
   "cell_type": "code",
   "execution_count": null,
   "metadata": {},
   "outputs": [],
   "source": []
  },
  {
   "cell_type": "code",
   "execution_count": null,
   "metadata": {},
   "outputs": [],
   "source": []
  },
  {
   "cell_type": "markdown",
   "metadata": {},
   "source": [
    "## Joining DataFrames\n",
    "\n",
    "We can join DataFrames in a similar way that we join tables to SQL.  In fact, left, right, outer, and inner joins work the same way here."
   ]
  },
  {
   "cell_type": "markdown",
   "metadata": {},
   "source": [
    "Lets create a fake DataFrame to join with first."
   ]
  },
  {
   "cell_type": "code",
   "execution_count": 86,
   "metadata": {},
   "outputs": [
    {
     "data": {
      "text/html": [
       "<div>\n",
       "<style scoped>\n",
       "    .dataframe tbody tr th:only-of-type {\n",
       "        vertical-align: middle;\n",
       "    }\n",
       "\n",
       "    .dataframe tbody tr th {\n",
       "        vertical-align: top;\n",
       "    }\n",
       "\n",
       "    .dataframe thead th {\n",
       "        text-align: right;\n",
       "    }\n",
       "</style>\n",
       "<table border=\"1\" class=\"dataframe\">\n",
       "  <thead>\n",
       "    <tr style=\"text-align: right;\">\n",
       "      <th></th>\n",
       "      <th>Weather</th>\n",
       "      <th>Mood</th>\n",
       "    </tr>\n",
       "  </thead>\n",
       "  <tbody>\n",
       "    <tr>\n",
       "      <th>0</th>\n",
       "      <td>overcast</td>\n",
       "      <td>sad</td>\n",
       "    </tr>\n",
       "    <tr>\n",
       "      <th>1</th>\n",
       "      <td>rainy</td>\n",
       "      <td>sad</td>\n",
       "    </tr>\n",
       "    <tr>\n",
       "      <th>2</th>\n",
       "      <td>sunny</td>\n",
       "      <td>happy</td>\n",
       "    </tr>\n",
       "  </tbody>\n",
       "</table>\n",
       "</div>"
      ],
      "text/plain": [
       "    Weather   Mood\n",
       "0  overcast    sad\n",
       "1     rainy    sad\n",
       "2     sunny  happy"
      ]
     },
     "execution_count": 86,
     "metadata": {},
     "output_type": "execute_result"
    }
   ],
   "source": [
    "mood_df = pd.DataFrame([['overcast', 'sad'], ['rainy', 'sad'], ['sunny', 'happy']],\n",
    "                       columns=['Weather', 'Mood'])\n",
    "\n",
    "mood_df"
   ]
  },
  {
   "cell_type": "markdown",
   "metadata": {},
   "source": [
    "We can do joins using the merge command."
   ]
  },
  {
   "cell_type": "code",
   "execution_count": 87,
   "metadata": {},
   "outputs": [
    {
     "data": {
      "text/html": [
       "<div>\n",
       "<style scoped>\n",
       "    .dataframe tbody tr th:only-of-type {\n",
       "        vertical-align: middle;\n",
       "    }\n",
       "\n",
       "    .dataframe tbody tr th {\n",
       "        vertical-align: top;\n",
       "    }\n",
       "\n",
       "    .dataframe thead th {\n",
       "        text-align: right;\n",
       "    }\n",
       "</style>\n",
       "<table border=\"1\" class=\"dataframe\">\n",
       "  <thead>\n",
       "    <tr style=\"text-align: right;\">\n",
       "      <th></th>\n",
       "      <th>Date</th>\n",
       "      <th>Outlook</th>\n",
       "      <th>Temperature</th>\n",
       "      <th>Humidity</th>\n",
       "      <th>Windy</th>\n",
       "      <th>Result</th>\n",
       "      <th>TempHumid</th>\n",
       "      <th>HeatIndex</th>\n",
       "      <th>day</th>\n",
       "      <th>DateTime</th>\n",
       "      <th>Weather</th>\n",
       "      <th>Mood</th>\n",
       "    </tr>\n",
       "  </thead>\n",
       "  <tbody>\n",
       "    <tr>\n",
       "      <th>0</th>\n",
       "      <td>7/1/14</td>\n",
       "      <td>sunny</td>\n",
       "      <td>85</td>\n",
       "      <td>85</td>\n",
       "      <td>False</td>\n",
       "      <td>Don't Play</td>\n",
       "      <td>170</td>\n",
       "      <td>98.004631</td>\n",
       "      <td>1</td>\n",
       "      <td>2014-07-01</td>\n",
       "      <td>sunny</td>\n",
       "      <td>happy</td>\n",
       "    </tr>\n",
       "    <tr>\n",
       "      <th>1</th>\n",
       "      <td>7/2/14</td>\n",
       "      <td>sunny</td>\n",
       "      <td>80</td>\n",
       "      <td>90</td>\n",
       "      <td>True</td>\n",
       "      <td>Don't Play</td>\n",
       "      <td>170</td>\n",
       "      <td>84.474400</td>\n",
       "      <td>2</td>\n",
       "      <td>2014-07-02</td>\n",
       "      <td>sunny</td>\n",
       "      <td>happy</td>\n",
       "    </tr>\n",
       "    <tr>\n",
       "      <th>2</th>\n",
       "      <td>7/8/14</td>\n",
       "      <td>sunny</td>\n",
       "      <td>72</td>\n",
       "      <td>95</td>\n",
       "      <td>False</td>\n",
       "      <td>Don't Play</td>\n",
       "      <td>167</td>\n",
       "      <td>66.247396</td>\n",
       "      <td>8</td>\n",
       "      <td>2014-07-08</td>\n",
       "      <td>sunny</td>\n",
       "      <td>happy</td>\n",
       "    </tr>\n",
       "    <tr>\n",
       "      <th>3</th>\n",
       "      <td>7/9/14</td>\n",
       "      <td>sunny</td>\n",
       "      <td>69</td>\n",
       "      <td>70</td>\n",
       "      <td>False</td>\n",
       "      <td>Play</td>\n",
       "      <td>139</td>\n",
       "      <td>72.843649</td>\n",
       "      <td>9</td>\n",
       "      <td>2014-07-09</td>\n",
       "      <td>sunny</td>\n",
       "      <td>happy</td>\n",
       "    </tr>\n",
       "    <tr>\n",
       "      <th>4</th>\n",
       "      <td>7/11/14</td>\n",
       "      <td>sunny</td>\n",
       "      <td>75</td>\n",
       "      <td>70</td>\n",
       "      <td>True</td>\n",
       "      <td>Play</td>\n",
       "      <td>145</td>\n",
       "      <td>75.777625</td>\n",
       "      <td>11</td>\n",
       "      <td>2014-07-11</td>\n",
       "      <td>sunny</td>\n",
       "      <td>happy</td>\n",
       "    </tr>\n",
       "    <tr>\n",
       "      <th>5</th>\n",
       "      <td>7/3/14</td>\n",
       "      <td>overcast</td>\n",
       "      <td>83</td>\n",
       "      <td>78</td>\n",
       "      <td>False</td>\n",
       "      <td>Play</td>\n",
       "      <td>161</td>\n",
       "      <td>89.669911</td>\n",
       "      <td>3</td>\n",
       "      <td>2014-07-03</td>\n",
       "      <td>overcast</td>\n",
       "      <td>sad</td>\n",
       "    </tr>\n",
       "    <tr>\n",
       "      <th>6</th>\n",
       "      <td>7/7/14</td>\n",
       "      <td>overcast</td>\n",
       "      <td>64</td>\n",
       "      <td>65</td>\n",
       "      <td>True</td>\n",
       "      <td>Play</td>\n",
       "      <td>129</td>\n",
       "      <td>75.987116</td>\n",
       "      <td>7</td>\n",
       "      <td>2014-07-07</td>\n",
       "      <td>overcast</td>\n",
       "      <td>sad</td>\n",
       "    </tr>\n",
       "    <tr>\n",
       "      <th>7</th>\n",
       "      <td>7/12/14</td>\n",
       "      <td>overcast</td>\n",
       "      <td>72</td>\n",
       "      <td>90</td>\n",
       "      <td>True</td>\n",
       "      <td>Play</td>\n",
       "      <td>162</td>\n",
       "      <td>68.106944</td>\n",
       "      <td>12</td>\n",
       "      <td>2014-07-12</td>\n",
       "      <td>overcast</td>\n",
       "      <td>sad</td>\n",
       "    </tr>\n",
       "    <tr>\n",
       "      <th>8</th>\n",
       "      <td>7/13/14</td>\n",
       "      <td>overcast</td>\n",
       "      <td>81</td>\n",
       "      <td>75</td>\n",
       "      <td>False</td>\n",
       "      <td>Play</td>\n",
       "      <td>156</td>\n",
       "      <td>84.523441</td>\n",
       "      <td>13</td>\n",
       "      <td>2014-07-13</td>\n",
       "      <td>overcast</td>\n",
       "      <td>sad</td>\n",
       "    </tr>\n",
       "  </tbody>\n",
       "</table>\n",
       "</div>"
      ],
      "text/plain": [
       "      Date   Outlook  Temperature  Humidity  Windy      Result  TempHumid  \\\n",
       "0   7/1/14     sunny           85        85  False  Don't Play        170   \n",
       "1   7/2/14     sunny           80        90   True  Don't Play        170   \n",
       "2   7/8/14     sunny           72        95  False  Don't Play        167   \n",
       "3   7/9/14     sunny           69        70  False        Play        139   \n",
       "4  7/11/14     sunny           75        70   True        Play        145   \n",
       "5   7/3/14  overcast           83        78  False        Play        161   \n",
       "6   7/7/14  overcast           64        65   True        Play        129   \n",
       "7  7/12/14  overcast           72        90   True        Play        162   \n",
       "8  7/13/14  overcast           81        75  False        Play        156   \n",
       "\n",
       "   HeatIndex day   DateTime   Weather   Mood  \n",
       "0  98.004631   1 2014-07-01     sunny  happy  \n",
       "1  84.474400   2 2014-07-02     sunny  happy  \n",
       "2  66.247396   8 2014-07-08     sunny  happy  \n",
       "3  72.843649   9 2014-07-09     sunny  happy  \n",
       "4  75.777625  11 2014-07-11     sunny  happy  \n",
       "5  89.669911   3 2014-07-03  overcast    sad  \n",
       "6  75.987116   7 2014-07-07  overcast    sad  \n",
       "7  68.106944  12 2014-07-12  overcast    sad  \n",
       "8  84.523441  13 2014-07-13  overcast    sad  "
      ]
     },
     "execution_count": 87,
     "metadata": {},
     "output_type": "execute_result"
    }
   ],
   "source": [
    "golf_df.merge(mood_df, how='inner', left_on='Outlook', right_on='Weather')"
   ]
  },
  {
   "cell_type": "markdown",
   "metadata": {},
   "source": [
    "There are, of course, other options besides `inner`, which you can find in the documentation."
   ]
  },
  {
   "cell_type": "markdown",
   "metadata": {},
   "source": [
    "## Concatenating dataframes\n",
    "\n",
    "This is the equivalent of Unions in SQL, but a little more flexible."
   ]
  },
  {
   "cell_type": "code",
   "execution_count": 88,
   "metadata": {},
   "outputs": [],
   "source": [
    "df1 = pd.DataFrame(\n",
    "    {'Col3': range(5), 'Col2': range(5), 'Col1': range(5)},\n",
    "    index=range(0, 5))\n",
    "df2 = pd.DataFrame(\n",
    "    {'Col1': range(5), 'Col2': range(5), 'Col4': range(5)},\n",
    "    index=range(3, 8))"
   ]
  },
  {
   "cell_type": "code",
   "execution_count": 89,
   "metadata": {},
   "outputs": [
    {
     "data": {
      "text/html": [
       "<div>\n",
       "<style scoped>\n",
       "    .dataframe tbody tr th:only-of-type {\n",
       "        vertical-align: middle;\n",
       "    }\n",
       "\n",
       "    .dataframe tbody tr th {\n",
       "        vertical-align: top;\n",
       "    }\n",
       "\n",
       "    .dataframe thead th {\n",
       "        text-align: right;\n",
       "    }\n",
       "</style>\n",
       "<table border=\"1\" class=\"dataframe\">\n",
       "  <thead>\n",
       "    <tr style=\"text-align: right;\">\n",
       "      <th></th>\n",
       "      <th>Col3</th>\n",
       "      <th>Col2</th>\n",
       "      <th>Col1</th>\n",
       "    </tr>\n",
       "  </thead>\n",
       "  <tbody>\n",
       "    <tr>\n",
       "      <th>0</th>\n",
       "      <td>0</td>\n",
       "      <td>0</td>\n",
       "      <td>0</td>\n",
       "    </tr>\n",
       "    <tr>\n",
       "      <th>1</th>\n",
       "      <td>1</td>\n",
       "      <td>1</td>\n",
       "      <td>1</td>\n",
       "    </tr>\n",
       "    <tr>\n",
       "      <th>2</th>\n",
       "      <td>2</td>\n",
       "      <td>2</td>\n",
       "      <td>2</td>\n",
       "    </tr>\n",
       "    <tr>\n",
       "      <th>3</th>\n",
       "      <td>3</td>\n",
       "      <td>3</td>\n",
       "      <td>3</td>\n",
       "    </tr>\n",
       "    <tr>\n",
       "      <th>4</th>\n",
       "      <td>4</td>\n",
       "      <td>4</td>\n",
       "      <td>4</td>\n",
       "    </tr>\n",
       "  </tbody>\n",
       "</table>\n",
       "</div>"
      ],
      "text/plain": [
       "   Col3  Col2  Col1\n",
       "0     0     0     0\n",
       "1     1     1     1\n",
       "2     2     2     2\n",
       "3     3     3     3\n",
       "4     4     4     4"
      ]
     },
     "execution_count": 89,
     "metadata": {},
     "output_type": "execute_result"
    }
   ],
   "source": [
    "df1"
   ]
  },
  {
   "cell_type": "code",
   "execution_count": 90,
   "metadata": {},
   "outputs": [
    {
     "data": {
      "text/html": [
       "<div>\n",
       "<style scoped>\n",
       "    .dataframe tbody tr th:only-of-type {\n",
       "        vertical-align: middle;\n",
       "    }\n",
       "\n",
       "    .dataframe tbody tr th {\n",
       "        vertical-align: top;\n",
       "    }\n",
       "\n",
       "    .dataframe thead th {\n",
       "        text-align: right;\n",
       "    }\n",
       "</style>\n",
       "<table border=\"1\" class=\"dataframe\">\n",
       "  <thead>\n",
       "    <tr style=\"text-align: right;\">\n",
       "      <th></th>\n",
       "      <th>Col1</th>\n",
       "      <th>Col2</th>\n",
       "      <th>Col4</th>\n",
       "    </tr>\n",
       "  </thead>\n",
       "  <tbody>\n",
       "    <tr>\n",
       "      <th>3</th>\n",
       "      <td>0</td>\n",
       "      <td>0</td>\n",
       "      <td>0</td>\n",
       "    </tr>\n",
       "    <tr>\n",
       "      <th>4</th>\n",
       "      <td>1</td>\n",
       "      <td>1</td>\n",
       "      <td>1</td>\n",
       "    </tr>\n",
       "    <tr>\n",
       "      <th>5</th>\n",
       "      <td>2</td>\n",
       "      <td>2</td>\n",
       "      <td>2</td>\n",
       "    </tr>\n",
       "    <tr>\n",
       "      <th>6</th>\n",
       "      <td>3</td>\n",
       "      <td>3</td>\n",
       "      <td>3</td>\n",
       "    </tr>\n",
       "    <tr>\n",
       "      <th>7</th>\n",
       "      <td>4</td>\n",
       "      <td>4</td>\n",
       "      <td>4</td>\n",
       "    </tr>\n",
       "  </tbody>\n",
       "</table>\n",
       "</div>"
      ],
      "text/plain": [
       "   Col1  Col2  Col4\n",
       "3     0     0     0\n",
       "4     1     1     1\n",
       "5     2     2     2\n",
       "6     3     3     3\n",
       "7     4     4     4"
      ]
     },
     "execution_count": 90,
     "metadata": {},
     "output_type": "execute_result"
    }
   ],
   "source": [
    "df2"
   ]
  },
  {
   "cell_type": "markdown",
   "metadata": {},
   "source": [
    "#### Vertically\n",
    "\n",
    "This is like a Union All. The `sort` parameter controls the order of the columns in the output."
   ]
  },
  {
   "cell_type": "code",
   "execution_count": 91,
   "metadata": {},
   "outputs": [
    {
     "data": {
      "text/html": [
       "<div>\n",
       "<style scoped>\n",
       "    .dataframe tbody tr th:only-of-type {\n",
       "        vertical-align: middle;\n",
       "    }\n",
       "\n",
       "    .dataframe tbody tr th {\n",
       "        vertical-align: top;\n",
       "    }\n",
       "\n",
       "    .dataframe thead th {\n",
       "        text-align: right;\n",
       "    }\n",
       "</style>\n",
       "<table border=\"1\" class=\"dataframe\">\n",
       "  <thead>\n",
       "    <tr style=\"text-align: right;\">\n",
       "      <th></th>\n",
       "      <th>Col1</th>\n",
       "      <th>Col2</th>\n",
       "      <th>Col3</th>\n",
       "      <th>Col4</th>\n",
       "    </tr>\n",
       "  </thead>\n",
       "  <tbody>\n",
       "    <tr>\n",
       "      <th>0</th>\n",
       "      <td>0</td>\n",
       "      <td>0</td>\n",
       "      <td>0.0</td>\n",
       "      <td>NaN</td>\n",
       "    </tr>\n",
       "    <tr>\n",
       "      <th>1</th>\n",
       "      <td>1</td>\n",
       "      <td>1</td>\n",
       "      <td>1.0</td>\n",
       "      <td>NaN</td>\n",
       "    </tr>\n",
       "    <tr>\n",
       "      <th>2</th>\n",
       "      <td>2</td>\n",
       "      <td>2</td>\n",
       "      <td>2.0</td>\n",
       "      <td>NaN</td>\n",
       "    </tr>\n",
       "    <tr>\n",
       "      <th>3</th>\n",
       "      <td>3</td>\n",
       "      <td>3</td>\n",
       "      <td>3.0</td>\n",
       "      <td>NaN</td>\n",
       "    </tr>\n",
       "    <tr>\n",
       "      <th>4</th>\n",
       "      <td>4</td>\n",
       "      <td>4</td>\n",
       "      <td>4.0</td>\n",
       "      <td>NaN</td>\n",
       "    </tr>\n",
       "    <tr>\n",
       "      <th>3</th>\n",
       "      <td>0</td>\n",
       "      <td>0</td>\n",
       "      <td>NaN</td>\n",
       "      <td>0.0</td>\n",
       "    </tr>\n",
       "    <tr>\n",
       "      <th>4</th>\n",
       "      <td>1</td>\n",
       "      <td>1</td>\n",
       "      <td>NaN</td>\n",
       "      <td>1.0</td>\n",
       "    </tr>\n",
       "    <tr>\n",
       "      <th>5</th>\n",
       "      <td>2</td>\n",
       "      <td>2</td>\n",
       "      <td>NaN</td>\n",
       "      <td>2.0</td>\n",
       "    </tr>\n",
       "    <tr>\n",
       "      <th>6</th>\n",
       "      <td>3</td>\n",
       "      <td>3</td>\n",
       "      <td>NaN</td>\n",
       "      <td>3.0</td>\n",
       "    </tr>\n",
       "    <tr>\n",
       "      <th>7</th>\n",
       "      <td>4</td>\n",
       "      <td>4</td>\n",
       "      <td>NaN</td>\n",
       "      <td>4.0</td>\n",
       "    </tr>\n",
       "  </tbody>\n",
       "</table>\n",
       "</div>"
      ],
      "text/plain": [
       "   Col1  Col2  Col3  Col4\n",
       "0     0     0   0.0   NaN\n",
       "1     1     1   1.0   NaN\n",
       "2     2     2   2.0   NaN\n",
       "3     3     3   3.0   NaN\n",
       "4     4     4   4.0   NaN\n",
       "3     0     0   NaN   0.0\n",
       "4     1     1   NaN   1.0\n",
       "5     2     2   NaN   2.0\n",
       "6     3     3   NaN   3.0\n",
       "7     4     4   NaN   4.0"
      ]
     },
     "execution_count": 91,
     "metadata": {},
     "output_type": "execute_result"
    }
   ],
   "source": [
    "pd.concat([df1, df2], axis=0, join='outer', sort=True)"
   ]
  },
  {
   "cell_type": "markdown",
   "metadata": {},
   "source": [
    "An `inner` value limits the columns to those in all the inputs."
   ]
  },
  {
   "cell_type": "code",
   "execution_count": 92,
   "metadata": {},
   "outputs": [
    {
     "data": {
      "text/html": [
       "<div>\n",
       "<style scoped>\n",
       "    .dataframe tbody tr th:only-of-type {\n",
       "        vertical-align: middle;\n",
       "    }\n",
       "\n",
       "    .dataframe tbody tr th {\n",
       "        vertical-align: top;\n",
       "    }\n",
       "\n",
       "    .dataframe thead th {\n",
       "        text-align: right;\n",
       "    }\n",
       "</style>\n",
       "<table border=\"1\" class=\"dataframe\">\n",
       "  <thead>\n",
       "    <tr style=\"text-align: right;\">\n",
       "      <th></th>\n",
       "      <th>Col1</th>\n",
       "      <th>Col2</th>\n",
       "    </tr>\n",
       "  </thead>\n",
       "  <tbody>\n",
       "    <tr>\n",
       "      <th>0</th>\n",
       "      <td>0</td>\n",
       "      <td>0</td>\n",
       "    </tr>\n",
       "    <tr>\n",
       "      <th>1</th>\n",
       "      <td>1</td>\n",
       "      <td>1</td>\n",
       "    </tr>\n",
       "    <tr>\n",
       "      <th>2</th>\n",
       "      <td>2</td>\n",
       "      <td>2</td>\n",
       "    </tr>\n",
       "    <tr>\n",
       "      <th>3</th>\n",
       "      <td>3</td>\n",
       "      <td>3</td>\n",
       "    </tr>\n",
       "    <tr>\n",
       "      <th>4</th>\n",
       "      <td>4</td>\n",
       "      <td>4</td>\n",
       "    </tr>\n",
       "    <tr>\n",
       "      <th>3</th>\n",
       "      <td>0</td>\n",
       "      <td>0</td>\n",
       "    </tr>\n",
       "    <tr>\n",
       "      <th>4</th>\n",
       "      <td>1</td>\n",
       "      <td>1</td>\n",
       "    </tr>\n",
       "    <tr>\n",
       "      <th>5</th>\n",
       "      <td>2</td>\n",
       "      <td>2</td>\n",
       "    </tr>\n",
       "    <tr>\n",
       "      <th>6</th>\n",
       "      <td>3</td>\n",
       "      <td>3</td>\n",
       "    </tr>\n",
       "    <tr>\n",
       "      <th>7</th>\n",
       "      <td>4</td>\n",
       "      <td>4</td>\n",
       "    </tr>\n",
       "  </tbody>\n",
       "</table>\n",
       "</div>"
      ],
      "text/plain": [
       "   Col1  Col2\n",
       "0     0     0\n",
       "1     1     1\n",
       "2     2     2\n",
       "3     3     3\n",
       "4     4     4\n",
       "3     0     0\n",
       "4     1     1\n",
       "5     2     2\n",
       "6     3     3\n",
       "7     4     4"
      ]
     },
     "execution_count": 92,
     "metadata": {},
     "output_type": "execute_result"
    }
   ],
   "source": [
    "pd.concat([df1, df2], axis=0, join='inner', sort=True)"
   ]
  },
  {
   "cell_type": "markdown",
   "metadata": {},
   "source": [
    "#### Horizontally\n",
    "\n",
    "This is pretty much a simple join on indices.  While `concat` is capable of doing joins, it is far less flexible."
   ]
  },
  {
   "cell_type": "code",
   "execution_count": 93,
   "metadata": {},
   "outputs": [
    {
     "data": {
      "text/html": [
       "<div>\n",
       "<style scoped>\n",
       "    .dataframe tbody tr th:only-of-type {\n",
       "        vertical-align: middle;\n",
       "    }\n",
       "\n",
       "    .dataframe tbody tr th {\n",
       "        vertical-align: top;\n",
       "    }\n",
       "\n",
       "    .dataframe thead th {\n",
       "        text-align: right;\n",
       "    }\n",
       "</style>\n",
       "<table border=\"1\" class=\"dataframe\">\n",
       "  <thead>\n",
       "    <tr style=\"text-align: right;\">\n",
       "      <th></th>\n",
       "      <th>Col3</th>\n",
       "      <th>Col2</th>\n",
       "      <th>Col1</th>\n",
       "      <th>Col1</th>\n",
       "      <th>Col2</th>\n",
       "      <th>Col4</th>\n",
       "    </tr>\n",
       "  </thead>\n",
       "  <tbody>\n",
       "    <tr>\n",
       "      <th>0</th>\n",
       "      <td>0.0</td>\n",
       "      <td>0.0</td>\n",
       "      <td>0.0</td>\n",
       "      <td>NaN</td>\n",
       "      <td>NaN</td>\n",
       "      <td>NaN</td>\n",
       "    </tr>\n",
       "    <tr>\n",
       "      <th>1</th>\n",
       "      <td>1.0</td>\n",
       "      <td>1.0</td>\n",
       "      <td>1.0</td>\n",
       "      <td>NaN</td>\n",
       "      <td>NaN</td>\n",
       "      <td>NaN</td>\n",
       "    </tr>\n",
       "    <tr>\n",
       "      <th>2</th>\n",
       "      <td>2.0</td>\n",
       "      <td>2.0</td>\n",
       "      <td>2.0</td>\n",
       "      <td>NaN</td>\n",
       "      <td>NaN</td>\n",
       "      <td>NaN</td>\n",
       "    </tr>\n",
       "    <tr>\n",
       "      <th>3</th>\n",
       "      <td>3.0</td>\n",
       "      <td>3.0</td>\n",
       "      <td>3.0</td>\n",
       "      <td>0.0</td>\n",
       "      <td>0.0</td>\n",
       "      <td>0.0</td>\n",
       "    </tr>\n",
       "    <tr>\n",
       "      <th>4</th>\n",
       "      <td>4.0</td>\n",
       "      <td>4.0</td>\n",
       "      <td>4.0</td>\n",
       "      <td>1.0</td>\n",
       "      <td>1.0</td>\n",
       "      <td>1.0</td>\n",
       "    </tr>\n",
       "    <tr>\n",
       "      <th>5</th>\n",
       "      <td>NaN</td>\n",
       "      <td>NaN</td>\n",
       "      <td>NaN</td>\n",
       "      <td>2.0</td>\n",
       "      <td>2.0</td>\n",
       "      <td>2.0</td>\n",
       "    </tr>\n",
       "    <tr>\n",
       "      <th>6</th>\n",
       "      <td>NaN</td>\n",
       "      <td>NaN</td>\n",
       "      <td>NaN</td>\n",
       "      <td>3.0</td>\n",
       "      <td>3.0</td>\n",
       "      <td>3.0</td>\n",
       "    </tr>\n",
       "    <tr>\n",
       "      <th>7</th>\n",
       "      <td>NaN</td>\n",
       "      <td>NaN</td>\n",
       "      <td>NaN</td>\n",
       "      <td>4.0</td>\n",
       "      <td>4.0</td>\n",
       "      <td>4.0</td>\n",
       "    </tr>\n",
       "  </tbody>\n",
       "</table>\n",
       "</div>"
      ],
      "text/plain": [
       "   Col3  Col2  Col1  Col1  Col2  Col4\n",
       "0   0.0   0.0   0.0   NaN   NaN   NaN\n",
       "1   1.0   1.0   1.0   NaN   NaN   NaN\n",
       "2   2.0   2.0   2.0   NaN   NaN   NaN\n",
       "3   3.0   3.0   3.0   0.0   0.0   0.0\n",
       "4   4.0   4.0   4.0   1.0   1.0   1.0\n",
       "5   NaN   NaN   NaN   2.0   2.0   2.0\n",
       "6   NaN   NaN   NaN   3.0   3.0   3.0\n",
       "7   NaN   NaN   NaN   4.0   4.0   4.0"
      ]
     },
     "execution_count": 93,
     "metadata": {},
     "output_type": "execute_result"
    }
   ],
   "source": [
    "pd.concat([df1, df2], axis=1)"
   ]
  },
  {
   "cell_type": "markdown",
   "metadata": {},
   "source": [
    "**Question:** why do some numbers show up as floats? Why do some numbers not?"
   ]
  },
  {
   "cell_type": "markdown",
   "metadata": {},
   "source": [
    "For more on joining DataFrames, read https://pandas.pydata.org/pandas-docs/stable/merging.html"
   ]
  },
  {
   "cell_type": "code",
   "execution_count": null,
   "metadata": {},
   "outputs": [],
   "source": []
  }
 ],
 "metadata": {
  "anaconda-cloud": {},
  "kernelspec": {
   "display_name": "Python 3",
   "language": "python",
   "name": "python3"
  },
  "language_info": {
   "codemirror_mode": {
    "name": "ipython",
    "version": 3
   },
   "file_extension": ".py",
   "mimetype": "text/x-python",
   "name": "python",
   "nbconvert_exporter": "python",
   "pygments_lexer": "ipython3",
   "version": "3.8.8"
  },
  "toc": {
   "base_numbering": 1,
   "nav_menu": {},
   "number_sections": true,
   "sideBar": true,
   "skip_h1_title": false,
   "title_cell": "Table of Contents",
   "title_sidebar": "Contents",
   "toc_cell": false,
   "toc_position": {
    "height": "calc(100% - 180px)",
    "left": "10px",
    "top": "150px",
    "width": "256px"
   },
   "toc_section_display": true,
   "toc_window_display": true
  }
 },
 "nbformat": 4,
 "nbformat_minor": 1
}
